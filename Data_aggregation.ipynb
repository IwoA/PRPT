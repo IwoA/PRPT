{
 "cells": [
  {
   "cell_type": "markdown",
   "id": "a739e450-e453-4169-a5ef-d6e1feed7b10",
   "metadata": {},
   "source": [
    "# Data grouping and aggregation\n",
    "\n",
    "## Grouping\n",
    "\n",
    "Categorizing a dataset and applying a function to each group, whether an aggregation or transformation, can be a critical component of a data analysis workflow. After loading, merging, and preparing a dataset, you may need to compute group statistics or possibly pivot tables for reporting or visualization purposes. pandas provides a versatile `groupby` interface, enabling you to slice, dice, and summarize datasets in a natural way.\n",
    "\n",
    "Hadley Wickham, an author of many popular packages for the R programming language, coined the term split-apply-combine for describing group operations. In the first stage of the process, data contained in a pandas object, whether a Series, DataFrame, or otherwise, is split into groups based on one or more keys that you provide. The splitting is performed on a particular axis of an object. For example, a DataFrame can be grouped on its rows (`axis=\"index\"`) or its columns (`axis=\"columns\"`). Once this is done, a function is applied to each group, producing a new value. Finally, the results of all those function applications are combined into a result object. "
   ]
  },
  {
   "cell_type": "code",
   "execution_count": null,
   "id": "5aa26a7b-31da-4438-bdf2-c97f5b667efd",
   "metadata": {},
   "outputs": [],
   "source": [
    "# Loading packages\n",
    "import pandas as pd\n",
    "import numpy as np"
   ]
  },
  {
   "cell_type": "code",
   "execution_count": null,
   "id": "ca54370c-29c0-4d60-a104-e053f0f71fa1",
   "metadata": {},
   "outputs": [],
   "source": [
    "# Preparing dataset for later use\n",
    "pov = pd.read_csv(\"C:\\\\Users\\\\iwo.augustynski\\\\Downloads\\\\share-of-population-in-extreme-poverty.csv\", parse_dates=[\"Year\"])\n",
    "\n",
    "s = pov.Code.unique() # take only unique values from 'Code' column\n",
    "s = np.random.choice(s, size = 10) # take 10 random values from previous line\n",
    "\n",
    "pov_sample = pov[pov.Code.isin (s)] # take selected 10 random countries from the dataset\n"
   ]
  },
  {
   "cell_type": "code",
   "execution_count": null,
   "id": "2e76e71e-0275-46c6-a99c-dfc351d42c8f",
   "metadata": {},
   "outputs": [],
   "source": [
    "# Let's start with following DataFrame\n",
    "\n",
    "df = pd.DataFrame({\"key1\" : [\"a\", \"a\", None, \"b\", \"b\", \"a\", None],\n",
    "                   \"key2\" : pd.Series([1, 2, 1, 2, 1, None, 1], dtype=\"Int64\"),\n",
    "                   \"data1\" : np.random.standard_normal(7),\n",
    "                   \"data2\" : np.random.standard_normal(7)})\n",
    "\n",
    "df"
   ]
  },
  {
   "cell_type": "markdown",
   "id": "c40eb05c-ae67-413f-a27e-5c3c548a007f",
   "metadata": {},
   "source": [
    "Suppose you wanted to compute the mean of the `data1` column in groups indicated by labels from `key1`. "
   ]
  },
  {
   "cell_type": "code",
   "execution_count": null,
   "id": "7c621939-97f4-4766-bd21-364a4e6a6f82",
   "metadata": {},
   "outputs": [],
   "source": [
    "grouped = df[\"data1\"].groupby(df[\"key1\"])\n",
    "\n",
    "grouped"
   ]
  },
  {
   "cell_type": "markdown",
   "id": "f8139367-8770-438a-b9bd-eee2f2fc82ab",
   "metadata": {},
   "source": [
    "This `grouped` variable is now a special \"GroupBy\" object. It has not actually computed anything yet except for some intermediate data about the group key `df[\"key1\"]`. The idea is that this object has all of the information needed to then apply some operation to each of the groups. You should be familiar with this behavior because it is the same as in `R`.\n",
    "For example, to compute group means we can call the GroupBy’s mean method:"
   ]
  },
  {
   "cell_type": "code",
   "execution_count": null,
   "id": "66714abf-5325-45d4-84ac-950721dd65f1",
   "metadata": {},
   "outputs": [],
   "source": [
    "grouped.mean()"
   ]
  },
  {
   "cell_type": "markdown",
   "id": "f5522a0b-e645-4080-8ae8-22c7fb245597",
   "metadata": {},
   "source": [
    "The result is not telling much. Definitely we went to far. We should select just one column and pass multiple groupings as a list to get more informative outcome:"
   ]
  },
  {
   "cell_type": "code",
   "execution_count": null,
   "id": "e2f91b01-e7a4-4601-ad04-32b19ea662e7",
   "metadata": {},
   "outputs": [],
   "source": [
    "means = df[\"data1\"].groupby([df[\"key1\"], df[\"key2\"]]).mean()\n",
    "\n",
    "means"
   ]
  },
  {
   "cell_type": "markdown",
   "id": "63009ed1-0451-4e83-ba03-8f4d7b49a137",
   "metadata": {},
   "source": [
    "As result we got new DataFrame with values from the `data1` column grouped using two keys, and the resulting Series now has a hierarchical index consisting of the unique pairs of keys observed:"
   ]
  },
  {
   "cell_type": "code",
   "execution_count": null,
   "id": "a46ee799-dfc4-4cde-8143-0b855b78f613",
   "metadata": {},
   "outputs": [],
   "source": [
    "means.unstack()"
   ]
  },
  {
   "cell_type": "markdown",
   "id": "da5aec03-ee34-4e2a-8edb-21f98624c69c",
   "metadata": {},
   "source": [
    "As you can check in each group is only one value thus calculating mean doesn't change anything."
   ]
  },
  {
   "cell_type": "code",
   "execution_count": null,
   "id": "438b9648-c6f5-4111-8a05-d80bbb3352bb",
   "metadata": {
    "tags": []
   },
   "outputs": [],
   "source": [
    "df"
   ]
  },
  {
   "cell_type": "markdown",
   "id": "d2c22f87-1e94-4ae2-afa3-ac8d9e5c6a25",
   "metadata": {},
   "source": [
    "You can also just pass column names as the group keys:"
   ]
  },
  {
   "cell_type": "code",
   "execution_count": null,
   "id": "f875322a-b977-4a12-b0d8-5118fac4498c",
   "metadata": {},
   "outputs": [],
   "source": [
    "df.groupby(\"key1\").mean()"
   ]
  },
  {
   "cell_type": "code",
   "execution_count": null,
   "id": "afb15bd9-c64d-4e1c-82e1-366cfe6770cd",
   "metadata": {},
   "outputs": [],
   "source": [
    "df.groupby(\"key2\").mean()"
   ]
  },
  {
   "cell_type": "markdown",
   "id": "b60f2718-15a7-4009-99cd-4028913ee226",
   "metadata": {},
   "source": [
    "You may have noticed, that there is no `key1` column in the result. Because `df[\"key1\"]` is not numeric data, it is said to be a *nuisance column*, which is therefore automatically excluded from the result. By default, all of the numeric columns are aggregated, though it is possible to filter down to a subset."
   ]
  },
  {
   "cell_type": "code",
   "execution_count": null,
   "id": "e8de5322-9329-49c1-82b8-3387f18818d5",
   "metadata": {},
   "outputs": [],
   "source": [
    "df.groupby([\"key1\", \"key2\"]).mean()"
   ]
  },
  {
   "cell_type": "markdown",
   "id": "7aff9e46-0e3b-4ae8-a23b-52860ea37044",
   "metadata": {},
   "source": [
    "But if you want to do the same for one column in DataFrame that won't work:"
   ]
  },
  {
   "cell_type": "code",
   "execution_count": null,
   "id": "92d2a38f-daf9-4f84-aa3e-4bda9b109dae",
   "metadata": {},
   "outputs": [],
   "source": [
    "df[\"data1\"].groupby([\"key1\",\"key2\"]).mean()"
   ]
  },
  {
   "cell_type": "markdown",
   "id": "8a2d825a-c895-4085-b96e-30b44cb44ce7",
   "metadata": {},
   "source": [
    "It can't work because you first substracted a column as a Series therefore information about grouping was gone.\n",
    "Understanding this allows to properly rearrange the code:"
   ]
  },
  {
   "cell_type": "code",
   "execution_count": null,
   "id": "d0577979-db21-406a-a09b-196cb5be2f31",
   "metadata": {},
   "outputs": [],
   "source": [
    "df.groupby(\"key1\")[\"data1\"].mean()"
   ]
  },
  {
   "cell_type": "markdown",
   "id": "c8c145bf-92d8-4e79-88db-dbeac5d32928",
   "metadata": {},
   "source": [
    "As you can see now whole DataFrame is grouped and then desired column is selected. `df.groupby(\"key1\")[[\"data1\"]].mean()` works as well. They differ slightly in the type of output:"
   ]
  },
  {
   "cell_type": "code",
   "execution_count": null,
   "id": "e31fcc9d-3876-4e2e-ac79-fee201f5c568",
   "metadata": {},
   "outputs": [],
   "source": [
    "print(type(df.groupby(\"key1\")[[\"data1\"]].mean()))\n",
    "print(type(df.groupby(\"key1\")[\"data1\"].mean()))"
   ]
  },
  {
   "cell_type": "markdown",
   "id": "71a51918-b69b-4c0b-8f02-3c8f00ecba90",
   "metadata": {},
   "source": [
    "Regardless of the objective in using `groupby`, a generally useful GroupBy method is `size`, which returns a Series containing group sizes:"
   ]
  },
  {
   "cell_type": "code",
   "execution_count": null,
   "id": "61afb09d-4fc4-400e-a73b-42b53bdebea8",
   "metadata": {},
   "outputs": [],
   "source": [
    "df.groupby([\"key1\", \"key2\"]).size()"
   ]
  },
  {
   "cell_type": "markdown",
   "id": "15461393-4b21-4993-bfe6-16ca40995b11",
   "metadata": {},
   "source": [
    "Note that any missing values in a group key are excluded from the result by default. This behavior can be disabled by passing `dropna=False` to `groupby`:"
   ]
  },
  {
   "cell_type": "code",
   "execution_count": null,
   "id": "748e0f93-218e-431e-a3e0-9590e0661133",
   "metadata": {},
   "outputs": [],
   "source": [
    "df.groupby(\"key1\", dropna=False).size()"
   ]
  },
  {
   "cell_type": "markdown",
   "id": "9a1d292f-3126-4fc6-bd16-23f63dde047b",
   "metadata": {},
   "source": [
    "A group function similar in spirit to size is `count`, which computes the number of nonnull values in each group:"
   ]
  },
  {
   "cell_type": "code",
   "execution_count": null,
   "id": "54072de1-8e30-45cc-a5fd-fa6bf0270cea",
   "metadata": {},
   "outputs": [],
   "source": [
    "df.groupby(\"key1\").count()"
   ]
  },
  {
   "cell_type": "markdown",
   "id": "e7c1128e-141d-44fd-bc5e-7aeabd7a0b08",
   "metadata": {},
   "source": [
    "## **Assignment**\n",
    "\n",
    "From `pov_sample` dataset:\n",
    "\n",
    "1. count how many datapoints (Years) are for each country. Result should consist only two columns: Entity and Year.\n",
    "\n",
    "2. From `count` select country with highest number of years available. Result should still consist columns Entity and Year.\n",
    "\n",
    "3. From `count` select country with lowest number of years available. Result should still consist columns Entity and Year. Use `.loc` method.\n",
    "\n",
    "4. calculate mean share of population below poverty line for each country. Result should consist only two columns: 'Entity' and '$2.15 a day - share of population below poverty line'\n"
   ]
  },
  {
   "cell_type": "code",
   "execution_count": null,
   "id": "529996c4-ecaa-4524-8a81-be6336d6b5e4",
   "metadata": {
    "deletable": false,
    "jp-MarkdownHeadingCollapsed": true,
    "nbgrader": {
     "cell_type": "code",
     "checksum": "b7c9f42ed73305d8b0b1a9e8b1141b7f",
     "grade": false,
     "grade_id": "cell-46ad90155ada4a26",
     "locked": false,
     "schema_version": 3,
     "solution": true,
     "task": false
    },
    "tags": []
   },
   "outputs": [],
   "source": [
    "# YOUR CODE HERE\n",
    "raise NotImplementedError()\n",
    "\n",
    "count"
   ]
  },
  {
   "cell_type": "code",
   "execution_count": null,
   "id": "c5eb7d4b-e4ae-498e-9c03-42269f992c03",
   "metadata": {
    "deletable": false,
    "nbgrader": {
     "cell_type": "code",
     "checksum": "d0b8387ef90e467a0148037226229334",
     "grade": false,
     "grade_id": "cell-a0f71ffec83c0e5e",
     "locked": false,
     "schema_version": 3,
     "solution": true,
     "task": false
    },
    "tags": []
   },
   "outputs": [],
   "source": [
    "# YOUR CODE HERE\n",
    "raise NotImplementedError()\n",
    "\n",
    "print(maximum)\n",
    "print(minimum)"
   ]
  },
  {
   "cell_type": "code",
   "execution_count": null,
   "id": "c6de2986-edd8-4f0c-bd68-cff98df223f5",
   "metadata": {
    "deletable": false,
    "nbgrader": {
     "cell_type": "code",
     "checksum": "486a1f16eb0c5e1b0cb7fdffdf25573d",
     "grade": false,
     "grade_id": "cell-1d7457bd5f83378e",
     "locked": false,
     "schema_version": 3,
     "solution": true,
     "task": false
    },
    "tags": []
   },
   "outputs": [],
   "source": [
    "# YOUR CODE HERE\n",
    "raise NotImplementedError()\n",
    "means"
   ]
  },
  {
   "cell_type": "markdown",
   "id": "e1508f8e-d2fa-4ee9-925c-27194f8834f4",
   "metadata": {},
   "source": [
    "## Aggregation\n",
    "\n",
    "Aggregations refer to any data transformation that produces scalar values from arrays. The preceding examples have used several of them, including mean, count, min, and sum.\n",
    "\n",
    " Many common aggregations, such as those found in table below, have optimized implementations. However, you are not limited to only this set of methods."
   ]
  },
  {
   "cell_type": "markdown",
   "id": "b7d25bca-e666-4d29-8c6f-20da53d57476",
   "metadata": {},
   "source": [
    "| Function name  | Description                                                                  |\n",
    "|----------------|------------------------------------------------------------------------------|\n",
    "| `any`, `all`       | Return True if any (one or more values) or all non-NA values are \"truthy\"    |\n",
    "| `count`          | Number of non-NA values                                                      |\n",
    "| `cummin`, `cummax` | Cumulative minimum and maximum of non-NA values                              |\n",
    "| `cumsum`         | Cumulative sum of non-NA values                                              |\n",
    "| `cumprod`        | Cumulative product of non-NA values                                          |\n",
    "| `first`, `last`    | First and last non-NA values                                                 |\n",
    "| `mean`           | Mean of non-NA values                                                        |\n",
    "| `median`         | Arithmetic median of non-NA values                                           |\n",
    "| `min`, `max`       | Minimum and maximum of non-NA values                                         |\n",
    "| `nth`            | Retrieve value that would appear at position n with the data in sorted order |\n",
    "| `ohlc`           | Compute four \"open-high-low-close\" statistics for time series-like data      |\n",
    "| `prod`           | Product of non-NA values                                                     |\n",
    "| `quantile`       | Compute sample quantile                                                      |\n",
    "| `rank`           | Ordinal ranks of non-NA values, like calling Series.rank                     |\n",
    "| `size`           | Compute group sizes, returning result as a Series                            |\n",
    "| `sum`            | Sum of non-NA values                                                         |\n",
    "| `std`, `var`       | Sample standard deviation and variance                                       |"
   ]
  },
  {
   "cell_type": "markdown",
   "id": "1f04ccb0-0145-4bb2-82de-3346bf2196f4",
   "metadata": {},
   "source": [
    "To use your own aggregation functions, pass any function that aggregates an array to the `aggregate` method or its short alias `agg`:"
   ]
  },
  {
   "cell_type": "code",
   "execution_count": null,
   "id": "ac842073-ef3c-4576-b9e1-6caad3d33dfb",
   "metadata": {},
   "outputs": [],
   "source": [
    "def peak_to_peak(arr):\n",
    "    return arr.max() - arr.min()\n",
    "\n",
    "grouped.agg(peak_to_peak)"
   ]
  },
  {
   "cell_type": "markdown",
   "id": "530406f7-870f-470c-9e79-f774d9b5d1b5",
   "metadata": {},
   "source": [
    "You may notice that some methods, like describe, also work, even though they are not aggregations, strictly speaking:"
   ]
  },
  {
   "cell_type": "code",
   "execution_count": null,
   "id": "f5e71c52-bde7-4b62-a604-a345ea0aad49",
   "metadata": {},
   "outputs": [],
   "source": [
    "grouped.describe()"
   ]
  },
  {
   "cell_type": "markdown",
   "id": "5b39dcb5-7cf8-40ce-a962-b51835b78f1e",
   "metadata": {},
   "source": [
    "If you pass a list of functions or function names instead, you get back a DataFrame with column names taken from the functions:"
   ]
  },
  {
   "cell_type": "code",
   "execution_count": null,
   "id": "3f804169-1720-4147-9e2c-722c9ebb93ff",
   "metadata": {},
   "outputs": [],
   "source": [
    "grouped.agg([\"mean\", \"std\", peak_to_peak])"
   ]
  },
  {
   "cell_type": "markdown",
   "id": "b52e0db1-9b2b-48dc-953a-35cb56fa8998",
   "metadata": {},
   "source": [
    "## **Assignment**\n",
    "\n",
    "1. Group `pov_sample` by Entity column and describe dataset\n",
    "\n",
    "2. Group `pov_sample` by Entity column and calculate mean, standard deviation and peak_to_peak i one line of code\n",
    "\n",
    "2. Select first values as `f` and last values as `l`"
   ]
  },
  {
   "cell_type": "code",
   "execution_count": null,
   "id": "639bdd92-a567-494a-a5b4-e27d674bd5f5",
   "metadata": {
    "deletable": false,
    "nbgrader": {
     "cell_type": "code",
     "checksum": "a7ec1fc0f12e0d76590bf280e10cb392",
     "grade": false,
     "grade_id": "cell-0a5f23176b599602",
     "locked": false,
     "schema_version": 3,
     "solution": true,
     "task": false
    },
    "tags": []
   },
   "outputs": [],
   "source": [
    "# 1. Answer\n",
    "# YOUR CODE HERE\n",
    "raise NotImplementedError()"
   ]
  },
  {
   "cell_type": "code",
   "execution_count": null,
   "id": "127b07a8-db61-4989-bb17-4cc593675fb5",
   "metadata": {
    "deletable": false,
    "nbgrader": {
     "cell_type": "code",
     "checksum": "d1c42781346ad550985ad7e01ef5c47c",
     "grade": false,
     "grade_id": "cell-a8521ec5f762126a",
     "locked": false,
     "schema_version": 3,
     "solution": true,
     "task": false
    },
    "tags": []
   },
   "outputs": [],
   "source": [
    "# 2. Answer\n",
    "# YOUR CODE HERE\n",
    "raise NotImplementedError()"
   ]
  },
  {
   "cell_type": "code",
   "execution_count": null,
   "id": "7ee8398c-db43-4182-aaa8-d6868f139d8e",
   "metadata": {
    "deletable": false,
    "nbgrader": {
     "cell_type": "code",
     "checksum": "47c91a9678b6b156c100e882f7a84a87",
     "grade": false,
     "grade_id": "cell-87dc870f397f086a",
     "locked": false,
     "schema_version": 3,
     "solution": true,
     "task": false
    },
    "tags": []
   },
   "outputs": [],
   "source": [
    "# YOUR CODE HERE\n",
    "raise NotImplementedError()\n",
    "\n",
    "pd.concat([f,l], axis = \"rows\").sort_values(by=\"Entity\") # 'pd.concat' concatenates dataFrames along given axis. Obviously 'sort_values' sorts dataFrame by given column"
   ]
  }
 ],
 "metadata": {
  "kernelspec": {
   "display_name": "Python 3 (ipykernel)",
   "language": "python",
   "name": "python3"
  },
  "language_info": {
   "codemirror_mode": {
    "name": "ipython",
    "version": 3
   },
   "file_extension": ".py",
   "mimetype": "text/x-python",
   "name": "python",
   "nbconvert_exporter": "python",
   "pygments_lexer": "ipython3",
   "version": "3.9.13"
  }
 },
 "nbformat": 4,
 "nbformat_minor": 5
}
