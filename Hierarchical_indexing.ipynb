{
 "cells": [
  {
   "cell_type": "markdown",
   "id": "aedfc8a1-18bc-4b96-a673-dcf2f89d38d7",
   "metadata": {},
   "source": [
    "### Hierarchical Indexing\n",
    "\n",
    "*Hierarchical indexing* is an important feature of pandas that enables you to have multiple (two or more) index levels on an axis. Another way of thinking about it is that it provides a way for you to work with higher dimensional data in a lower dimensional form. Let’s start with a simple example: create a Series with a list of lists (or arrays) as the index:"
   ]
  },
  {
   "cell_type": "code",
   "execution_count": null,
   "id": "f73c55ab-834b-4288-beac-bc97c83f79fe",
   "metadata": {},
   "outputs": [],
   "source": [
    "data = pd.Series(np.random.uniform(size=9),\n",
    "                 index=[[\"a\", \"a\", \"a\", \"b\", \"b\", \"c\", \"c\", \"d\", \"d\"],\n",
    "                        [1, 2, 3, 1, 3, 1, 2, 2, 3]])\n",
    "\n",
    "data"
   ]
  },
  {
   "cell_type": "markdown",
   "id": "a530d97c-3ae0-4750-9c35-35a313055ccf",
   "metadata": {},
   "source": [
    "What you’re seeing is a prettified view of a Series with a `MultiIndex` as its index. The “gaps” in the index display mean “use the label directly above”:"
   ]
  },
  {
   "cell_type": "code",
   "execution_count": null,
   "id": "59087434-90c7-4052-81a0-673c53a7c373",
   "metadata": {},
   "outputs": [],
   "source": [
    "data.index"
   ]
  },
  {
   "cell_type": "markdown",
   "id": "3b3c5ccd-87a8-47ac-9875-1c7b69e6aaef",
   "metadata": {},
   "source": [
    "With a hierarchically indexed object, so-called partial indexing is possible, enabling you to concisely **select subsets** of the data:"
   ]
  },
  {
   "cell_type": "code",
   "execution_count": null,
   "id": "6c868ee3-3251-419a-b1fe-1ff8dcc94334",
   "metadata": {},
   "outputs": [],
   "source": [
    "print(data[\"b\"])\n",
    "print(data[\"b\":\"c\"])\n",
    "print(data.loc[[\"b\", \"d\"]])"
   ]
  },
  {
   "cell_type": "markdown",
   "id": "bffc963b-61fe-4e43-8332-fcaeacc7d042",
   "metadata": {},
   "source": [
    "Selection is even possible from an “inner” level. Here I select all of the values having the value 2 from the second index level:"
   ]
  },
  {
   "cell_type": "code",
   "execution_count": null,
   "id": "b360b848-262f-4a32-b6b5-225264a68dc0",
   "metadata": {},
   "outputs": [],
   "source": [
    "data.loc[:, 2]"
   ]
  },
  {
   "cell_type": "markdown",
   "id": "61c28d9e-feb2-48c2-b0df-3091f529f914",
   "metadata": {},
   "source": [
    "**Hierarchical indexing plays an important role in reshaping data and in group-based operations like forming a pivot table.** \n",
    "\n",
    "For example, you can change \"long\" format to \"wide\" of a DataFrame using its `unstack` method:"
   ]
  },
  {
   "cell_type": "code",
   "execution_count": null,
   "id": "ba75b3b2-f6b2-4fbe-920b-aa15461f57cd",
   "metadata": {},
   "outputs": [],
   "source": [
    "data.unstack()"
   ]
  },
  {
   "cell_type": "markdown",
   "id": "80179e38-609b-41cb-8342-0960859f11f8",
   "metadata": {},
   "source": [
    "The inverse operation of `unstack` is `stack`:"
   ]
  },
  {
   "cell_type": "code",
   "execution_count": null,
   "id": "168dbff4-b0f0-4c69-ba5e-8f31d0141730",
   "metadata": {},
   "outputs": [],
   "source": [
    "data.unstack().stack()"
   ]
  },
  {
   "cell_type": "markdown",
   "id": "87d6779c-a33a-401d-b879-ffa56da089ed",
   "metadata": {},
   "source": [
    "With a DataFrame, **either axis can have a hierarchical index**:"
   ]
  },
  {
   "cell_type": "code",
   "execution_count": null,
   "id": "c4cfd93b-982b-415a-a5c4-872553fdac59",
   "metadata": {},
   "outputs": [],
   "source": [
    "frame = pd.DataFrame(np.arange(12).reshape((4, 3)),\n",
    "                     index=[[\"a\", \"a\", \"b\", \"b\"], [1, 2, 1, 2]],\n",
    "                     columns=[[\"Europe\", \"Europe\", \"Asia\"],\n",
    "                              [\"Green\", \"Red\", \"Green\"]])\n",
    "\n",
    "frame"
   ]
  },
  {
   "cell_type": "markdown",
   "id": "93ce9717-3c4a-46f1-9e10-d5dc0422a889",
   "metadata": {},
   "source": [
    "The hierarchical levels can have names (as strings or any Python objects). If so, these will show up in the console output:"
   ]
  },
  {
   "cell_type": "code",
   "execution_count": null,
   "id": "6ebbcee3-6a58-4038-9ac0-484e72d2e81f",
   "metadata": {},
   "outputs": [],
   "source": [
    "frame.index.names = [\"key1\", \"key2\"]\n",
    "frame.columns.names = [\"continent\", \"color\"]\n",
    "\n",
    "frame"
   ]
  },
  {
   "cell_type": "markdown",
   "id": "3673fb78-7417-42f3-be17-e386450a4a28",
   "metadata": {},
   "source": [
    "You can see how many levels an index has by accessing its `nlevels` attribute:"
   ]
  },
  {
   "cell_type": "code",
   "execution_count": null,
   "id": "ef7abfee-a45b-491b-abb3-bd5b2b036f94",
   "metadata": {},
   "outputs": [],
   "source": [
    "frame.index.nlevels"
   ]
  },
  {
   "cell_type": "markdown",
   "id": "d482e5d0-3131-4c8a-89e4-7ca972cfedb4",
   "metadata": {},
   "source": [
    "With partial column indexing you can similarly select groups of columns:"
   ]
  },
  {
   "cell_type": "code",
   "execution_count": null,
   "id": "1ba815f1-a630-4133-992b-b5a21dc571bd",
   "metadata": {},
   "outputs": [],
   "source": [
    "frame[\"Europe\"]"
   ]
  },
  {
   "cell_type": "markdown",
   "id": "78c3f97a-1c7a-404a-b42b-66d66ba04840",
   "metadata": {},
   "source": [
    "A `MultiIndex` can be created by itself and then reused; the columns in the preceding DataFrame with level names could also be created like this:"
   ]
  },
  {
   "cell_type": "code",
   "execution_count": null,
   "id": "685cc074-1c23-4dd0-bc32-d7ef5eb3bd40",
   "metadata": {},
   "outputs": [],
   "source": [
    "pd.MultiIndex.from_arrays([[\"Europe\", \"Europe\", \"Asia\"],\n",
    "                          [\"Green\", \"Red\", \"Green\"]],\n",
    "                          names=[\"continent\", \"color\"])"
   ]
  },
  {
   "cell_type": "markdown",
   "id": "89d57610-edd7-4428-88d5-07a1a92ff28f",
   "metadata": {},
   "source": [
    "As you know, `R` has row names instead of indexes. Contrary to the names of columns row names are rather useless.\n",
    "\n",
    "That means in order to change shape of a table (from \"long\" to \"wide\" and vice versa) we just use columns. In pandas you must first transform columns to (hierarchical) index."
   ]
  },
  {
   "cell_type": "code",
   "execution_count": null,
   "id": "139e6145-34ab-4351-9c76-b7371f60b6bd",
   "metadata": {},
   "outputs": [],
   "source": [
    "frame = pd.DataFrame({\"a\": range(7), \"b\": range(7, 0, -1),\n",
    "                      \"c\": [\"one\", \"one\", \"one\", \"two\", \"two\",\n",
    "                            \"two\", \"two\"],\n",
    "                      \"d\": [0, 1, 2, 0, 1, 2, 3]})\n",
    "\n",
    "frame"
   ]
  },
  {
   "cell_type": "markdown",
   "id": "6e16215b-1859-4d7b-9be0-1481aa02470d",
   "metadata": {},
   "source": [
    "DataFrame’s `set_index` function will create a new DataFrame using one or more of its columns as the index:"
   ]
  },
  {
   "cell_type": "code",
   "execution_count": null,
   "id": "4c749564-1684-4f1d-8e0c-8e1cdeef2dbd",
   "metadata": {},
   "outputs": [],
   "source": [
    "frame2 = frame.set_index([\"c\", \"d\"]) # By default, the columns are removed from the DataFrame, though you can leave them in by passing drop=False to set_index\n",
    "\n",
    "frame2"
   ]
  },
  {
   "cell_type": "markdown",
   "id": "9b4deb4f-9fb1-4515-bd17-e03a659d427c",
   "metadata": {},
   "source": [
    "`reset_index`, on the other hand, does the opposite of `set_index`; the hierarchical index levels are moved into the columns:"
   ]
  },
  {
   "cell_type": "code",
   "execution_count": null,
   "id": "40176c37-7842-4f53-8ed8-34bd626f7903",
   "metadata": {},
   "outputs": [],
   "source": [
    "frame2.reset_index()"
   ]
  }
 ],
 "metadata": {
  "kernelspec": {
   "display_name": "Python 3 (ipykernel)",
   "language": "python",
   "name": "python3"
  },
  "language_info": {
   "codemirror_mode": {
    "name": "ipython",
    "version": 3
   },
   "file_extension": ".py",
   "mimetype": "text/x-python",
   "name": "python",
   "nbconvert_exporter": "python",
   "pygments_lexer": "ipython3",
   "version": "3.9.13"
  }
 },
 "nbformat": 4,
 "nbformat_minor": 5
}
