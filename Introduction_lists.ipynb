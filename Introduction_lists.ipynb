{
 "cells": [
  {
   "cell_type": "markdown",
   "id": "f5d712f2",
   "metadata": {},
   "source": [
    "## Quick note about Jupyter cells\n",
    "\n",
    "When you are editing a cell in Jupyter notebook, you need to re-run the cell by pressing **`<Shift> + <Enter>`** or **`<ctrl> + <Enter>`**. This will allow changes you made to be available to other cells.\n",
    "\n",
    "Use **`<Enter>`** to make new lines inside a cell you are editing.\n",
    "\n",
    "#### Code cells\n",
    "\n",
    "Re-running will execute any statements you have written. To edit an existing code cell, click on it.\n",
    "\n",
    "#### Markdown cells\n",
    "\n",
    "Re-running will render the markdown text. To edit an existing markdown cell, double-click on it.\n"
   ]
  },
  {
   "cell_type": "markdown",
   "id": "e02c04e3",
   "metadata": {},
   "source": [
    "## Common Jupyter operations\n",
    "\n",
    "Near the top of the Jupyter notebook window, there are a row of menu options (`File`, `Edit`, `View`, `Insert`, ...) and a row of tool bar icons (disk, plus sign, scissors, 2 files, clipboard and file, up arrow, ...).\n",
    "\n",
    "#### Inserting and removing cells\n",
    "\n",
    "- Use the \"plus sign\" icon to insert a cell below the currently selected cell\n",
    "- Use \"Insert\" -> \"Insert Cell Above\" from the menu to insert above\n",
    "\n",
    "#### Clear the output of all cells\n",
    "\n",
    "- Use \"Kernel\" -> \"Restart\" from the menu to restart the kernel\n",
    "    - click on \"clear all outputs & restart\" to have all the output cleared\n",
    "\n",
    "#### Save your notebook file locally\n",
    "\n",
    "- Clear the output of all cells\n",
    "- Use \"File\" -> \"Download as\" -> \"Notebook (.ipynb)\""
   ]
  },
  {
   "cell_type": "markdown",
   "id": "d24ff908",
   "metadata": {},
   "source": [
    "## References\n",
    "\n",
    "- https://jupyter-notebook.readthedocs.io/en/latest/notebook.html\n",
    "- https://mybinder.readthedocs.io/en/latest/introduction.html\n",
    "- https://docs.python.org/3/tutorial/index.html\n",
    "- https://docs.python.org/3/tutorial/introduction.html\n",
    "- https://www.rstudio.com/wp-content/uploads/2015/03/rmarkdown-reference.pdf"
   ]
  },
  {
   "cell_type": "markdown",
   "id": "d6c41ec7",
   "metadata": {},
   "source": [
    "## Python objects, basic types, and variables\n",
    "\n",
    "Like in R, everything in Python is an **object** and every object in Python has a **type**. Some of the basic types include:\n",
    "\n",
    "- **`int`** (integer; a whole number with no decimal place)\n",
    "  - `10`\n",
    "  - `-3`\n",
    "- **`float`** (float; a number that has a decimal place)\n",
    "  - `7.41`\n",
    "  - `-0.006`\n",
    "- **`str`** (string; a sequence of characters enclosed in single quotes, double quotes, or triple quotes)\n",
    "  - `'this is a string using single quotes'`\n",
    "  - `\"this is a string using double quotes\"`\n",
    "  - `'''this is a triple quoted string using single quotes'''`\n",
    "  - `\"\"\"this is a triple quoted string using double quotes\"\"\"`\n",
    "- **`bool`** (boolean; a binary value that is either true or false)\n",
    "  - `True`\n",
    "  - `False`\n",
    "- **`NoneType`** (a special type representing the absence of a value)\n",
    "  - `None`\n",
    "\n",
    "In Python, a **variable** is a name you specify in your code that maps to a particular **object**, object **instance**, or value.\n",
    "\n",
    "By defining variables, we can refer to things by names that make sense to us. Names for variables can only contain letters, underscores (`_`), or numbers (no spaces, dashes, or other characters). Variable names must start with a letter or underscore."
   ]
  },
  {
   "cell_type": "markdown",
   "id": "d42f771f",
   "metadata": {},
   "source": [
    "## Basic operators\n",
    "\n",
    "In Python, there are different types of **operators** (special symbols) that operate on different values. Some of the basic operators include:\n",
    "\n",
    "- arithmetic operators\n",
    "  - **`+`** (addition)\n",
    "  - **`-`** (subtraction)\n",
    "  - **`*`** (multiplication)\n",
    "  - **`/`** (division)\n",
    "  - __`**`__ (exponent)\n",
    "- assignment operators\n",
    "  - **`=`** (assign a value)\n",
    "  - **`+=`** (add and re-assign; increment)\n",
    "  - **`-=`** (subtract and re-assign; decrement)\n",
    "  - **`*=`** (multiply and re-assign)\n",
    "- comparison operators (return either `True` or `False`)\n",
    "  - **`==`** (equal to)\n",
    "  - **`!=`** (not equal to)\n",
    "  - **`<`** (less than)\n",
    "  - **`<=`** (less than or equal to)\n",
    "  - **`>`** (greater than)\n",
    "  - **`>=`** (greater than or equal to)\n",
    "\n",
    "When multiple operators are used in a single expression, **operator precedence** determines which parts of the expression are evaluated in which order. Operators with higher precedence are evaluated first (like PEMDAS in math). Operators with the same precedence are evaluated from left to right.\n",
    "\n",
    "- `()` parentheses, for grouping\n",
    "- `**` exponent\n",
    "- `*`, `/` multiplication and division\n",
    "- `+`, `-` addition and subtraction\n",
    "- `==`, `!=`, `<`, `<=`, `>`, `>=` comparisons\n",
    "\n",
    "> See https://docs.python.org/3/reference/expressions.html#operator-precedence"
   ]
  },
  {
   "cell_type": "code",
   "execution_count": null,
   "id": "a84e9a5b",
   "metadata": {},
   "outputs": [],
   "source": [
    "# Assigning some numbers to different variables\n",
    "num1 = 10\n",
    "num2 = -3\n",
    "num3 = 7.41\n",
    "num4 = -.6\n",
    "num5 = 7\n",
    "num6 = 3\n",
    "num7 = 11.11"
   ]
  },
  {
   "cell_type": "code",
   "execution_count": null,
   "id": "9bce0315",
   "metadata": {},
   "outputs": [],
   "source": [
    "# Addition\n",
    "num1 + num2"
   ]
  },
  {
   "cell_type": "code",
   "execution_count": null,
   "id": "eb5bce29",
   "metadata": {},
   "outputs": [],
   "source": [
    "# Subtraction\n",
    "num2 - num3"
   ]
  },
  {
   "cell_type": "code",
   "execution_count": null,
   "id": "3e2f7906",
   "metadata": {},
   "outputs": [],
   "source": [
    "# Multiplication\n",
    "num3 * num4"
   ]
  },
  {
   "cell_type": "code",
   "execution_count": null,
   "id": "d7013736",
   "metadata": {},
   "outputs": [],
   "source": [
    "# Division\n",
    "num4 / num5"
   ]
  },
  {
   "cell_type": "code",
   "execution_count": null,
   "id": "ede7d1f9",
   "metadata": {},
   "outputs": [],
   "source": [
    "# Exponent\n",
    "num5 ** num6"
   ]
  },
  {
   "cell_type": "code",
   "execution_count": null,
   "id": "2f7f92a1",
   "metadata": {},
   "outputs": [],
   "source": [
    "# Increment existing variable\n",
    "num7 += 4\n",
    "num7"
   ]
  },
  {
   "cell_type": "code",
   "execution_count": null,
   "id": "e3540801",
   "metadata": {},
   "outputs": [],
   "source": [
    "# Decrement existing variable\n",
    "num6 -= 2\n",
    "num6"
   ]
  },
  {
   "cell_type": "code",
   "execution_count": null,
   "id": "36c229b0",
   "metadata": {},
   "outputs": [],
   "source": [
    "# Multiply & re-assign\n",
    "num3 *= 5\n",
    "num3"
   ]
  },
  {
   "cell_type": "code",
   "execution_count": null,
   "id": "96c8b62b",
   "metadata": {},
   "outputs": [],
   "source": [
    "# Assign the value of an expression to a variable\n",
    "num8 = num1 + num2 * num3\n",
    "num8"
   ]
  },
  {
   "cell_type": "code",
   "execution_count": null,
   "id": "9282f42f",
   "metadata": {},
   "outputs": [],
   "source": [
    "# Are these two expressions equal to each other?\n",
    "num1 + num2 == num5"
   ]
  },
  {
   "cell_type": "code",
   "execution_count": null,
   "id": "df3aa50e",
   "metadata": {},
   "outputs": [],
   "source": [
    "# Are these two expressions not equal to each other?\n",
    "num3 != num4"
   ]
  },
  {
   "cell_type": "code",
   "execution_count": null,
   "id": "0ef40a76",
   "metadata": {},
   "outputs": [],
   "source": [
    "# Is the first expression less than the second expression?\n",
    "num5 < num6"
   ]
  },
  {
   "cell_type": "code",
   "execution_count": null,
   "id": "62163fdf",
   "metadata": {},
   "outputs": [],
   "source": [
    "# Is this expression True?\n",
    "5 > 3 > 1"
   ]
  },
  {
   "cell_type": "code",
   "execution_count": null,
   "id": "7192749d",
   "metadata": {},
   "outputs": [],
   "source": [
    "# Is this expression True?\n",
    "5 > 3 < 4 == 3 + 1"
   ]
  },
  {
   "cell_type": "code",
   "execution_count": null,
   "id": "b4554201",
   "metadata": {},
   "outputs": [],
   "source": [
    "# Assign some strings to different variables\n",
    "simple_string1 = 'an example'\n",
    "simple_string2 = \"oranges \""
   ]
  },
  {
   "cell_type": "code",
   "execution_count": null,
   "id": "63f77528",
   "metadata": {},
   "outputs": [],
   "source": [
    "# Addition\n",
    "simple_string1 + ' of using the + operator'"
   ]
  },
  {
   "cell_type": "code",
   "execution_count": null,
   "id": "2dd35e3c",
   "metadata": {},
   "outputs": [],
   "source": [
    "# Notice that the string was not modified\n",
    "simple_string1"
   ]
  },
  {
   "cell_type": "code",
   "execution_count": null,
   "id": "a69937db",
   "metadata": {},
   "outputs": [],
   "source": [
    "# Multiplication\n",
    "simple_string2 * 4"
   ]
  },
  {
   "cell_type": "code",
   "execution_count": null,
   "id": "ead3376b",
   "metadata": {},
   "outputs": [],
   "source": [
    "# This string wasn't modified either\n",
    "simple_string2"
   ]
  },
  {
   "cell_type": "code",
   "execution_count": null,
   "id": "276daf1c",
   "metadata": {},
   "outputs": [],
   "source": [
    "# Are these two expressions equal to each other?\n",
    "simple_string1 == simple_string2"
   ]
  },
  {
   "cell_type": "code",
   "execution_count": null,
   "id": "f841c684",
   "metadata": {},
   "outputs": [],
   "source": [
    "# Are these two expressions equal to each other?\n",
    "simple_string1 == 'an example'"
   ]
  },
  {
   "cell_type": "code",
   "execution_count": null,
   "id": "3cf90157",
   "metadata": {},
   "outputs": [],
   "source": [
    "# Add and re-assign\n",
    "simple_string1 += ' that re-assigned the original string'\n",
    "simple_string1"
   ]
  },
  {
   "cell_type": "code",
   "execution_count": null,
   "id": "406014d1",
   "metadata": {},
   "outputs": [],
   "source": [
    "# Multiply and re-assign\n",
    "simple_string2 *= 3\n",
    "simple_string2"
   ]
  },
  {
   "cell_type": "markdown",
   "id": "555f5755",
   "metadata": {},
   "source": [
    "Note: **Subtraction, division, and decrement operators do not apply to strings.**"
   ]
  },
  {
   "cell_type": "markdown",
   "id": "f8bdd93f",
   "metadata": {},
   "source": [
    "## Basic containers\n",
    "\n",
    "> Note: **mutable** objects can be modified after creation and **immutable** objects cannot.\n",
    "\n",
    "Containers are objects that can be used to group other objects together. The basic container types include:\n",
    "\n",
    "- **`str`** (string: immutable; indexed by integers; items are stored in the order they were added)\n",
    "- **`list`** (list: mutable; indexed by integers; items are stored in the order they were added)\n",
    "  - `[3, 5, 6, 3, 'dog', 'cat', False]`\n",
    "- **`tuple`** (tuple: immutable; indexed by integers; items are stored in the order they were added)\n",
    "  - `(3, 5, 6, 3, 'dog', 'cat', False)`\n",
    "- **`set`** (set: mutable; not indexed at all; items are NOT stored in the order they were added; can only contain immutable objects; does NOT contain duplicate objects)\n",
    "  - `{3, 5, 6, 3, 'dog', 'cat', False}`\n",
    "- **`dict`** (dictionary: mutable; key-value pairs are indexed by immutable keys; items are NOT stored in the order they were added)\n",
    "  - `{'name': 'Jane', 'age': 23, 'fav_foods': ['pizza', 'fruit', 'fish']}`\n",
    "\n",
    "When defining lists, tuples, or sets, use commas (,) to separate the individual items. When defining dicts, use a colon (:) to separate keys from values and commas (,) to separate the key-value pairs.\n",
    "\n",
    "Strings, lists, and tuples are all **sequence types** that can use the `+`, `*`, `+=`, and `*=` operators."
   ]
  },
  {
   "cell_type": "code",
   "execution_count": null,
   "id": "3b88f27c",
   "metadata": {},
   "outputs": [],
   "source": [
    "# Assign some containers to different variables\n",
    "list1 = [3, 5, 6, 3, 'dog', 'cat', False]\n",
    "tuple1 = (3, 5, 6, 3, 'dog', False, 'cat')\n",
    "set1 = {3, 5, 6, 3, 'dog', 'cat', False}\n",
    "dict1 = {'name': 'Jane', 'age': 23, 'fav_foods': ['pizza', 'fruit', 'fish']}"
   ]
  },
  {
   "cell_type": "code",
   "execution_count": null,
   "id": "d0d66e51",
   "metadata": {},
   "outputs": [],
   "source": [
    "# Items in the list object are stored in the order they were added\n",
    "list1"
   ]
  },
  {
   "cell_type": "code",
   "execution_count": null,
   "id": "0ebee4e9",
   "metadata": {},
   "outputs": [],
   "source": [
    "# Items in the tuple object are stored in the order they were added\n",
    "tuple1"
   ]
  },
  {
   "cell_type": "code",
   "execution_count": null,
   "id": "13ed7dd0",
   "metadata": {},
   "outputs": [],
   "source": [
    "# Items in the set object are not stored in the order they were added\n",
    "# Also, notice that the value 3 only appears once in this set object\n",
    "set1"
   ]
  },
  {
   "cell_type": "code",
   "execution_count": null,
   "id": "694cb82c",
   "metadata": {},
   "outputs": [],
   "source": [
    "# Items in the dict object are not stored in the order they were added\n",
    "dict1"
   ]
  },
  {
   "cell_type": "code",
   "execution_count": null,
   "id": "f5c7e75d",
   "metadata": {},
   "outputs": [],
   "source": [
    "# Add and re-assign\n",
    "list1 += [5, 'grapes']\n",
    "list1"
   ]
  },
  {
   "cell_type": "code",
   "execution_count": null,
   "id": "3d8810de",
   "metadata": {},
   "outputs": [],
   "source": [
    "# Add and re-assign\n",
    "tuple1 += (5, 'grapes')\n",
    "tuple1"
   ]
  },
  {
   "cell_type": "code",
   "execution_count": null,
   "id": "3f9a95a7",
   "metadata": {},
   "outputs": [],
   "source": [
    "# Multiply\n",
    "[1, 2, 3, 4] * 2"
   ]
  },
  {
   "cell_type": "code",
   "execution_count": null,
   "id": "1de2ca8f",
   "metadata": {},
   "outputs": [],
   "source": [
    "# Multiply\n",
    "(1, 2, 3, 4) * 3"
   ]
  },
  {
   "cell_type": "markdown",
   "id": "e857af29",
   "metadata": {
    "tags": []
   },
   "source": [
    "## Accessing data in containers\n",
    "\n",
    "For strings, lists, tuples, and dicts, we can use **subscript notation** (square brackets) to access data at an index.\n",
    "\n",
    "- strings, lists, and tuples are indexed by integers, **starting at 0** for first item\n",
    "  - these sequence types also support accesing a range of items, known as **slicing**\n",
    "  - use **negative indexing** to start at the back of the sequence\n",
    "- dicts are indexed by their keys\n",
    "\n",
    "> Note: sets are not indexed, so we cannot use subscript notation to access data elements."
   ]
  },
  {
   "cell_type": "markdown",
   "id": "7af0fe40-ae23-4f25-b244-7b933365ee25",
   "metadata": {},
   "source": [
    "### Quick note about doing tasks below\n",
    "\n",
    "replace `raise NotImplementedError()` with your code"
   ]
  },
  {
   "cell_type": "code",
   "execution_count": null,
   "id": "d7b90aad",
   "metadata": {
    "deletable": false,
    "nbgrader": {
     "cell_type": "code",
     "checksum": "8567e3ec25b3e5c195e48558b8a4e300",
     "grade": false,
     "grade_id": "cell-1da7d625eb2bf9c9",
     "locked": false,
     "schema_version": 3,
     "solution": true,
     "task": false
    },
    "tags": []
   },
   "outputs": [],
   "source": [
    "# Access the first item in a sequence 'list'\n",
    "#answer = list1[]\n",
    "# YOUR CODE HERE\n",
    "raise NotImplementedError()\n",
    "\n",
    "answer"
   ]
  },
  {
   "cell_type": "code",
   "execution_count": null,
   "id": "c334e6c7-ffae-4028-b9ca-5ca8ff73659c",
   "metadata": {
    "deletable": false,
    "editable": false,
    "nbgrader": {
     "cell_type": "code",
     "checksum": "cabee4c2954878ca95aed7c79895e797",
     "grade": true,
     "grade_id": "cell-afe3407a02081c14",
     "locked": true,
     "points": 1,
     "schema_version": 3,
     "solution": false,
     "task": false
    },
    "tags": []
   },
   "outputs": [],
   "source": [
    "\"Check that you have correct result\"\n",
    "assert answer == 3"
   ]
  },
  {
   "cell_type": "code",
   "execution_count": null,
   "id": "1523a76a",
   "metadata": {
    "deletable": false,
    "nbgrader": {
     "cell_type": "code",
     "checksum": "fc91cd9811b238fe9aa1c40274aa45dc",
     "grade": false,
     "grade_id": "cell-61bb9bf82f781902",
     "locked": false,
     "schema_version": 3,
     "solution": true,
     "task": false
    },
    "tags": []
   },
   "outputs": [],
   "source": [
    "#del(answer)\n",
    "# Access the last item in a sequence tuple1\n",
    "#answer = tuple1[]\n",
    "\n",
    "# YOUR CODE HERE\n",
    "raise NotImplementedError()\n",
    "answer"
   ]
  },
  {
   "cell_type": "code",
   "execution_count": null,
   "id": "fbd0496b-5b71-4556-a0df-fd42966e3244",
   "metadata": {
    "deletable": false,
    "editable": false,
    "nbgrader": {
     "cell_type": "code",
     "checksum": "2cf2260d089c77d558d50f7a7154d235",
     "grade": true,
     "grade_id": "cell-4114ed1504558d22",
     "locked": true,
     "points": 1,
     "schema_version": 3,
     "solution": false,
     "task": false
    },
    "tags": []
   },
   "outputs": [],
   "source": [
    "\"Check that you have correct result\"\n",
    "assert type(answer) == str"
   ]
  },
  {
   "cell_type": "code",
   "execution_count": null,
   "id": "3883802d",
   "metadata": {
    "deletable": false,
    "nbgrader": {
     "cell_type": "code",
     "checksum": "71a211a0f2f3f895ff303c3f37795591",
     "grade": false,
     "grade_id": "cell-62f108cba0bee8a7",
     "locked": false,
     "schema_version": 3,
     "solution": true,
     "task": false
    },
    "tags": []
   },
   "outputs": [],
   "source": [
    "del(answer)\n",
    "# Access a range of items in a sequence simple_string1 to get 'examp' word\n",
    "#answer = simple_string1[]\n",
    "\n",
    "# YOUR CODE HERE\n",
    "raise NotImplementedError()"
   ]
  },
  {
   "cell_type": "code",
   "execution_count": null,
   "id": "a8575c45-0419-45d6-8515-2a02d90fa397",
   "metadata": {
    "deletable": false,
    "editable": false,
    "nbgrader": {
     "cell_type": "code",
     "checksum": "e9e823580e813650ab3e9b027569f82e",
     "grade": true,
     "grade_id": "cell-6671f272189e46b0",
     "locked": true,
     "points": 0,
     "schema_version": 3,
     "solution": false,
     "task": false
    },
    "tags": []
   },
   "outputs": [],
   "source": [
    "\"Check that you have correct result\"\n",
    "assert answer == 'examp'"
   ]
  },
  {
   "cell_type": "code",
   "execution_count": null,
   "id": "b851e795",
   "metadata": {
    "deletable": false,
    "nbgrader": {
     "cell_type": "code",
     "checksum": "ba946d17871b8d158d9327b9e8bac72e",
     "grade": false,
     "grade_id": "cell-ddfbb8118abc06ea",
     "locked": false,
     "schema_version": 3,
     "solution": true,
     "task": false
    },
    "tags": []
   },
   "outputs": [],
   "source": [
    "del(answer)\n",
    "# Access a range of items in a sequence from first to 3rd last\n",
    "#answer = tuple1[]\n",
    "# YOUR CODE HERE\n",
    "raise NotImplementedError()"
   ]
  },
  {
   "cell_type": "code",
   "execution_count": null,
   "id": "c23b0859-48ef-47b8-9df5-bedc6145b284",
   "metadata": {},
   "outputs": [],
   "source": [
    "\"Check that you have correct result\"\n",
    "assert answer == (3, 5, 6, 3)"
   ]
  },
  {
   "cell_type": "code",
   "execution_count": null,
   "id": "581b4307",
   "metadata": {
    "deletable": false,
    "nbgrader": {
     "cell_type": "code",
     "checksum": "10d32894c81e2895dec8f33c597e79cb",
     "grade": false,
     "grade_id": "cell-e17a4fe1a9415a4c",
     "locked": false,
     "schema_version": 3,
     "solution": true,
     "task": false
    },
    "tags": []
   },
   "outputs": [],
   "source": [
    "# Access last three elements from list\n",
    "#answer = list1[]\n",
    "\n",
    "# YOUR CODE HERE\n",
    "raise NotImplementedError()\n",
    "answer"
   ]
  },
  {
   "cell_type": "code",
   "execution_count": null,
   "id": "9a633539-2264-46ab-8701-cf18efd65d51",
   "metadata": {
    "deletable": false,
    "editable": false,
    "nbgrader": {
     "cell_type": "code",
     "checksum": "34870789d278a46c11d4ab731186849a",
     "grade": true,
     "grade_id": "cell-7c0b32ba337d9c6a",
     "locked": true,
     "points": 1,
     "schema_version": 3,
     "solution": false,
     "task": false
    },
    "tags": []
   },
   "outputs": [],
   "source": [
    "\"Check that you have correct result\"\n",
    "assert answer[0:3] == ['dog', 'cat', False]"
   ]
  },
  {
   "cell_type": "code",
   "execution_count": null,
   "id": "639cb91b",
   "metadata": {
    "deletable": false,
    "nbgrader": {
     "cell_type": "code",
     "checksum": "350b8499ce2c95d551040e9595cc4703",
     "grade": false,
     "grade_id": "cell-e1af0c92dd4eaae9",
     "locked": false,
     "schema_version": 3,
     "solution": true,
     "task": false
    },
    "tags": []
   },
   "outputs": [],
   "source": [
    "# Access an item in a dictionary\n",
    "\n",
    "# YOUR CODE HERE\n",
    "raise NotImplementedError()"
   ]
  },
  {
   "cell_type": "code",
   "execution_count": null,
   "id": "c4ade81c-fb25-4343-afd8-56ec431203c0",
   "metadata": {
    "deletable": false,
    "editable": false,
    "nbgrader": {
     "cell_type": "code",
     "checksum": "b90a05f9aa013117c8f7246df3d9adfc",
     "grade": true,
     "grade_id": "cell-3a21f83e9be84194",
     "locked": true,
     "points": 1,
     "schema_version": 3,
     "solution": false,
     "task": false
    },
    "tags": []
   },
   "outputs": [],
   "source": [
    "\"Check that you have correct result\"\n",
    "assert answer == 'Jane'"
   ]
  },
  {
   "cell_type": "code",
   "execution_count": null,
   "id": "0b0d8e5f",
   "metadata": {
    "deletable": false,
    "nbgrader": {
     "cell_type": "code",
     "checksum": "19313756d53468eee89c2bbbb96621b2",
     "grade": false,
     "grade_id": "cell-b806f05e4a772af8",
     "locked": false,
     "schema_version": 3,
     "solution": true,
     "task": false
    },
    "tags": []
   },
   "outputs": [],
   "source": [
    "# Access a third element of a sequence in a dictionary\n",
    "dict1['fav_foods'][2]\n",
    "\n",
    "# YOUR CODE HERE\n",
    "raise NotImplementedError()\n",
    "answer"
   ]
  },
  {
   "cell_type": "code",
   "execution_count": null,
   "id": "ab2e44a3-e75f-4fde-b695-b4fac8209d3f",
   "metadata": {},
   "outputs": [],
   "source": [
    "\"Check that you have correct result\"\n",
    "assert answer == 'fish'"
   ]
  },
  {
   "cell_type": "markdown",
   "id": "66eca2a6",
   "metadata": {},
   "source": [
    "## Python built-in functions and callables\n",
    "\n",
    "A **function** is a Python object that you can \"call\" to **perform an action** or compute and **return another object**. You call a function by placing parentheses to the right of the function name. Some functions allow you to pass **arguments** inside the parentheses (separating multiple arguments with a comma). Internal to the function, these arguments are treated like variables.\n",
    "\n",
    "Python has several useful built-in functions to help you work with different objects and/or your environment. Here is a small sample of them:\n",
    "\n",
    "- **`type(obj)`** to determine the type of an object\n",
    "- **`len(container)`** to determine how many items are in a container\n",
    "- **`callable(obj)`** to determine if an object is callable\n",
    "- **`sorted(container)`** to return a new list from a container, with the items sorted\n",
    "- **`sum(container)`** to compute the sum of a container of numbers\n",
    "- **`min(container)`** to determine the smallest item in a container\n",
    "- **`max(container)`** to determine the largest item in a container\n",
    "- **`abs(number)`** to determine the absolute value of a number\n",
    "- **`repr(obj)`** to return a string representation of an object\n",
    "\n",
    "> Complete list of built-in functions: https://docs.python.org/3/library/functions.html\n",
    "\n",
    "There are also different ways of defining your own functions and callable objects that we will explore later."
   ]
  },
  {
   "cell_type": "code",
   "execution_count": null,
   "id": "bcc78921",
   "metadata": {
    "deletable": false,
    "nbgrader": {
     "cell_type": "code",
     "checksum": "481d2b828a4a1071b5fec669f740f3a7",
     "grade": false,
     "grade_id": "cell-6480ccb731ca9080",
     "locked": false,
     "schema_version": 3,
     "solution": true,
     "task": false
    },
    "tags": []
   },
   "outputs": [],
   "source": [
    "# Use the type() function to determine the type of the simple_string1 object\n",
    "\n",
    "# YOUR CODE HERE\n",
    "raise NotImplementedError()\n",
    "answer\n"
   ]
  },
  {
   "cell_type": "code",
   "execution_count": null,
   "id": "82714cf0-4f27-465c-84f8-b47c8175fc7f",
   "metadata": {
    "deletable": false,
    "editable": false,
    "nbgrader": {
     "cell_type": "code",
     "checksum": "e480e7104a7e4fbe7fe8e22abd57c0c4",
     "grade": true,
     "grade_id": "cell-6ef10b11e4c13c55",
     "locked": true,
     "points": 1,
     "schema_version": 3,
     "solution": false,
     "task": false
    },
    "tags": []
   },
   "outputs": [],
   "source": [
    "\"Check that you have correct result\"\n",
    "assert answer == str"
   ]
  },
  {
   "cell_type": "code",
   "execution_count": null,
   "id": "f805d4fd",
   "metadata": {
    "deletable": false,
    "nbgrader": {
     "cell_type": "code",
     "checksum": "db2a84119992f3b2162672ae637e0d27",
     "grade": false,
     "grade_id": "cell-d11629e1e1baff5f",
     "locked": false,
     "schema_version": 3,
     "solution": true,
     "task": false
    },
    "tags": []
   },
   "outputs": [],
   "source": [
    "# Use the len() function to determine how many items are in a container dict1\n",
    "\n",
    "# YOUR CODE HERE\n",
    "raise NotImplementedError()\n",
    "answer \n"
   ]
  },
  {
   "cell_type": "code",
   "execution_count": null,
   "id": "551e9ce4-ba0f-4083-a5d1-b12d75fac6ed",
   "metadata": {
    "deletable": false,
    "editable": false,
    "nbgrader": {
     "cell_type": "code",
     "checksum": "052d5ca99d253ea412c7f6e67ad95533",
     "grade": true,
     "grade_id": "cell-6d8ea0cc91e9bafa",
     "locked": true,
     "points": 1,
     "schema_version": 3,
     "solution": false,
     "task": false
    },
    "tags": []
   },
   "outputs": [],
   "source": [
    "\"Check that you have correct result\"\n",
    "assert answer == 3"
   ]
  },
  {
   "cell_type": "code",
   "execution_count": null,
   "id": "902f8ef5",
   "metadata": {
    "deletable": false,
    "nbgrader": {
     "cell_type": "code",
     "checksum": "693716f129c143aaab7ab8ec42d106c3",
     "grade": false,
     "grade_id": "cell-07a8851718830c0f",
     "locked": false,
     "schema_version": 3,
     "solution": true,
     "task": false
    },
    "tags": []
   },
   "outputs": [],
   "source": [
    "# Use the len() function to determine how many items are in a container simple_string2\n",
    "\n",
    "# YOUR CODE HERE\n",
    "raise NotImplementedError()\n",
    "answer\n"
   ]
  },
  {
   "cell_type": "code",
   "execution_count": null,
   "id": "24b1c0de-fbf0-475a-a715-e1b3f68c8fed",
   "metadata": {
    "deletable": false,
    "editable": false,
    "nbgrader": {
     "cell_type": "code",
     "checksum": "8f9e6517168d7b980a6cac26c40e137a",
     "grade": true,
     "grade_id": "cell-09f8f1c596a6328e",
     "locked": true,
     "points": 1,
     "schema_version": 3,
     "solution": false,
     "task": false
    },
    "tags": []
   },
   "outputs": [],
   "source": [
    "\"Check that you have correct result\"\n",
    "assert answer >7 & answer <9"
   ]
  },
  {
   "cell_type": "code",
   "execution_count": null,
   "id": "26c4c4b6",
   "metadata": {
    "deletable": false,
    "nbgrader": {
     "cell_type": "code",
     "checksum": "33a81156bad78d3c3e7ca72a0efa9703",
     "grade": false,
     "grade_id": "cell-e88eec99382f0133",
     "locked": false,
     "schema_version": 3,
     "solution": true,
     "task": false
    },
    "tags": []
   },
   "outputs": [],
   "source": [
    "# Use the callable() function to determine if an object 'len' is callable\n",
    "\n",
    "# YOUR CODE HERE\n",
    "raise NotImplementedError()\n",
    "\n",
    "answer "
   ]
  },
  {
   "cell_type": "code",
   "execution_count": null,
   "id": "66636cb9-95c7-4c46-8c00-d63c936c10b2",
   "metadata": {
    "deletable": false,
    "editable": false,
    "nbgrader": {
     "cell_type": "code",
     "checksum": "b412fe4abce8cb665fed99c854389276",
     "grade": true,
     "grade_id": "cell-3e92380dad814710",
     "locked": true,
     "points": 1,
     "schema_version": 3,
     "solution": false,
     "task": false
    },
    "tags": []
   },
   "outputs": [],
   "source": [
    "\"Check that you have correct result\"\n",
    "assert answer == True"
   ]
  },
  {
   "cell_type": "code",
   "execution_count": null,
   "id": "3bf1ec0c",
   "metadata": {
    "deletable": false,
    "nbgrader": {
     "cell_type": "code",
     "checksum": "f790dc8a62ab67481cddea807d3b98c0",
     "grade": false,
     "grade_id": "cell-79850c6bddfd8697",
     "locked": false,
     "schema_version": 3,
     "solution": true,
     "task": false
    },
    "tags": []
   },
   "outputs": [],
   "source": [
    "# Use the callable() function to determine if an object 'dict1' is callable\n",
    "\n",
    "# YOUR CODE HERE\n",
    "raise NotImplementedError()\n",
    "\n",
    "answer "
   ]
  },
  {
   "cell_type": "code",
   "execution_count": null,
   "id": "1763f744-f788-4e1b-b6c8-1535c43890f1",
   "metadata": {
    "deletable": false,
    "editable": false,
    "nbgrader": {
     "cell_type": "code",
     "checksum": "3dbf7b1238c54fa89b4e7976d1d7e60d",
     "grade": true,
     "grade_id": "cell-b931643c685ddf53",
     "locked": true,
     "points": 1,
     "schema_version": 3,
     "solution": false,
     "task": false
    },
    "tags": []
   },
   "outputs": [],
   "source": [
    "\"Check that you have correct result\"\n",
    "assert answer == False"
   ]
  },
  {
   "cell_type": "code",
   "execution_count": null,
   "id": "c3ecc890",
   "metadata": {
    "deletable": false,
    "nbgrader": {
     "cell_type": "code",
     "checksum": "a3cb2679f9bcb2fc59464a3d6a48b15b",
     "grade": false,
     "grade_id": "cell-a08188b9fd4332c4",
     "locked": false,
     "schema_version": 3,
     "solution": true,
     "task": false
    },
    "tags": []
   },
   "outputs": [],
   "source": [
    "# Use the sorted() function to return a new list from a container, with the items sorted\n",
    "container = [10, 1, 3.6, 7, 5, 2, -3]\n",
    "# YOUR CODE HERE\n",
    "raise NotImplementedError()\n",
    "answer \n"
   ]
  },
  {
   "cell_type": "code",
   "execution_count": null,
   "id": "f2bd6772-be0b-46f5-9129-81db6b553e1a",
   "metadata": {
    "deletable": false,
    "editable": false,
    "nbgrader": {
     "cell_type": "code",
     "checksum": "a1061f350d9a05a749569c47c9dcab1a",
     "grade": true,
     "grade_id": "cell-4b96d783edbdd8e3",
     "locked": true,
     "points": 1,
     "schema_version": 3,
     "solution": false,
     "task": false
    },
    "tags": []
   },
   "outputs": [],
   "source": [
    "\"Check that you have correct result\"\n",
    "assert answer == [-3, 1, 2, 3.6, 5, 7, 10]"
   ]
  },
  {
   "cell_type": "code",
   "execution_count": null,
   "id": "984cb392",
   "metadata": {
    "tags": []
   },
   "outputs": [],
   "source": [
    "# Use the sorted() function to return a new list from a container, with the items sorted\n",
    "# - notice that capitalized strings come first\n",
    "container = ['dogs', 'cats', 'zebras', 'Chicago', 'California', 'ants', 'mice']\n",
    "\n"
   ]
  },
  {
   "cell_type": "code",
   "execution_count": null,
   "id": "3a7b13fc",
   "metadata": {
    "deletable": false,
    "nbgrader": {
     "cell_type": "code",
     "checksum": "8ce2d0d45e286afe87302edbf245f323",
     "grade": false,
     "grade_id": "cell-ea38175dbe666a3c",
     "locked": false,
     "schema_version": 3,
     "solution": true,
     "task": false
    },
    "tags": []
   },
   "outputs": [],
   "source": [
    "# Use the sum() function to compute the sum of a container of numbers\n",
    "container = [10, 1, 3.6, 7, 5, 2, -3]\n",
    "\n",
    "# YOUR CODE HERE\n",
    "raise NotImplementedError()\n",
    "answer "
   ]
  },
  {
   "cell_type": "code",
   "execution_count": null,
   "id": "fb4b44d2-f327-40e1-a0da-c637356ed63f",
   "metadata": {
    "deletable": false,
    "editable": false,
    "nbgrader": {
     "cell_type": "code",
     "checksum": "a9f5ad127fa197c382e3b5591e7cda07",
     "grade": true,
     "grade_id": "cell-ccf1b0454bd3cfe3",
     "locked": true,
     "points": 1,
     "schema_version": 3,
     "solution": false,
     "task": false
    },
    "tags": []
   },
   "outputs": [],
   "source": [
    "\"Check that you have correct result\"\n",
    "assert answer == 25.6"
   ]
  },
  {
   "cell_type": "code",
   "execution_count": null,
   "id": "32a98810",
   "metadata": {
    "deletable": false,
    "nbgrader": {
     "cell_type": "code",
     "checksum": "8e5ca2d824d3beef11018fe65d9e8884",
     "grade": false,
     "grade_id": "cell-8128784db4ca3505",
     "locked": false,
     "schema_version": 3,
     "solution": true,
     "task": false
    },
    "tags": []
   },
   "outputs": [],
   "source": [
    "# Use the min() function to determine the smallest item in a container\n",
    "container = [10, 1, 3.6, 7, 5, 2, -3]\n",
    "\n",
    "# YOUR CODE HERE\n",
    "raise NotImplementedError()\n",
    "answer "
   ]
  },
  {
   "cell_type": "code",
   "execution_count": null,
   "id": "4d5c6c15-81dc-4474-bdd6-0f780cf4e51c",
   "metadata": {
    "deletable": false,
    "editable": false,
    "nbgrader": {
     "cell_type": "code",
     "checksum": "e482d8221cd79006fa07e78bedfd1e5a",
     "grade": true,
     "grade_id": "cell-d7c726ab234a1830",
     "locked": true,
     "points": 1,
     "schema_version": 3,
     "solution": false,
     "task": false
    },
    "tags": []
   },
   "outputs": [],
   "source": [
    "\"Check that you have correct result\"\n",
    "assert answer == -3"
   ]
  },
  {
   "cell_type": "code",
   "execution_count": null,
   "id": "85c1ce63",
   "metadata": {
    "deletable": false,
    "nbgrader": {
     "cell_type": "code",
     "checksum": "d7a3243167f2575ffea88a8d3f91a3d9",
     "grade": false,
     "grade_id": "cell-833e773cb74c9db5",
     "locked": false,
     "schema_version": 3,
     "solution": true,
     "task": false
    },
    "tags": []
   },
   "outputs": [],
   "source": [
    "# Use the min() function to determine the smallest item in a container\n",
    "container = ['g', 'z', 'a', 'y']\n",
    "\n",
    "# YOUR CODE HERE\n",
    "raise NotImplementedError()\n",
    "answer "
   ]
  },
  {
   "cell_type": "code",
   "execution_count": null,
   "id": "d2b87088-bd2b-481c-8a6d-a44b01a51990",
   "metadata": {
    "deletable": false,
    "editable": false,
    "nbgrader": {
     "cell_type": "code",
     "checksum": "7b0fb4c75884e8dca01ced6c42893561",
     "grade": true,
     "grade_id": "cell-753bdf4424ee9295",
     "locked": true,
     "points": 1,
     "schema_version": 3,
     "solution": false,
     "task": false
    },
    "tags": []
   },
   "outputs": [],
   "source": [
    "\"Check that you have correct result\"\n",
    "assert answer == 'a'"
   ]
  },
  {
   "cell_type": "code",
   "execution_count": null,
   "id": "45a9bfa6",
   "metadata": {
    "deletable": false,
    "nbgrader": {
     "cell_type": "code",
     "checksum": "f9abbc3006f16103265c1f2a6f5a6bd5",
     "grade": false,
     "grade_id": "cell-8f9cc08799ad0374",
     "locked": false,
     "schema_version": 3,
     "solution": true,
     "task": false
    },
    "tags": []
   },
   "outputs": [],
   "source": [
    "# Use the max() function to determine the largest item in a container\n",
    "container = [10, 1, 3.6, 7, 5, 2, -3]\n",
    "\n",
    "# YOUR CODE HERE\n",
    "raise NotImplementedError()\n",
    "answer "
   ]
  },
  {
   "cell_type": "code",
   "execution_count": null,
   "id": "61dad434-a7cb-4945-9e9e-ec752ff99cdf",
   "metadata": {
    "deletable": false,
    "editable": false,
    "nbgrader": {
     "cell_type": "code",
     "checksum": "d46c90e9226965f9c9e6d6e33dd11ce6",
     "grade": true,
     "grade_id": "cell-47c4b70a4a8832d6",
     "locked": true,
     "points": 1,
     "schema_version": 3,
     "solution": false,
     "task": false
    },
    "tags": []
   },
   "outputs": [],
   "source": [
    "\"Check that you have correct result\"\n",
    "assert answer == 10"
   ]
  },
  {
   "cell_type": "code",
   "execution_count": null,
   "id": "c16b79cc",
   "metadata": {
    "deletable": false,
    "nbgrader": {
     "cell_type": "code",
     "checksum": "b0f7878acb9b28d3a8cf7eb9367f9915",
     "grade": false,
     "grade_id": "cell-bfc73068524e38d0",
     "locked": false,
     "schema_version": 3,
     "solution": true,
     "task": false
    },
    "tags": []
   },
   "outputs": [],
   "source": [
    "# Use the max() function to determine the largest item in a container\n",
    "container = max('gibberish')\n",
    "\n",
    "# YOUR CODE HERE\n",
    "raise NotImplementedError()\n",
    "answer "
   ]
  },
  {
   "cell_type": "code",
   "execution_count": null,
   "id": "30dfb9ee-7cd8-4b80-8d2d-86fa11e753a1",
   "metadata": {
    "deletable": false,
    "editable": false,
    "nbgrader": {
     "cell_type": "code",
     "checksum": "aff12e29523b0843086f77588b044bb6",
     "grade": true,
     "grade_id": "cell-3885bba1d4940fbe",
     "locked": true,
     "points": 1,
     "schema_version": 3,
     "solution": false,
     "task": false
    },
    "tags": []
   },
   "outputs": [],
   "source": [
    "\"Check that you have correct result\"\n",
    "assert answer == 's'"
   ]
  },
  {
   "cell_type": "code",
   "execution_count": null,
   "id": "ddc7be36",
   "metadata": {
    "deletable": false,
    "nbgrader": {
     "cell_type": "code",
     "checksum": "b7af6b2f3596456c5b684384397b8c3c",
     "grade": false,
     "grade_id": "cell-3281c6dd738d1d8e",
     "locked": false,
     "schema_version": 3,
     "solution": true,
     "task": false
    },
    "tags": []
   },
   "outputs": [],
   "source": [
    "# Use the abs() function to determine the absolute value of a number 5\n",
    "\n",
    "# YOUR CODE HERE\n",
    "raise NotImplementedError()\n",
    "answer "
   ]
  },
  {
   "cell_type": "code",
   "execution_count": null,
   "id": "81ef81fc-fa88-40ad-b9b8-da40765f9a7e",
   "metadata": {
    "deletable": false,
    "editable": false,
    "nbgrader": {
     "cell_type": "code",
     "checksum": "bc090508187dac61d8ef67e21e4fc3a0",
     "grade": true,
     "grade_id": "cell-4373aa32982005a2",
     "locked": true,
     "points": 1,
     "schema_version": 3,
     "solution": false,
     "task": false
    },
    "tags": []
   },
   "outputs": [],
   "source": [
    "\"Check that you have correct result\"\n",
    "assert answer == 5"
   ]
  },
  {
   "cell_type": "code",
   "execution_count": null,
   "id": "7be9217c",
   "metadata": {
    "deletable": false,
    "nbgrader": {
     "cell_type": "code",
     "checksum": "b9f8eb074ac9ca45609a590cda5a6df2",
     "grade": false,
     "grade_id": "cell-0c4cef9efa216ccb",
     "locked": false,
     "schema_version": 3,
     "solution": true,
     "task": false
    },
    "tags": []
   },
   "outputs": [],
   "source": [
    "# Use the abs() function to determine the absolute value of a number -12\n",
    "\n",
    "# YOUR CODE HERE\n",
    "raise NotImplementedError()\n",
    "answer "
   ]
  },
  {
   "cell_type": "code",
   "execution_count": null,
   "id": "8508a033-396e-4585-8287-73221d1857ae",
   "metadata": {
    "deletable": false,
    "editable": false,
    "nbgrader": {
     "cell_type": "code",
     "checksum": "3a44dad0b71f7766770f7e4e6b202961",
     "grade": true,
     "grade_id": "cell-ca12b41ace4eaf65",
     "locked": true,
     "points": 1,
     "schema_version": 3,
     "solution": false,
     "task": false
    },
    "tags": []
   },
   "outputs": [],
   "source": [
    "\"Check that you have correct result\"\n",
    "assert answer > 0"
   ]
  },
  {
   "cell_type": "markdown",
   "id": "a72cfa83",
   "metadata": {},
   "source": [
    "## Python object attributes (methods and properties)\n",
    "\n",
    "Different types of objects in Python have different **attributes** that can be referred to by name (similar to a variable). To access an attribute of an object, use a dot (`.`) after the object, then specify the attribute (i.e. `obj.attribute`)\n",
    "\n",
    "When an attribute of an object is a callable, that attribute is called a **method**. It is the same as a function, only this function is bound to a particular object.\n",
    "\n",
    "When an attribute of an object is not a callable, that attribute is called a **property**. It is just a piece of data about the object, that is itself another object.\n",
    "\n",
    "The built-in `dir()` function can be used to return a list of an object's attributes."
   ]
  },
  {
   "cell_type": "markdown",
   "id": "b3107e2f",
   "metadata": {},
   "source": [
    "## Some methods on string objects\n",
    "\n",
    "- **`.capitalize()`** to return a capitalized version of the string (only first char uppercase)\n",
    "- **`.upper()`** to return an uppercase version of the string (all chars uppercase)\n",
    "- **`.lower()`** to return an lowercase version of the string (all chars lowercase)\n",
    "- **`.count(substring)`** to return the number of occurences of the substring in the string\n",
    "- **`.startswith(substring)`** to determine if the string starts with the substring\n",
    "- **`.endswith(substring)`** to determine if the string ends with the substring\n",
    "- **`.replace(old, new)`** to return a copy of the string with occurences of the \"old\" replaced by \"new\""
   ]
  },
  {
   "cell_type": "code",
   "execution_count": null,
   "id": "b72b0f4a",
   "metadata": {},
   "outputs": [],
   "source": [
    "# Assign a string to a variable\n",
    "a_string = 'tHis is a sTriNg'"
   ]
  },
  {
   "cell_type": "code",
   "execution_count": null,
   "id": "da6253e4",
   "metadata": {
    "deletable": false,
    "nbgrader": {
     "cell_type": "code",
     "checksum": "ba31d386ecf28b6697435be9525394fd",
     "grade": false,
     "grade_id": "cell-a09465f63f9fe2e1",
     "locked": false,
     "schema_version": 3,
     "solution": true,
     "task": false
    },
    "tags": []
   },
   "outputs": [],
   "source": [
    "# Return a capitalized version of the a_string\n",
    "\n",
    "# YOUR CODE HERE\n",
    "raise NotImplementedError()\n",
    "answer "
   ]
  },
  {
   "cell_type": "code",
   "execution_count": null,
   "id": "aa3bcdeb-82e4-448e-bcb8-0c8f61fdbe9a",
   "metadata": {
    "deletable": false,
    "editable": false,
    "nbgrader": {
     "cell_type": "code",
     "checksum": "ad3686bce9600edf86dff2bc1fcc641c",
     "grade": true,
     "grade_id": "cell-147c5269c2d44ce0",
     "locked": true,
     "points": 1,
     "schema_version": 3,
     "solution": false,
     "task": false
    },
    "tags": []
   },
   "outputs": [],
   "source": [
    "\"Check that you have correct result\"\n",
    "assert answer == 'This is a string'"
   ]
  },
  {
   "cell_type": "code",
   "execution_count": null,
   "id": "d46b8643",
   "metadata": {
    "deletable": false,
    "nbgrader": {
     "cell_type": "code",
     "checksum": "e86054ef64df412cced5b6c9b51bea52",
     "grade": false,
     "grade_id": "cell-7c725e6873a0b6c0",
     "locked": false,
     "schema_version": 3,
     "solution": true,
     "task": false
    },
    "tags": []
   },
   "outputs": [],
   "source": [
    "# Return an uppercase version of the string\n",
    "\n",
    "# YOUR CODE HERE\n",
    "raise NotImplementedError()\n",
    "answer "
   ]
  },
  {
   "cell_type": "code",
   "execution_count": null,
   "id": "0614032c-cfd2-487e-932a-5a2c8fd22218",
   "metadata": {
    "deletable": false,
    "editable": false,
    "nbgrader": {
     "cell_type": "code",
     "checksum": "3478d47f925ec05ed38644e474d11fbc",
     "grade": true,
     "grade_id": "cell-485cfd4bb3e6aa35",
     "locked": true,
     "points": 0,
     "schema_version": 3,
     "solution": false,
     "task": false
    },
    "tags": []
   },
   "outputs": [],
   "source": [
    "\"Check that you have correct result\"\n",
    "assert answer == 'THIS IS A STRING'"
   ]
  },
  {
   "cell_type": "code",
   "execution_count": null,
   "id": "ac50f85d",
   "metadata": {
    "deletable": false,
    "nbgrader": {
     "cell_type": "code",
     "checksum": "0429389a2543c455a468cee8a86e1034",
     "grade": false,
     "grade_id": "cell-5285e26ac5aadb0d",
     "locked": false,
     "schema_version": 3,
     "solution": true,
     "task": false
    },
    "tags": []
   },
   "outputs": [],
   "source": [
    "# Return a lowercase version of the string\n",
    "\n",
    "# YOUR CODE HERE\n",
    "raise NotImplementedError()\n",
    "answer "
   ]
  },
  {
   "cell_type": "code",
   "execution_count": null,
   "id": "43e84a9e-f4c3-4468-ab37-19557331e7a0",
   "metadata": {
    "deletable": false,
    "editable": false,
    "nbgrader": {
     "cell_type": "code",
     "checksum": "30c97e83715b7c1ebf7588665b7f26c3",
     "grade": true,
     "grade_id": "cell-b09f53f8b21b1d77",
     "locked": true,
     "points": 1,
     "schema_version": 3,
     "solution": false,
     "task": false
    },
    "tags": []
   },
   "outputs": [],
   "source": [
    "\"Check that you have correct result\"\n",
    "assert answer == 'this is a string'"
   ]
  },
  {
   "cell_type": "code",
   "execution_count": null,
   "id": "44f123ac",
   "metadata": {},
   "outputs": [],
   "source": [
    "# Notice that the methods called have not actually modified the string\n",
    "a_string"
   ]
  },
  {
   "cell_type": "code",
   "execution_count": null,
   "id": "1417977b",
   "metadata": {
    "deletable": false,
    "nbgrader": {
     "cell_type": "code",
     "checksum": "e8172378fa9ed18cefd9494e74bfbab1",
     "grade": false,
     "grade_id": "cell-e25986f6892c47bd",
     "locked": false,
     "schema_version": 3,
     "solution": true,
     "task": false
    },
    "tags": []
   },
   "outputs": [],
   "source": [
    "# Count number of occurences of a substring 'i' in the string\n",
    "\n",
    "# YOUR CODE HERE\n",
    "raise NotImplementedError()\n",
    "answer "
   ]
  },
  {
   "cell_type": "code",
   "execution_count": null,
   "id": "67c9777a-2597-4dac-ac94-1932de0fb35c",
   "metadata": {
    "deletable": false,
    "editable": false,
    "nbgrader": {
     "cell_type": "code",
     "checksum": "873fc8957dc14e7551276b22609b0fd3",
     "grade": true,
     "grade_id": "cell-f2081a9f893a3c6c",
     "locked": true,
     "points": 1,
     "schema_version": 3,
     "solution": false,
     "task": false
    },
    "tags": []
   },
   "outputs": [],
   "source": [
    "\"Check that you have correct result\"\n",
    "assert answer == 3"
   ]
  },
  {
   "cell_type": "code",
   "execution_count": null,
   "id": "d3a26f17",
   "metadata": {},
   "outputs": [],
   "source": [
    "# Count number of occurences of a substring in the string after a certain position\n",
    "a_string.count('i', 7)"
   ]
  },
  {
   "cell_type": "code",
   "execution_count": null,
   "id": "5ecf5491",
   "metadata": {
    "deletable": false,
    "nbgrader": {
     "cell_type": "code",
     "checksum": "fdfb24f943cffd09dea6d873809f297d",
     "grade": false,
     "grade_id": "cell-1760fc08556c0a5d",
     "locked": false,
     "schema_version": 3,
     "solution": true,
     "task": false
    },
    "tags": []
   },
   "outputs": [],
   "source": [
    "# Count number of occurences of a substring 'is' in the string\n",
    "\n",
    "# YOUR CODE HERE\n",
    "raise NotImplementedError()\n",
    "answer "
   ]
  },
  {
   "cell_type": "code",
   "execution_count": null,
   "id": "2b9533b2-85c9-4d68-a723-bafc0b5407d7",
   "metadata": {
    "deletable": false,
    "editable": false,
    "nbgrader": {
     "cell_type": "code",
     "checksum": "006712976f151b0c54c665ee09d498cc",
     "grade": true,
     "grade_id": "cell-aab90d96ba53bde9",
     "locked": true,
     "points": 1,
     "schema_version": 3,
     "solution": false,
     "task": false
    },
    "tags": []
   },
   "outputs": [],
   "source": [
    "\"Check that you have correct result\"\n",
    "assert answer == 2"
   ]
  },
  {
   "cell_type": "code",
   "execution_count": null,
   "id": "32173346",
   "metadata": {
    "deletable": false,
    "nbgrader": {
     "cell_type": "code",
     "checksum": "bfb6858f2cb140fb2b5aaec5b168e084",
     "grade": false,
     "grade_id": "cell-9376041d77e4c626",
     "locked": false,
     "schema_version": 3,
     "solution": true,
     "task": false
    },
    "tags": []
   },
   "outputs": [],
   "source": [
    "# Does the string start with 'this'?\n",
    "\n",
    "# YOUR CODE HERE\n",
    "raise NotImplementedError()\n",
    "answer"
   ]
  },
  {
   "cell_type": "code",
   "execution_count": null,
   "id": "7222588b-37aa-4154-a300-263b8e828681",
   "metadata": {
    "deletable": false,
    "editable": false,
    "nbgrader": {
     "cell_type": "code",
     "checksum": "d7accc7606d291d3d63b748d5e9f0fec",
     "grade": true,
     "grade_id": "cell-1efeb5a93bf5a201",
     "locked": true,
     "points": 1,
     "schema_version": 3,
     "solution": false,
     "task": false
    },
    "tags": []
   },
   "outputs": [],
   "source": [
    "\"Check that you have correct result\"\n",
    "assert answer == False"
   ]
  },
  {
   "cell_type": "code",
   "execution_count": null,
   "id": "6d1877cb",
   "metadata": {
    "deletable": false,
    "nbgrader": {
     "cell_type": "code",
     "checksum": "16bd3f2f0549d3fc0dcfb577a279e2f9",
     "grade": false,
     "grade_id": "cell-d4fce967ccec0fe7",
     "locked": false,
     "schema_version": 3,
     "solution": true,
     "task": false
    },
    "tags": []
   },
   "outputs": [],
   "source": [
    "# Does the lowercase string start with 'this'?\n",
    "\n",
    "# YOUR CODE HERE\n",
    "raise NotImplementedError()\n",
    "answer"
   ]
  },
  {
   "cell_type": "code",
   "execution_count": null,
   "id": "607a7588-7135-4c15-85a3-318e1b33fb2d",
   "metadata": {
    "deletable": false,
    "editable": false,
    "nbgrader": {
     "cell_type": "code",
     "checksum": "54445b6b4b9b0efa3a95a59071e73a42",
     "grade": true,
     "grade_id": "cell-de703181f7867142",
     "locked": true,
     "points": 1,
     "schema_version": 3,
     "solution": false,
     "task": false
    },
    "tags": []
   },
   "outputs": [],
   "source": [
    "\"Check that you have correct result\"\n",
    "assert answer == True"
   ]
  },
  {
   "cell_type": "code",
   "execution_count": null,
   "id": "471effbb",
   "metadata": {
    "deletable": false,
    "nbgrader": {
     "cell_type": "code",
     "checksum": "b9cdf29810613da7ef03db3acf6c1be7",
     "grade": false,
     "grade_id": "cell-02f858ab105f8698",
     "locked": false,
     "schema_version": 3,
     "solution": true,
     "task": false
    },
    "tags": []
   },
   "outputs": [],
   "source": [
    "# Does the string end with 'Ng'?\n",
    "\n",
    "# YOUR CODE HERE\n",
    "raise NotImplementedError()\n",
    "answer"
   ]
  },
  {
   "cell_type": "code",
   "execution_count": null,
   "id": "7f268a7d-b63b-4ea4-a32f-5f7e8e1180f8",
   "metadata": {
    "deletable": false,
    "editable": false,
    "nbgrader": {
     "cell_type": "code",
     "checksum": "8df325fff89f3515dd03c00248ad1340",
     "grade": true,
     "grade_id": "cell-29b2ae7d55f37a5b",
     "locked": true,
     "points": 1,
     "schema_version": 3,
     "solution": false,
     "task": false
    },
    "tags": []
   },
   "outputs": [],
   "source": [
    "\"Check that you have correct result\"\n",
    "assert answer == True"
   ]
  },
  {
   "cell_type": "code",
   "execution_count": null,
   "id": "e933fc1d",
   "metadata": {
    "deletable": false,
    "nbgrader": {
     "cell_type": "code",
     "checksum": "d3ce6e7ae3da4d7f0810d27519b3197a",
     "grade": false,
     "grade_id": "cell-2bd5d5793aea41b7",
     "locked": false,
     "schema_version": 3,
     "solution": true,
     "task": false
    },
    "tags": []
   },
   "outputs": [],
   "source": [
    "# Return a version of the string with a substring replaced with something else like ('is' for 'XYZ')\n",
    "\n",
    "# YOUR CODE HERE\n",
    "raise NotImplementedError()\n",
    "answer"
   ]
  },
  {
   "cell_type": "code",
   "execution_count": null,
   "id": "e1730bfb-fb22-40ac-be8d-7680d74f4fca",
   "metadata": {
    "deletable": false,
    "editable": false,
    "nbgrader": {
     "cell_type": "code",
     "checksum": "a4f3e4f7da75ed5261c779d3e2eebe4b",
     "grade": true,
     "grade_id": "cell-fbe440ce92f858e1",
     "locked": true,
     "points": 1,
     "schema_version": 3,
     "solution": false,
     "task": false
    },
    "tags": []
   },
   "outputs": [],
   "source": [
    "\"Check that you have correct result\"\n",
    "assert answer == 'tHXYZ XYZ a sTriNg'"
   ]
  },
  {
   "cell_type": "code",
   "execution_count": null,
   "id": "976b1e4e",
   "metadata": {
    "deletable": false,
    "nbgrader": {
     "cell_type": "code",
     "checksum": "08a3ae8203a16753b1f5e9334a52b794",
     "grade": false,
     "grade_id": "cell-b2c4143200df43bd",
     "locked": false,
     "schema_version": 3,
     "solution": true,
     "task": false
    },
    "tags": []
   },
   "outputs": [],
   "source": [
    "# Return a version of the string with a substring replaced with something else like ('i' for '!')\n",
    "\n",
    "# YOUR CODE HERE\n",
    "raise NotImplementedError()\n",
    "answer"
   ]
  },
  {
   "cell_type": "code",
   "execution_count": null,
   "id": "d79e04cd-f11d-4432-8bab-4b144219214e",
   "metadata": {
    "deletable": false,
    "editable": false,
    "nbgrader": {
     "cell_type": "code",
     "checksum": "aeb24aae4c2f6d7216b9cc78670efac3",
     "grade": true,
     "grade_id": "cell-cc4df90a8f76417b",
     "locked": true,
     "points": 1,
     "schema_version": 3,
     "solution": false,
     "task": false
    },
    "tags": []
   },
   "outputs": [],
   "source": [
    "\"Check that you have correct result\"\n",
    "assert answer == 'tH!s !s a sTr!Ng'"
   ]
  },
  {
   "cell_type": "code",
   "execution_count": null,
   "id": "125fbbbc",
   "metadata": {
    "deletable": false,
    "nbgrader": {
     "cell_type": "code",
     "checksum": "f67a3229c745113b2968910eafd62050",
     "grade": false,
     "grade_id": "cell-8be63f3a8c26d42a",
     "locked": false,
     "schema_version": 3,
     "solution": true,
     "task": false
    },
    "tags": []
   },
   "outputs": [],
   "source": [
    "# Return a version of the string with the first 2 occurences of 'i' replaced with '!'\n",
    "\n",
    "# YOUR CODE HERE\n",
    "raise NotImplementedError()\n",
    "answer"
   ]
  },
  {
   "cell_type": "code",
   "execution_count": null,
   "id": "0b6ce6a8-fc9d-4333-a77a-7231e3ea2664",
   "metadata": {
    "deletable": false,
    "editable": false,
    "nbgrader": {
     "cell_type": "code",
     "checksum": "9caed51484a481da48f9b594847763a8",
     "grade": true,
     "grade_id": "cell-0eaed028fb1dae54",
     "locked": true,
     "points": 1,
     "schema_version": 3,
     "solution": false,
     "task": false
    },
    "tags": []
   },
   "outputs": [],
   "source": [
    "\"Check that you have correct result\"\n",
    "assert answer == 'tH!s !s a sTriNg'"
   ]
  },
  {
   "cell_type": "markdown",
   "id": "9eaf80ad",
   "metadata": {},
   "source": [
    "## Some methods on list objects\n",
    "\n",
    "- **`.append(item)`** to add a single item to the list\n",
    "- **`.extend([item1, item2, ...])`** to add multiple items to the list\n",
    "- **`.insert(i, item)`** to insert an item at a given position\n",
    "- **`.remove(item)`** to remove a single item from the list\n",
    "- **`.pop()`** to remove and return the item at the end of the list\n",
    "- **`.pop(index)`** to remove and return an item at an index\n",
    "- **`.count(item)`** return the number of times item appears in the list\n",
    "- **`.reverse()`** to reverse order of items in the list"
   ]
  },
  {
   "cell_type": "code",
   "execution_count": null,
   "id": "0f3ee0f9",
   "metadata": {},
   "outputs": [],
   "source": [
    "fruits = ['orange', 'apple', 'pear', 'banana', 'kiwi', 'apple', 'banana']"
   ]
  },
  {
   "cell_type": "code",
   "execution_count": null,
   "id": "7fb1d7da",
   "metadata": {
    "deletable": false,
    "nbgrader": {
     "cell_type": "code",
     "checksum": "ff8b9599a9fe576532436615eac3b261",
     "grade": false,
     "grade_id": "cell-2f877bc251ed0def",
     "locked": false,
     "schema_version": 3,
     "solution": true,
     "task": false
    },
    "tags": []
   },
   "outputs": [],
   "source": [
    "# Count apples in fruits\n",
    "\n",
    "# YOUR CODE HERE\n",
    "raise NotImplementedError()\n",
    "answer"
   ]
  },
  {
   "cell_type": "code",
   "execution_count": null,
   "id": "d18ff298-3431-4f0d-8d20-0af8064abec5",
   "metadata": {
    "deletable": false,
    "editable": false,
    "nbgrader": {
     "cell_type": "code",
     "checksum": "f42afa6e1a3c00aa44ef2cf60d4bea8a",
     "grade": true,
     "grade_id": "cell-9ece4337dca1bbc1",
     "locked": true,
     "points": 1,
     "schema_version": 3,
     "solution": false,
     "task": false
    },
    "tags": []
   },
   "outputs": [],
   "source": [
    "\"Check that you have correct result\"\n",
    "assert answer == 2"
   ]
  },
  {
   "cell_type": "code",
   "execution_count": null,
   "id": "4bb0a8ff",
   "metadata": {
    "deletable": false,
    "nbgrader": {
     "cell_type": "code",
     "checksum": "5ee58536958556ca36167e1709bba2f9",
     "grade": false,
     "grade_id": "cell-cecc70fdaafba009",
     "locked": false,
     "schema_version": 3,
     "solution": true,
     "task": false
    },
    "tags": []
   },
   "outputs": [],
   "source": [
    "# What's index of banana?\n",
    "\n",
    "# YOUR CODE HERE\n",
    "raise NotImplementedError()"
   ]
  },
  {
   "cell_type": "code",
   "execution_count": null,
   "id": "0d8d6f0a-0e63-4401-8eb0-6d16e892322b",
   "metadata": {
    "deletable": false,
    "editable": false,
    "nbgrader": {
     "cell_type": "code",
     "checksum": "8ca9116de35525499fbe1e998bcae99f",
     "grade": true,
     "grade_id": "cell-21107716c9db7957",
     "locked": true,
     "points": 1,
     "schema_version": 3,
     "solution": false,
     "task": false
    },
    "tags": []
   },
   "outputs": [],
   "source": [
    "\"Check that you have correct result\""
   ]
  },
  {
   "cell_type": "code",
   "execution_count": null,
   "id": "f4f530d1",
   "metadata": {
    "deletable": false,
    "nbgrader": {
     "cell_type": "code",
     "checksum": "b2aec07ff0c4d623b6e15f2c8b29406e",
     "grade": false,
     "grade_id": "cell-3025e8ef6500aa1b",
     "locked": false,
     "schema_version": 3,
     "solution": true,
     "task": false
    },
    "tags": []
   },
   "outputs": [],
   "source": [
    "# Find next banana starting at position 4\n",
    "\n",
    "# YOUR CODE HERE\n",
    "raise NotImplementedError()\n",
    "answer\n"
   ]
  },
  {
   "cell_type": "code",
   "execution_count": null,
   "id": "0188355b-6458-41f2-a734-9767e7432e87",
   "metadata": {
    "deletable": false,
    "editable": false,
    "nbgrader": {
     "cell_type": "code",
     "checksum": "cb15949c8534bd7e563e1c283f95a17d",
     "grade": true,
     "grade_id": "cell-837ae97db88d18c7",
     "locked": true,
     "points": 1,
     "schema_version": 3,
     "solution": false,
     "task": false
    },
    "tags": []
   },
   "outputs": [],
   "source": [
    "\"Check that you have correct result\""
   ]
  },
  {
   "cell_type": "code",
   "execution_count": null,
   "id": "2e6df2af",
   "metadata": {
    "deletable": false,
    "nbgrader": {
     "cell_type": "code",
     "checksum": "66fff8023243b12fdd31b92d5e92fa57",
     "grade": false,
     "grade_id": "cell-0801e3d7afe5230e",
     "locked": false,
     "schema_version": 3,
     "solution": true,
     "task": false
    },
    "tags": []
   },
   "outputs": [],
   "source": [
    "# Reverse fruits list\n",
    "\n",
    "# YOUR CODE HERE\n",
    "raise NotImplementedError()\n"
   ]
  },
  {
   "cell_type": "code",
   "execution_count": null,
   "id": "3268f534-4ff2-436f-8fbc-d3832339dde8",
   "metadata": {
    "deletable": false,
    "editable": false,
    "nbgrader": {
     "cell_type": "code",
     "checksum": "975cda73fe83fd86dd9b60de4a801c8f",
     "grade": true,
     "grade_id": "cell-7faff3b3e8620340",
     "locked": true,
     "points": 1,
     "schema_version": 3,
     "solution": false,
     "task": false
    },
    "tags": []
   },
   "outputs": [],
   "source": [
    "\"Check that you have correct result\"\n",
    "assert fruits == ['banana', 'apple', 'kiwi', 'banana', 'pear', 'apple', 'orange']"
   ]
  },
  {
   "cell_type": "code",
   "execution_count": null,
   "id": "f0a6fceb",
   "metadata": {
    "deletable": false,
    "nbgrader": {
     "cell_type": "code",
     "checksum": "593139f9315d189af68927bda85c7f8f",
     "grade": false,
     "grade_id": "cell-a9d98f57d762cbe0",
     "locked": false,
     "schema_version": 3,
     "solution": true,
     "task": false
    },
    "tags": []
   },
   "outputs": [],
   "source": [
    "# Add grape to the list\n",
    "\n",
    "# YOUR CODE HERE\n",
    "raise NotImplementedError()\n",
    "fruits"
   ]
  },
  {
   "cell_type": "code",
   "execution_count": null,
   "id": "4f377605-c63d-4285-905b-0c9517d311a0",
   "metadata": {
    "deletable": false,
    "editable": false,
    "nbgrader": {
     "cell_type": "code",
     "checksum": "98aa459f99561cfa0a2b3155daff7647",
     "grade": true,
     "grade_id": "cell-06f479edb807c6aa",
     "locked": true,
     "points": 1,
     "schema_version": 3,
     "solution": false,
     "task": false
    },
    "tags": []
   },
   "outputs": [],
   "source": [
    "\"Check that you have correct result\"\n",
    "assert fruits == ['banana', 'apple', 'kiwi', 'banana', 'pear', 'apple', 'orange', 'grape']"
   ]
  },
  {
   "cell_type": "code",
   "execution_count": null,
   "id": "dc6b9463",
   "metadata": {},
   "outputs": [],
   "source": [
    "fruits.sort()\n",
    "fruits"
   ]
  },
  {
   "cell_type": "markdown",
   "id": "3fc1e943",
   "metadata": {},
   "source": [
    "### List comprehensions\n",
    "\n",
    "List comprehensions provide a concise way to create lists. Common applications are to make new lists where each element is the result of some operations applied to each member of another sequence or iterable, or to create a subsequence of those elements that satisfy a certain condition.\n",
    "\n",
    "For example, assume we want to create a list of squares, like:"
   ]
  },
  {
   "cell_type": "code",
   "execution_count": null,
   "id": "8d653162",
   "metadata": {},
   "outputs": [],
   "source": [
    "squares = []\n",
    "for x in range(10):\n",
    "    squares.append(x**2)\n",
    "    \n",
    "squares"
   ]
  },
  {
   "cell_type": "code",
   "execution_count": null,
   "id": "27a6dbb6",
   "metadata": {},
   "outputs": [],
   "source": [
    "#or, equivalently:\n",
    "squares = [x**2 for x in range(10)]"
   ]
  },
  {
   "cell_type": "markdown",
   "id": "e7e73a87",
   "metadata": {},
   "source": [
    "A list comprehension consists of brackets containing an expression followed by a for clause, then zero or more for or if clauses. The result will be a new list resulting from evaluating the expression in the context of the for and if clauses which follow it. For example, this listcomp combines the elements of two lists if they are not equal:"
   ]
  },
  {
   "cell_type": "code",
   "execution_count": null,
   "id": "a730e1a2",
   "metadata": {},
   "outputs": [],
   "source": [
    "[(x, y) for x in [1,2,3] for y in [3,1,4] if x != y]"
   ]
  },
  {
   "cell_type": "code",
   "execution_count": null,
   "id": "d6406b11-7dbd-413c-acc3-33ce414f7765",
   "metadata": {},
   "outputs": [],
   "source": [
    "vec = [-4, -2, 0, 2, 4]"
   ]
  },
  {
   "cell_type": "code",
   "execution_count": null,
   "id": "c010a68e-241e-4fef-b68f-665f3cf29877",
   "metadata": {
    "deletable": false,
    "nbgrader": {
     "cell_type": "code",
     "checksum": "227ada6419fc49340aa8646ac410ba2b",
     "grade": false,
     "grade_id": "cell-777c8e9e8c0245cc",
     "locked": false,
     "schema_version": 3,
     "solution": true,
     "task": false
    },
    "tags": []
   },
   "outputs": [],
   "source": [
    "# from 'vec' create a new list with the values doubled\n",
    "\n",
    "# YOUR CODE HERE\n",
    "raise NotImplementedError()\n",
    "answer"
   ]
  },
  {
   "cell_type": "code",
   "execution_count": null,
   "id": "ac6d7ca5-54c4-439c-a8e9-b97b9d4fa535",
   "metadata": {
    "deletable": false,
    "editable": false,
    "nbgrader": {
     "cell_type": "code",
     "checksum": "be8beb125627f4f38aa226367dd4f03c",
     "grade": true,
     "grade_id": "cell-575a1111fd262a23",
     "locked": true,
     "points": 1,
     "schema_version": 3,
     "solution": false,
     "task": false
    },
    "tags": []
   },
   "outputs": [],
   "source": [
    "\"Check that you have correct result\"\n",
    "assert answer == [-8, -4, 0, 4, 8]"
   ]
  },
  {
   "cell_type": "code",
   "execution_count": null,
   "id": "ba1375fd-98f0-4ae4-95d3-aeafaf3ac62f",
   "metadata": {
    "deletable": false,
    "nbgrader": {
     "cell_type": "code",
     "checksum": "cce643d19150057e5db1a19867aecdc4",
     "grade": false,
     "grade_id": "cell-f46faa20c00cf38f",
     "locked": false,
     "schema_version": 3,
     "solution": true,
     "task": false
    },
    "tags": []
   },
   "outputs": [],
   "source": [
    "# filter the 'vec' list to exclude negative numbers\n",
    "\n",
    "# YOUR CODE HERE\n",
    "raise NotImplementedError()\n",
    "answer"
   ]
  },
  {
   "cell_type": "code",
   "execution_count": null,
   "id": "e961afbd-48cd-4665-82a6-c60778e06952",
   "metadata": {
    "deletable": false,
    "editable": false,
    "nbgrader": {
     "cell_type": "code",
     "checksum": "7f870733f1f887656482196d1317399d",
     "grade": true,
     "grade_id": "cell-68471b9737837aa2",
     "locked": true,
     "points": 1,
     "schema_version": 3,
     "solution": false,
     "task": false
    },
    "tags": []
   },
   "outputs": [],
   "source": [
    "\"Check that you have correct result\"\n",
    "assert answer == [0, 2, 4]"
   ]
  },
  {
   "cell_type": "code",
   "execution_count": null,
   "id": "c7deb324-d667-4ba9-b7dc-789f90e958f5",
   "metadata": {
    "deletable": false,
    "nbgrader": {
     "cell_type": "code",
     "checksum": "1100327a6bdc039363d1ef80e727aa6a",
     "grade": false,
     "grade_id": "cell-9252d605574f274e",
     "locked": false,
     "schema_version": 3,
     "solution": true,
     "task": false
    },
    "tags": []
   },
   "outputs": [],
   "source": [
    "# apply a abs function to all the elements\n",
    "\n",
    "# YOUR CODE HERE\n",
    "raise NotImplementedError()\n",
    "answer"
   ]
  },
  {
   "cell_type": "code",
   "execution_count": null,
   "id": "2f490c7d-fc07-4fa1-9004-f2c8e20f8edf",
   "metadata": {
    "deletable": false,
    "editable": false,
    "nbgrader": {
     "cell_type": "code",
     "checksum": "d8e4cc00836235b455592e3c5d025a67",
     "grade": true,
     "grade_id": "cell-a80c34146b431c78",
     "locked": true,
     "points": 1,
     "schema_version": 3,
     "solution": false,
     "task": false
    },
    "tags": []
   },
   "outputs": [],
   "source": [
    "\"Check that you have correct result\"\n",
    "assert answer == [4, 2, 0, 2, 4]"
   ]
  },
  {
   "cell_type": "markdown",
   "id": "de56539a-4192-4bcf-b186-26627d205592",
   "metadata": {},
   "source": [
    "That's all for today!"
   ]
  }
 ],
 "metadata": {
  "kernelspec": {
   "display_name": "Python 3 (ipykernel)",
   "language": "python",
   "name": "python3"
  },
  "language_info": {
   "codemirror_mode": {
    "name": "ipython",
    "version": 3
   },
   "file_extension": ".py",
   "mimetype": "text/x-python",
   "name": "python",
   "nbconvert_exporter": "python",
   "pygments_lexer": "ipython3",
   "version": "3.9.13"
  }
 },
 "nbformat": 4,
 "nbformat_minor": 5
}
