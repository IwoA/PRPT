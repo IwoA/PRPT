{
 "cells": [
  {
   "cell_type": "markdown",
   "id": "1f0b76ec-235f-498d-b3be-1d87186185d6",
   "metadata": {},
   "source": [
    "## Differences between `list` and numpy `ndarray'"
   ]
  },
  {
   "cell_type": "code",
   "execution_count": null,
   "id": "234694db-1822-40ad-a91b-e9d9f6e60253",
   "metadata": {},
   "outputs": [],
   "source": [
    "import numpy as np"
   ]
  },
  {
   "cell_type": "code",
   "execution_count": null,
   "id": "3e72786c-d390-42d6-b640-7481fdc6276d",
   "metadata": {
    "deletable": false,
    "nbgrader": {
     "cell_type": "code",
     "checksum": "acaa06cd9b539704a3cc1628efeada34",
     "grade": true,
     "grade_id": "cell-9f97501e0d2bb2e1",
     "locked": false,
     "points": 1,
     "schema_version": 3,
     "solution": true,
     "task": false
    },
    "tags": []
   },
   "outputs": [],
   "source": [
    "# Create list named lst consisting letters from \"a\" to \"d\"\n",
    "\n",
    "# YOUR CODE HERE\n",
    "raise NotImplementedError()\n",
    "print(lst)\n",
    "\n",
    "# Create ndarray named arr same as this list\n",
    "# YOUR CODE HERE\n",
    "raise NotImplementedError()\n",
    "print(arr)\n"
   ]
  },
  {
   "cell_type": "code",
   "execution_count": null,
   "id": "c5f8294f-8898-401c-a1cf-3ce12db1eefa",
   "metadata": {
    "deletable": false,
    "editable": false,
    "nbgrader": {
     "cell_type": "code",
     "checksum": "71a3b41d87262ac683e6cd974c181304",
     "grade": true,
     "grade_id": "cell-69ec0617c0969596",
     "locked": true,
     "points": 1,
     "schema_version": 3,
     "solution": false,
     "task": false
    },
    "tags": []
   },
   "outputs": [],
   "source": [
    "\"Check that you have correct result\"\n",
    "assert lst == [\"a\", \"b\", \"c\", \"d\"]\n",
    "assert lst == np.ndarray.tolist(arr)"
   ]
  },
  {
   "cell_type": "code",
   "execution_count": null,
   "id": "66862ccc-5615-4df6-8b5b-be98bd12a5f3",
   "metadata": {
    "deletable": false,
    "nbgrader": {
     "cell_type": "code",
     "checksum": "e14403c7cecda3363d6a13452dad28e5",
     "grade": false,
     "grade_id": "length",
     "locked": false,
     "schema_version": 3,
     "solution": true,
     "task": false
    },
    "tags": []
   },
   "outputs": [],
   "source": [
    "# What is length of both?\n",
    "\n",
    "# YOUR CODE HERE\n",
    "raise NotImplementedError()\n",
    "\n",
    "print(answer1)\n",
    "print(answer2)"
   ]
  },
  {
   "cell_type": "code",
   "execution_count": null,
   "id": "5b0caf90-3420-4716-953e-8c8b6e07ce16",
   "metadata": {
    "deletable": false,
    "editable": false,
    "nbgrader": {
     "cell_type": "code",
     "checksum": "d88b6e36d39696312ac2ef6f7cbfb5c3",
     "grade": true,
     "grade_id": "length_test",
     "locked": true,
     "points": 1,
     "schema_version": 3,
     "solution": false,
     "task": false
    },
    "tags": []
   },
   "outputs": [],
   "source": [
    "# Hidden results check"
   ]
  },
  {
   "cell_type": "code",
   "execution_count": null,
   "id": "543a67ae-fc4a-402b-917d-2ea86cf8680d",
   "metadata": {
    "deletable": false,
    "nbgrader": {
     "cell_type": "code",
     "checksum": "698f679daf99e97c4a76f65ace3abe29",
     "grade": false,
     "grade_id": "types",
     "locked": false,
     "schema_version": 3,
     "solution": true,
     "task": false
    },
    "tags": []
   },
   "outputs": [],
   "source": [
    "# What are types of objects in both?\n",
    "\n",
    "# YOUR CODE HERE\n",
    "raise NotImplementedError()\n",
    "\n",
    "print(answer1)\n",
    "print(answer2)"
   ]
  },
  {
   "cell_type": "code",
   "execution_count": null,
   "id": "7f077f56-5021-4bb5-9351-69240c2c1bfc",
   "metadata": {
    "deletable": false,
    "editable": false,
    "nbgrader": {
     "cell_type": "code",
     "checksum": "b31712f96457b0b1a9d7f31e39ac1682",
     "grade": true,
     "grade_id": "types_test",
     "locked": true,
     "points": 1,
     "schema_version": 3,
     "solution": false,
     "task": false
    },
    "tags": []
   },
   "outputs": [],
   "source": [
    "# Hidden results check"
   ]
  },
  {
   "cell_type": "code",
   "execution_count": null,
   "id": "1f5e4cf5-b5db-42db-8c42-c4465ab60fc5",
   "metadata": {
    "deletable": false,
    "nbgrader": {
     "cell_type": "code",
     "checksum": "404f48905fee529339b39db1953fe883",
     "grade": false,
     "grade_id": "create",
     "locked": false,
     "schema_version": 3,
     "solution": true,
     "task": false
    },
    "tags": []
   },
   "outputs": [],
   "source": [
    "# Create 20 element list and ndarray consisting consecutive numbers starting from 1\n",
    "\n",
    "# YOUR CODE HERE\n",
    "raise NotImplementedError()\n",
    "\n",
    "print( \"List: \", nbr)\n",
    "print(\"ndarray: \", arr)"
   ]
  },
  {
   "cell_type": "code",
   "execution_count": null,
   "id": "19682cf5-a707-4a2a-9f2b-8ff27c4d4cc9",
   "metadata": {
    "deletable": false,
    "editable": false,
    "nbgrader": {
     "cell_type": "code",
     "checksum": "8b5e747f6c460803a75f77c31f815631",
     "grade": true,
     "grade_id": "create_test",
     "locked": true,
     "points": 1,
     "schema_version": 3,
     "solution": false,
     "task": false
    },
    "tags": []
   },
   "outputs": [],
   "source": [
    "assert isinstance(nbr, list)\n",
    "assert isinstance(arr, np.ndarray)\n",
    "assert nbr[0] == 1\n",
    "assert arr[0] == 1\n",
    "assert nbr[-1] == 20\n",
    "assert arr[-1] == 20\n",
    "assert len(nbr) == 20\n",
    "assert len(arr) == 20"
   ]
  },
  {
   "cell_type": "code",
   "execution_count": null,
   "id": "2c2062f7-76e3-4793-92c6-120691d15a4d",
   "metadata": {
    "deletable": false,
    "nbgrader": {
     "cell_type": "code",
     "checksum": "0e7c4132ab87b926da82ee93d9e40e52",
     "grade": false,
     "grade_id": "cell-7ca22235d0fa22c9",
     "locked": false,
     "schema_version": 3,
     "solution": true,
     "task": false
    },
    "tags": []
   },
   "outputs": [],
   "source": [
    "# Multiply both by 3\n",
    "\n",
    "# YOUR CODE HERE\n",
    "raise NotImplementedError()\n",
    "\n",
    "print(answer1)\n",
    "print(answer2)"
   ]
  },
  {
   "cell_type": "markdown",
   "id": "96068319-d8bc-4f13-baaf-8d4815a0a382",
   "metadata": {},
   "source": [
    "Write below what is the difference in the results."
   ]
  },
  {
   "cell_type": "markdown",
   "id": "5b50d850-66e9-4398-9c4c-488a66cda0bf",
   "metadata": {
    "deletable": false,
    "nbgrader": {
     "cell_type": "markdown",
     "checksum": "e9a309f17c955ab250482a160c248ba4",
     "grade": true,
     "grade_id": "roznica_mnozenia",
     "locked": false,
     "points": 1,
     "schema_version": 3,
     "solution": true,
     "task": false
    },
    "tags": []
   },
   "source": [
    "YOUR ANSWER HERE"
   ]
  },
  {
   "cell_type": "code",
   "execution_count": null,
   "id": "ae5c0eee-675d-4223-a71c-7992a13d9593",
   "metadata": {
    "deletable": false,
    "nbgrader": {
     "cell_type": "code",
     "checksum": "c74f2d9f91f3c11b5cee0e18051990ac",
     "grade": false,
     "grade_id": "add_10",
     "locked": false,
     "schema_version": 3,
     "solution": true,
     "task": false
    },
    "tags": []
   },
   "outputs": [],
   "source": [
    "# Add 10 to both\n",
    "\n",
    "# YOUR CODE HERE\n",
    "raise NotImplementedError()\n",
    "\n",
    "print(answer1)\n",
    "print(answer2)"
   ]
  },
  {
   "cell_type": "markdown",
   "id": "efb6dbc2-013a-4bda-ad59-08d9a9015bc0",
   "metadata": {},
   "source": [
    "Write below what is the difference in the results."
   ]
  },
  {
   "cell_type": "markdown",
   "id": "ef110366-fe41-4b28-adee-de79490d25ac",
   "metadata": {
    "deletable": false,
    "nbgrader": {
     "cell_type": "markdown",
     "checksum": "5c2769d0919a18f667e1cff0d1beb808",
     "grade": true,
     "grade_id": "roznica_dodawania",
     "locked": false,
     "points": 1,
     "schema_version": 3,
     "solution": true,
     "task": false
    },
    "tags": []
   },
   "source": [
    "YOUR ANSWER HERE"
   ]
  },
  {
   "cell_type": "code",
   "execution_count": null,
   "id": "458fee10-9411-4973-8a2c-504e0820ba43",
   "metadata": {
    "deletable": false,
    "nbgrader": {
     "cell_type": "code",
     "checksum": "789433afb6d21d531820fa9e80d0c97f",
     "grade": false,
     "grade_id": "dzielenie",
     "locked": false,
     "schema_version": 3,
     "solution": true,
     "task": false
    },
    "tags": []
   },
   "outputs": [],
   "source": [
    "# Divide both by 100\n",
    "\n",
    "# YOUR CODE HERE\n",
    "raise NotImplementedError()\n",
    "\n",
    "print(answer1) # nbr\n",
    "print(answer2) # arr"
   ]
  },
  {
   "cell_type": "code",
   "execution_count": null,
   "id": "66998c5b-3c46-48e9-b989-a9daebd28afc",
   "metadata": {
    "deletable": false,
    "editable": false,
    "nbgrader": {
     "cell_type": "code",
     "checksum": "195fbd833fe3567d87bc54cbecfa35be",
     "grade": true,
     "grade_id": "dzielenie_test",
     "locked": true,
     "points": 1,
     "schema_version": 3,
     "solution": false,
     "task": false
    },
    "tags": []
   },
   "outputs": [],
   "source": [
    "assert answer1 == np.ndarray.tolist(answer2)"
   ]
  },
  {
   "cell_type": "markdown",
   "id": "2112516e-c877-4265-8705-1470f74f206c",
   "metadata": {},
   "source": [
    "## Standard Deviation Calculation"
   ]
  },
  {
   "cell_type": "markdown",
   "id": "34923a19-a903-414d-8dbf-fece2d5ad8e3",
   "metadata": {},
   "source": [
    "The formula for standard deviation (SD) is\n",
    "\n",
    "$SD = \\sqrt{\\frac{\\sum{\\mid x - \\mu \\mid ^2}}{N}}$\n",
    "\n",
    "where $\\sum$ sum means \"sum of\", $x$ is a value in the data set, $\\mu$ is the mean of the data set, and $N$ is the number of data points in the population.\n",
    "\n",
    "The steps you're about to follow to calculate the standard deviation:\n",
    "\n",
    "Step 1: Find the mean.\n",
    "\n",
    "Step 2: For each data point, find the square of its distance to the mean.\n",
    "\n",
    "Step 3: Sum the values from Step 2.\n",
    "\n",
    "Step 4: Divide by the number of data points.\n",
    "\n",
    "Step 5: Take the square root."
   ]
  },
  {
   "cell_type": "markdown",
   "id": "f6bd3773-ec60-4080-97bb-43833bf0dcf1",
   "metadata": {},
   "source": [
    "Our data:"
   ]
  },
  {
   "cell_type": "code",
   "execution_count": null,
   "id": "a357e374-4bf9-48a4-bf69-de740082a4fa",
   "metadata": {},
   "outputs": [],
   "source": [
    "np.random.seed(1)\n",
    "data = np.random.randn(300,2)"
   ]
  },
  {
   "cell_type": "code",
   "execution_count": null,
   "id": "3551dcd8-450c-4a23-9fa5-fbe410bc3427",
   "metadata": {
    "deletable": false,
    "nbgrader": {
     "cell_type": "code",
     "checksum": "7b70f1386fa308c13190cda602e0a0be",
     "grade": false,
     "grade_id": "5_first_rows",
     "locked": false,
     "schema_version": 3,
     "solution": true,
     "task": false
    },
    "tags": []
   },
   "outputs": [],
   "source": [
    "#What are first 5 rows of the data?\n",
    "\n",
    "# YOUR CODE HERE\n",
    "raise NotImplementedError()\n",
    "\n",
    "answer"
   ]
  },
  {
   "cell_type": "code",
   "execution_count": null,
   "id": "0ff9c930-ad7b-4879-b8f0-8f3bcb60c09d",
   "metadata": {
    "deletable": false,
    "editable": false,
    "nbgrader": {
     "cell_type": "code",
     "checksum": "90ccb51b321809e885902b6818702298",
     "grade": true,
     "grade_id": "5_first_rows_test",
     "locked": true,
     "points": 1,
     "schema_version": 3,
     "solution": false,
     "task": false
    },
    "tags": []
   },
   "outputs": [],
   "source": [
    "assert answer.ndim == 2\n",
    "assert answer.size == 10\n"
   ]
  },
  {
   "cell_type": "code",
   "execution_count": null,
   "id": "5ba834d0-c8b4-4531-a596-d4a17200eaae",
   "metadata": {
    "deletable": false,
    "nbgrader": {
     "cell_type": "code",
     "checksum": "4d85c014d013e089fde49f57610aa6a9",
     "grade": false,
     "grade_id": "sum_columns",
     "locked": false,
     "schema_version": 3,
     "solution": true,
     "task": false
    },
    "tags": []
   },
   "outputs": [],
   "source": [
    "# create new array called data1 consisting sum of these two columns\n",
    "\n",
    "# YOUR CODE HERE\n",
    "raise NotImplementedError()\n",
    "data1[:10]"
   ]
  },
  {
   "cell_type": "code",
   "execution_count": null,
   "id": "a62728bf-2f3e-4959-8979-557e86f971da",
   "metadata": {
    "deletable": false,
    "editable": false,
    "nbgrader": {
     "cell_type": "code",
     "checksum": "1e48d3ea0e423ab331c6f81a5b30cbcd",
     "grade": true,
     "grade_id": "sum_columns_test",
     "locked": true,
     "points": 1,
     "schema_version": 3,
     "solution": false,
     "task": false
    },
    "tags": []
   },
   "outputs": [],
   "source": [
    "# Hidden results check"
   ]
  },
  {
   "cell_type": "code",
   "execution_count": null,
   "id": "fc4da578-57f9-4946-a2af-2b7d20d6ddd3",
   "metadata": {
    "deletable": false,
    "nbgrader": {
     "cell_type": "code",
     "checksum": "8496cf93653f02cc7890e9f5db9fbb81",
     "grade": false,
     "grade_id": "mean",
     "locked": false,
     "schema_version": 3,
     "solution": true,
     "task": false
    },
    "tags": []
   },
   "outputs": [],
   "source": [
    "# Step 1: Find the mean of data1\n",
    "\n",
    "# YOUR CODE HERE\n",
    "raise NotImplementedError()\n",
    "mn"
   ]
  },
  {
   "cell_type": "code",
   "execution_count": null,
   "id": "cc22b17f-ec43-41f7-bbde-1727dd6341b0",
   "metadata": {
    "deletable": false,
    "editable": false,
    "nbgrader": {
     "cell_type": "code",
     "checksum": "19f9a72f1d803f50f7a2f0066a953dd8",
     "grade": true,
     "grade_id": "mean_test",
     "locked": true,
     "points": 1,
     "schema_version": 3,
     "solution": false,
     "task": false
    },
    "tags": []
   },
   "outputs": [],
   "source": [
    "assert mn == .13092478126002602"
   ]
  },
  {
   "cell_type": "code",
   "execution_count": null,
   "id": "951cc3bf-8e59-4470-bf38-1978bde75578",
   "metadata": {
    "deletable": false,
    "nbgrader": {
     "cell_type": "code",
     "checksum": "f8a517b6064d261f8c482096bae0491c",
     "grade": false,
     "grade_id": "distance_mean",
     "locked": false,
     "schema_version": 3,
     "solution": true,
     "task": false
    },
    "tags": []
   },
   "outputs": [],
   "source": [
    "# Step 2: For each data point, find the square (np.square) of its distance to the mean.\n",
    "\n",
    "# YOUR CODE HERE\n",
    "raise NotImplementedError()\n",
    "\n",
    "dist[:10]"
   ]
  },
  {
   "cell_type": "code",
   "execution_count": null,
   "id": "da4c43fb-c30c-4dec-b3eb-a15788ad0565",
   "metadata": {
    "deletable": false,
    "editable": false,
    "nbgrader": {
     "cell_type": "code",
     "checksum": "9e4eeb87c0ae155ccf20e314d8911508",
     "grade": true,
     "grade_id": "distance_mean_test",
     "locked": true,
     "points": 1,
     "schema_version": 3,
     "solution": false,
     "task": false
    },
    "tags": []
   },
   "outputs": [],
   "source": [
    "assert dist[0] == 0.777331706463166"
   ]
  },
  {
   "cell_type": "code",
   "execution_count": null,
   "id": "b95b5ba5-10bc-461a-b06d-4d121ea30014",
   "metadata": {
    "deletable": false,
    "nbgrader": {
     "cell_type": "code",
     "checksum": "d1c2fb2875f757086e3821d3e2f333cb",
     "grade": false,
     "grade_id": "dist_sum",
     "locked": false,
     "schema_version": 3,
     "solution": true,
     "task": false
    },
    "tags": []
   },
   "outputs": [],
   "source": [
    "# Step 3: Sum the values from Step 2\n",
    "\n",
    "# YOUR CODE HERE\n",
    "raise NotImplementedError()\n",
    "answer"
   ]
  },
  {
   "cell_type": "code",
   "execution_count": null,
   "id": "551afabe-3a07-44ea-aadd-039898ddfd9e",
   "metadata": {
    "deletable": false,
    "editable": false,
    "nbgrader": {
     "cell_type": "code",
     "checksum": "4618b98c460cd932ab8a16e7ce6a2ec0",
     "grade": true,
     "grade_id": "dist_sum_test",
     "locked": true,
     "points": 1,
     "schema_version": 3,
     "solution": false,
     "task": false
    },
    "tags": []
   },
   "outputs": [],
   "source": [
    "assert answer == 538.7307843276668"
   ]
  },
  {
   "cell_type": "code",
   "execution_count": null,
   "id": "86033266-19ab-40fe-ba7e-de9cf87e3b47",
   "metadata": {
    "deletable": false,
    "nbgrader": {
     "cell_type": "code",
     "checksum": "d6b694dd9801810998a9c5a3d70a6d57",
     "grade": false,
     "grade_id": "divide_by_number",
     "locked": false,
     "schema_version": 3,
     "solution": true,
     "task": false
    },
    "tags": []
   },
   "outputs": [],
   "source": [
    "# Step 4: Divide by the number of data points\n",
    "\n",
    "# YOUR CODE HERE\n",
    "raise NotImplementedError()\n",
    "answer"
   ]
  },
  {
   "cell_type": "code",
   "execution_count": null,
   "id": "24619560-fa51-41ea-b728-5ccbf93d8dd4",
   "metadata": {
    "deletable": false,
    "editable": false,
    "nbgrader": {
     "cell_type": "code",
     "checksum": "186c86b7fd64f440a474e61e0d97db95",
     "grade": true,
     "grade_id": "divide_by_number_test",
     "locked": true,
     "points": 1,
     "schema_version": 3,
     "solution": false,
     "task": false
    },
    "tags": []
   },
   "outputs": [],
   "source": [
    "assert answer == 1.7957692810922228"
   ]
  },
  {
   "cell_type": "code",
   "execution_count": null,
   "id": "44be2b71-1e46-400b-9504-494be83e6907",
   "metadata": {
    "deletable": false,
    "nbgrader": {
     "cell_type": "code",
     "checksum": "e320ce5ce25faf23b62565bc4ced1288",
     "grade": false,
     "grade_id": "sd",
     "locked": false,
     "schema_version": 3,
     "solution": true,
     "task": false
    },
    "tags": []
   },
   "outputs": [],
   "source": [
    "# Step 5: Take the square root.\n",
    "import math\n",
    "\n",
    "# YOUR CODE HERE\n",
    "raise NotImplementedError()\n",
    "\n",
    "sd"
   ]
  },
  {
   "cell_type": "code",
   "execution_count": null,
   "id": "35a1891d-1de4-4bc2-bd0c-2f3963b88b28",
   "metadata": {
    "deletable": false,
    "editable": false,
    "nbgrader": {
     "cell_type": "code",
     "checksum": "497651362d7ddff9fa169e66b1ac0fa0",
     "grade": true,
     "grade_id": "sd_test",
     "locked": true,
     "points": 1,
     "schema_version": 3,
     "solution": false,
     "task": false
    },
    "tags": []
   },
   "outputs": [],
   "source": [
    "assert sd == 1.3400631630980022"
   ]
  }
 ],
 "metadata": {
  "kernelspec": {
   "display_name": "Python 3 (ipykernel)",
   "language": "python",
   "name": "python3"
  },
  "language_info": {
   "codemirror_mode": {
    "name": "ipython",
    "version": 3
   },
   "file_extension": ".py",
   "mimetype": "text/x-python",
   "name": "python",
   "nbconvert_exporter": "python",
   "pygments_lexer": "ipython3",
   "version": "3.9.13"
  }
 },
 "nbformat": 4,
 "nbformat_minor": 5
}
