{
 "cells": [
  {
   "cell_type": "markdown",
   "id": "bb055585-a14d-4533-918f-e0ef5bfc4265",
   "metadata": {},
   "source": [
    "# Reading and Writing Data\n",
    "\n",
    "pandas features a number of functions for reading tabular data as a DataFrame object. The most common are `pandas.read_csv` and `read_excel`. Full list of build-in format you can find [here](https://pandas.pydata.org/docs/reference/io.html)."
   ]
  },
  {
   "cell_type": "code",
   "execution_count": null,
   "id": "09af7277-e2d1-4cf0-a12d-6421cdad3c51",
   "metadata": {},
   "outputs": [],
   "source": [
    "import pandas as pd\n",
    "import numpy as np"
   ]
  },
  {
   "cell_type": "markdown",
   "id": "fd360e13-f4f4-44a0-9658-c6bd573f470c",
   "metadata": {},
   "source": [
    "You already know how to read a csv file.\n",
    "It is a simple text file where columns are separated by comma."
   ]
  },
  {
   "cell_type": "code",
   "execution_count": null,
   "id": "91414ad8-64eb-46e1-bace-0af4c271f74d",
   "metadata": {},
   "outputs": [],
   "source": [
    "pov = pd.read_csv(\"C:\\\\Users\\\\iwo.augustynski\\\\Downloads\\\\share-of-population-in-extreme-poverty.csv\")"
   ]
  },
  {
   "cell_type": "markdown",
   "id": "d2bdd85f-c751-4fca-a53b-ffd0afc9694d",
   "metadata": {},
   "source": [
    "Writing to the same format is easy:"
   ]
  },
  {
   "cell_type": "code",
   "execution_count": null,
   "id": "9e0a53f6-8b85-4a97-8e52-a62ca1d38606",
   "metadata": {},
   "outputs": [],
   "source": [
    "pov.to_csv(\"poverty.csv\")"
   ]
  },
  {
   "cell_type": "markdown",
   "id": "801889d9-8906-4d33-91b2-27f3b1c5490a",
   "metadata": {},
   "source": [
    "It works the same for Excel files\n",
    "\n",
    "Writing:"
   ]
  },
  {
   "cell_type": "code",
   "execution_count": null,
   "id": "2af39c0e-6568-4bee-8d90-3f91278d0e3c",
   "metadata": {},
   "outputs": [],
   "source": [
    "pov.to_excel(\"poverty.xlsx\")"
   ]
  },
  {
   "cell_type": "markdown",
   "id": "11b74051-a8ee-41a2-8bd0-26d4104e37c6",
   "metadata": {},
   "source": [
    "If you wish to specify sheet name:"
   ]
  },
  {
   "cell_type": "code",
   "execution_count": null,
   "id": "e468f09c-75f4-4f52-8962-40cba88ed2c7",
   "metadata": {
    "tags": []
   },
   "outputs": [],
   "source": [
    "pov.to_excel(\"poverty_sheet.xlsx\", sheet_name='Sheet_name_1')"
   ]
  },
  {
   "cell_type": "markdown",
   "id": "95b50d41-0ec5-4037-b576-e7540c80c8b9",
   "metadata": {},
   "source": [
    "If you wish to write to more than one sheet in the workbook, it is necessary to specify an ExcelWriter object:"
   ]
  },
  {
   "cell_type": "code",
   "execution_count": null,
   "id": "00986647-3327-4f93-8178-3f583c6179a0",
   "metadata": {},
   "outputs": [],
   "source": [
    "pov_copy = pov.copy()\n",
    "\n",
    "with pd.ExcelWriter('poverty_sheets.xlsx') as writer:\n",
    "    pov.to_excel(writer, sheet_name='Sheet_name_1')\n",
    "    pov_copy.to_excel(writer, sheet_name='Sheet_name_2')"
   ]
  },
  {
   "cell_type": "markdown",
   "id": "68052218-60b8-4204-90bd-c25e24d06b6b",
   "metadata": {},
   "source": [
    "And reading:"
   ]
  },
  {
   "cell_type": "code",
   "execution_count": null,
   "id": "1543fc54-cb11-4a74-a7ce-958bb574b01d",
   "metadata": {
    "tags": []
   },
   "outputs": [],
   "source": [
    "pov_xls = pd.read_excel(\"poverty.xlsx\")\n",
    "\n",
    "pov_xls = pd.read_excel(\"poverty_sheets.xlsx\", sheet_name='Sheet_name_1') # or\n",
    "pov_xls = pd.read_excel(\"poverty_sheets.xlsx\", sheet_name= 0 ) "
   ]
  },
  {
   "cell_type": "markdown",
   "id": "85395fe7-8990-4333-ac19-acbcaf311bd7",
   "metadata": {},
   "source": [
    "For more options check `pd.read_excel?`"
   ]
  },
  {
   "cell_type": "markdown",
   "id": "a7e8c2c6-f7ac-4e4b-8835-289c9418d826",
   "metadata": {},
   "source": [
    "## Data Transformation"
   ]
  },
  {
   "cell_type": "markdown",
   "id": "7084cc36-dd97-430d-a3c0-b36481de4565",
   "metadata": {},
   "source": [
    "### Removing duplicates"
   ]
  },
  {
   "cell_type": "code",
   "execution_count": null,
   "id": "8c24bf75-68da-44ac-acf4-46d045a56261",
   "metadata": {},
   "outputs": [],
   "source": [
    "data = pd.DataFrame({\"k1\": [\"one\", \"two\"] * 3 + [\"two\"],\n",
    "                     \"k2\": [1, 1, 2, 3, 3, 4, 4]})\n",
    "\n",
    "data"
   ]
  },
  {
   "cell_type": "markdown",
   "id": "cad4b1ea-cf98-4778-b9b4-e9052616b40f",
   "metadata": {},
   "source": [
    "The DataFrame method duplicated returns a Boolean Series indicating whether **each row** is a duplicate (its columns values are exactly equal to those in an earlier row) or not:"
   ]
  },
  {
   "cell_type": "code",
   "execution_count": null,
   "id": "2fdb7548-f698-447b-922a-b09ad3aa6495",
   "metadata": {},
   "outputs": [],
   "source": [
    "data.duplicated()"
   ]
  },
  {
   "cell_type": "markdown",
   "id": "2aee25c9-1182-4477-bc64-81a59c073c9c",
   "metadata": {},
   "source": [
    "As you can see last row is identical to the row before.\n",
    "\n",
    "Relatedly, `drop_duplicates` returns a DataFrame with rows where the `duplicated` array is False filtered out:"
   ]
  },
  {
   "cell_type": "code",
   "execution_count": null,
   "id": "6541eb6d-e95d-4615-a435-5fe9a1eb8d7d",
   "metadata": {},
   "outputs": [],
   "source": [
    "data.drop_duplicates()"
   ]
  },
  {
   "cell_type": "markdown",
   "id": "51198bd6-f99d-47e4-80f0-6b6baba062b6",
   "metadata": {},
   "source": [
    "Both methods by default consider all of the columns; alternatively, you can specify any subset of them to detect duplicates: `data.duplicated([\"name_of_column\"])`\n",
    "\n",
    "**Assignment**: create new dataframe pov_last consisting last year available for all countries.\n",
    "Tip: use option keep=\"last\" in `drop_duplicates()`"
   ]
  },
  {
   "cell_type": "code",
   "execution_count": null,
   "id": "c6181ab9-d4ba-461b-b77b-839f4d443ba1",
   "metadata": {
    "deletable": false,
    "nbgrader": {
     "cell_type": "code",
     "checksum": "7e812c01ff740f108b5ed87b4c8befdb",
     "grade": false,
     "grade_id": "cell-a92f4ed7d08bf2cd",
     "locked": false,
     "schema_version": 3,
     "solution": true,
     "task": false
    },
    "tags": []
   },
   "outputs": [],
   "source": [
    "# YOUR CODE HERE\n",
    "raise NotImplementedError()\n",
    "\n",
    "pov_last"
   ]
  },
  {
   "cell_type": "markdown",
   "id": "4b2778ba-df07-42c5-9f91-67ca2824681d",
   "metadata": {},
   "source": [
    "### Pivoting\n",
    "\n",
    "As you already know data in tables could be presented in two forms: \"long\" where each observation has its own row or \"wide\" where observations are located in columns. For instance our poverty dataset has the \"long\" format. Each observation i.e. share of population below poverty line for observed year has its own row.\n",
    "In R you can swap formats using `tidyr` `pivot_longer` or `pivot_wider` functions.\n",
    "Pandas offers obviously similar functionalities:\n",
    "\n",
    " - **Pivoting “Long” to “Wide” Format** - `pandas.pivot`\n",
    " \n",
    " - **Pivoting “Wide” to “Long” Format** - `pandas.melt` "
   ]
  },
  {
   "cell_type": "markdown",
   "id": "f9fd6e54-9dad-406f-a64d-4b3a6795da99",
   "metadata": {},
   "source": [
    "**Pivoting “Wide” to “Long” Format**"
   ]
  },
  {
   "cell_type": "code",
   "execution_count": null,
   "id": "bd97943e-8fd8-481e-a8e7-9465cafeb6a1",
   "metadata": {},
   "outputs": [],
   "source": [
    "# Our \"wide\" dataframe\n",
    "data = pd.DataFrame(np.arange(6).reshape((3, 2)),\n",
    "                    columns=pd.Index([\"Africa\", \"Asia\"], name=\"continent\"))\n",
    "\n",
    "data[\"country\"] = [\"one\", \"two\", \"three\"]\n",
    "data"
   ]
  },
  {
   "cell_type": "code",
   "execution_count": null,
   "id": "14556886-3a3e-45ca-be8e-10a2f9077828",
   "metadata": {},
   "outputs": [],
   "source": [
    "data_long = pd.melt(data, id_vars = \"country\")\n",
    "data_long"
   ]
  },
  {
   "cell_type": "markdown",
   "id": "e542b6c7-65a2-4e6a-9955-9e13898ccba3",
   "metadata": {},
   "source": [
    "**Pivoting “Long” to “Wide” Format**"
   ]
  },
  {
   "cell_type": "code",
   "execution_count": null,
   "id": "ab28fc27-64e2-4fea-8d34-35eff47b9dee",
   "metadata": {},
   "outputs": [],
   "source": [
    "data_wide = data_long.pivot(index = \"country\", columns = \"continent\", values = \"value\") \n",
    "data_wide"
   ]
  },
  {
   "cell_type": "markdown",
   "id": "861d7d79-408b-4e83-a66d-0a7dd4c544c2",
   "metadata": {},
   "source": [
    "**Assignment**: Pivot our `pov` dataFrame. Which column you can use?\n",
    "\n",
    "First prepare our dataset. Filter only years >2010 and choose any three countries (you can use `isin` to select multiple values). Preferably in one go."
   ]
  },
  {
   "cell_type": "code",
   "execution_count": null,
   "id": "6d3c43ab-1b46-44df-8f29-15cc609df1b4",
   "metadata": {
    "deletable": false,
    "nbgrader": {
     "cell_type": "code",
     "checksum": "eac0c74dc0a27f19db18847a3a886300",
     "grade": false,
     "grade_id": "cell-684792198fbaaefc",
     "locked": false,
     "schema_version": 3,
     "solution": true,
     "task": false
    },
    "tags": []
   },
   "outputs": [],
   "source": [
    "# YOUR CODE HERE\n",
    "raise NotImplementedError()\n",
    "\n",
    "pov_sample"
   ]
  },
  {
   "cell_type": "markdown",
   "id": "2db72af8-5860-4501-9f52-ebee93d96d23",
   "metadata": {},
   "source": [
    "Now pivot our pivot_sample!"
   ]
  },
  {
   "cell_type": "code",
   "execution_count": null,
   "id": "0948bec5-3383-4cbe-b8b6-89022d80233c",
   "metadata": {
    "deletable": false,
    "nbgrader": {
     "cell_type": "code",
     "checksum": "694754e2aef0eb6bf6c57b82cd10b9a1",
     "grade": false,
     "grade_id": "cell-27f40767af0963e4",
     "locked": false,
     "schema_version": 3,
     "solution": true,
     "task": false
    },
    "tags": []
   },
   "outputs": [],
   "source": [
    "\n",
    "# YOUR CODE HERE\n",
    "raise NotImplementedError()\n",
    "pov_wide"
   ]
  },
  {
   "cell_type": "markdown",
   "id": "9331b357-4acb-48e3-b4fc-e1e4710ce39c",
   "metadata": {},
   "source": [
    "As you can see it was necessary to create `NaN` values.\n",
    "\n",
    "Sometimes it is better not to have `NaN` or something similar in dataset. In such cases these values are replaced by special number, preferably unrealistic like negative or higher than 100 in our case.\n",
    "\n",
    "For that purpose pandas offers `pandas.fillna()` method."
   ]
  },
  {
   "cell_type": "code",
   "execution_count": null,
   "id": "334042a9-cccc-49d7-9adc-093afa3a1866",
   "metadata": {},
   "outputs": [],
   "source": [
    "pov_wide1 = pov_wide.fillna(999)\n",
    "\n",
    "pov_wide1"
   ]
  },
  {
   "cell_type": "markdown",
   "id": "72d4dd3c-72a9-4f71-8ce1-127c0ca5b5cb",
   "metadata": {},
   "source": [
    "As you can see very conveniently missing values in all colums are replaced :) \n",
    "Unfortunately that means if you need to replace values only in selected columns you have to do it column by column in following way:\n",
    "`your_dataframe['name_of_column'] = your_dataframe['name_of_column'].fillna(some_value)`"
   ]
  },
  {
   "cell_type": "markdown",
   "id": "ef147319-330a-42b5-9bb6-9051f1336137",
   "metadata": {},
   "source": [
    "### Hierarchical Indexing\n",
    "\n",
    "*Hierarchical indexing* is an important feature of pandas that enables you to have multiple (two or more) index levels on an axis. Another way of thinking about it is that it provides a way for you to work with higher dimensional data in a lower dimensional form. Let’s start with a simple example: create a Series with a list of lists (or arrays) as the index:"
   ]
  },
  {
   "cell_type": "code",
   "execution_count": null,
   "id": "f73c55ab-834b-4288-beac-bc97c83f79fe",
   "metadata": {},
   "outputs": [],
   "source": [
    "data = pd.Series(np.random.uniform(size=9),\n",
    "                 index=[[\"a\", \"a\", \"a\", \"b\", \"b\", \"c\", \"c\", \"d\", \"d\"],\n",
    "                        [1, 2, 3, 1, 3, 1, 2, 2, 3]])\n",
    "\n",
    "data"
   ]
  },
  {
   "cell_type": "markdown",
   "id": "1e42c906-b7a7-4a71-b3d6-90cc376f7598",
   "metadata": {},
   "source": [
    "What you’re seeing is a prettified view of a Series with a `MultiIndex` as its index. The “gaps” in the index display mean “use the label directly above”:"
   ]
  },
  {
   "cell_type": "code",
   "execution_count": null,
   "id": "59087434-90c7-4052-81a0-673c53a7c373",
   "metadata": {},
   "outputs": [],
   "source": [
    "data.index"
   ]
  },
  {
   "cell_type": "markdown",
   "id": "2f68a273-7c33-437b-a34f-8b333c93d7ba",
   "metadata": {},
   "source": [
    "With a hierarchically indexed object, so-called partial indexing is possible, enabling you to concisely **select subsets** of the data:"
   ]
  },
  {
   "cell_type": "code",
   "execution_count": null,
   "id": "6c868ee3-3251-419a-b1fe-1ff8dcc94334",
   "metadata": {},
   "outputs": [],
   "source": [
    "print(data[\"b\"])\n",
    "print(data[\"b\":\"c\"])\n",
    "print(data.loc[[\"b\", \"d\"]])"
   ]
  },
  {
   "cell_type": "markdown",
   "id": "2efd23e2-a3eb-48bc-adc6-b6bef2c059a4",
   "metadata": {},
   "source": [
    "Selection is even possible from an “inner” level. Here I select all of the values having the value 2 from the second index level:"
   ]
  },
  {
   "cell_type": "code",
   "execution_count": null,
   "id": "b360b848-262f-4a32-b6b5-225264a68dc0",
   "metadata": {},
   "outputs": [],
   "source": [
    "data.loc[:, 2]"
   ]
  },
  {
   "cell_type": "markdown",
   "id": "6ffd4342-b68e-4841-baf3-106990fffb07",
   "metadata": {},
   "source": [
    "**Hierarchical indexing plays an important role in reshaping data and in group-based operations like forming a pivot table.** \n",
    "\n",
    "For example, you can change \"long\" format to \"wide\" of a DataFrame using its `unstack` method:"
   ]
  },
  {
   "cell_type": "code",
   "execution_count": null,
   "id": "ba75b3b2-f6b2-4fbe-920b-aa15461f57cd",
   "metadata": {},
   "outputs": [],
   "source": [
    "data.unstack()"
   ]
  },
  {
   "cell_type": "markdown",
   "id": "928a6e6f-14b8-4c65-b08f-cf021626b167",
   "metadata": {},
   "source": [
    "The inverse operation of `unstack` is `stack`:"
   ]
  },
  {
   "cell_type": "code",
   "execution_count": null,
   "id": "168dbff4-b0f0-4c69-ba5e-8f31d0141730",
   "metadata": {},
   "outputs": [],
   "source": [
    "data.unstack().stack()"
   ]
  },
  {
   "cell_type": "markdown",
   "id": "1ac976fe-4f5d-4c83-96d4-3b1eeb878f6f",
   "metadata": {},
   "source": [
    "With a DataFrame, **either axis can have a hierarchical index**:"
   ]
  },
  {
   "cell_type": "code",
   "execution_count": null,
   "id": "c4cfd93b-982b-415a-a5c4-872553fdac59",
   "metadata": {},
   "outputs": [],
   "source": [
    "frame = pd.DataFrame(np.arange(12).reshape((4, 3)),\n",
    "                     index=[[\"a\", \"a\", \"b\", \"b\"], [1, 2, 1, 2]],\n",
    "                     columns=[[\"Europe\", \"Europe\", \"Asia\"],\n",
    "                              [\"Green\", \"Red\", \"Green\"]])\n",
    "\n",
    "frame"
   ]
  },
  {
   "cell_type": "markdown",
   "id": "51d0825d-7c11-4eed-afe2-e0e1b3d150ac",
   "metadata": {},
   "source": [
    "The hierarchical levels can have names (as strings or any Python objects). If so, these will show up in the console output:"
   ]
  },
  {
   "cell_type": "code",
   "execution_count": null,
   "id": "6ebbcee3-6a58-4038-9ac0-484e72d2e81f",
   "metadata": {},
   "outputs": [],
   "source": [
    "frame.index.names = [\"key1\", \"key2\"]\n",
    "frame.columns.names = [\"continent\", \"color\"]\n",
    "\n",
    "frame"
   ]
  },
  {
   "cell_type": "markdown",
   "id": "fa61c232-cf9a-405f-937b-6f9d4a48e0fb",
   "metadata": {},
   "source": [
    "You can see how many levels an index has by accessing its `nlevels` attribute:"
   ]
  },
  {
   "cell_type": "code",
   "execution_count": null,
   "id": "ef7abfee-a45b-491b-abb3-bd5b2b036f94",
   "metadata": {},
   "outputs": [],
   "source": [
    "frame.index.nlevels"
   ]
  },
  {
   "cell_type": "markdown",
   "id": "56e6b6bf-ca40-4c94-9b19-45fd3c90a2cf",
   "metadata": {},
   "source": [
    "With partial column indexing you can similarly select groups of columns:"
   ]
  },
  {
   "cell_type": "code",
   "execution_count": null,
   "id": "1ba815f1-a630-4133-992b-b5a21dc571bd",
   "metadata": {},
   "outputs": [],
   "source": [
    "frame[\"Europe\"]"
   ]
  },
  {
   "cell_type": "markdown",
   "id": "fbd117e1-9cb6-42c2-8683-4fd6ad0f8b25",
   "metadata": {},
   "source": [
    "A `MultiIndex` can be created by itself and then reused; the columns in the preceding DataFrame with level names could also be created like this:"
   ]
  },
  {
   "cell_type": "code",
   "execution_count": null,
   "id": "685cc074-1c23-4dd0-bc32-d7ef5eb3bd40",
   "metadata": {},
   "outputs": [],
   "source": [
    "pd.MultiIndex.from_arrays([[\"Europe\", \"Europe\", \"Asia\"],\n",
    "                          [\"Green\", \"Red\", \"Green\"]],\n",
    "                          names=[\"continent\", \"color\"])"
   ]
  },
  {
   "cell_type": "markdown",
   "id": "248ac4ad-8c64-4f62-9b8a-5380495bd0d7",
   "metadata": {},
   "source": [
    "As you know, `R` has row names instead of indexes. Contrary to the names of columns row names are rather useless.\n",
    "\n",
    "That means in order to change shape of a table (from \"long\" to \"wide\" and vice versa) we just use columns. In pandas you must first transform columns to (hierarchical) index."
   ]
  },
  {
   "cell_type": "code",
   "execution_count": null,
   "id": "139e6145-34ab-4351-9c76-b7371f60b6bd",
   "metadata": {},
   "outputs": [],
   "source": [
    "frame = pd.DataFrame({\"a\": range(7), \"b\": range(7, 0, -1),\n",
    "                      \"c\": [\"one\", \"one\", \"one\", \"two\", \"two\",\n",
    "                            \"two\", \"two\"],\n",
    "                      \"d\": [0, 1, 2, 0, 1, 2, 3]})\n",
    "\n",
    "frame"
   ]
  },
  {
   "cell_type": "markdown",
   "id": "e02378b6-1b2e-4e74-8211-d3eb03be3d9a",
   "metadata": {},
   "source": [
    "DataFrame’s `set_index` function will create a new DataFrame using one or more of its columns as the index:"
   ]
  },
  {
   "cell_type": "code",
   "execution_count": null,
   "id": "4c749564-1684-4f1d-8e0c-8e1cdeef2dbd",
   "metadata": {},
   "outputs": [],
   "source": [
    "frame2 = frame.set_index([\"c\", \"d\"]) # By default, the columns are removed from the DataFrame, though you can leave them in by passing drop=False to set_index\n",
    "\n",
    "frame2"
   ]
  },
  {
   "cell_type": "markdown",
   "id": "336aa9d1-8167-441e-803d-7e4db5578ce9",
   "metadata": {},
   "source": [
    "`reset_index`, on the other hand, does the opposite of `set_index`; the hierarchical index levels are moved into the columns:"
   ]
  },
  {
   "cell_type": "code",
   "execution_count": null,
   "id": "40176c37-7842-4f53-8ed8-34bd626f7903",
   "metadata": {},
   "outputs": [],
   "source": [
    "frame2.reset_index()"
   ]
  }
 ],
 "metadata": {
  "kernelspec": {
   "display_name": "Python 3 (ipykernel)",
   "language": "python",
   "name": "python3"
  },
  "language_info": {
   "codemirror_mode": {
    "name": "ipython",
    "version": 3
   },
   "file_extension": ".py",
   "mimetype": "text/x-python",
   "name": "python",
   "nbconvert_exporter": "python",
   "pygments_lexer": "ipython3",
   "version": "3.9.13"
  }
 },
 "nbformat": 4,
 "nbformat_minor": 5
}
