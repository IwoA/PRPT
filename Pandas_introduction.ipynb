{
 "cells": [
  {
   "cell_type": "markdown",
   "id": "e2cbcdc3-db5b-475c-a4b1-0b2bebec2f5e",
   "metadata": {},
   "source": [
    "# Getting Started with pandas\n",
    "\n",
    "Pandas contains data structures and data manipulation tools designed to make data cleaning and analysis fast and convenient in Python. pandas is often used in tandem with numerical computing tools like NumPy and SciPy, analytical libraries like statsmodels and scikit-learn, and data visualization libraries like matplotlib. pandas adopts significant parts of NumPy's idiomatic style of array-based computing, especially array-based functions and a preference for data processing without for loops.\n",
    "\n",
    "Pandas was inspired by the R's data.frame and therefore offers similar functions but with Python flavour.\n",
    "\n",
    "In the Python world the following import conventions for NumPy and pandas are used:"
   ]
  },
  {
   "cell_type": "code",
   "execution_count": null,
   "id": "24e58f66-10e7-493e-8856-c15df0b76fd7",
   "metadata": {},
   "outputs": [],
   "source": [
    "import numpy as np\n",
    "\n",
    "import pandas as pd"
   ]
  },
  {
   "cell_type": "markdown",
   "id": "4807f079-e534-4b15-bbab-f059a77c1774",
   "metadata": {},
   "source": [
    "Thus, whenever you see `pd.` in code, it’s referring to pandas. \n",
    "\n",
    "You may also find it easier to import Series and DataFrame into the local namespace since they are so frequently used:"
   ]
  },
  {
   "cell_type": "code",
   "execution_count": null,
   "id": "b1b325f6-d3dd-420d-995b-a43bf0a24f44",
   "metadata": {},
   "outputs": [],
   "source": [
    "from pandas import Series, DataFrame"
   ]
  },
  {
   "cell_type": "markdown",
   "id": "84d85a66-a522-4276-9209-b5c32bef06e1",
   "metadata": {},
   "source": [
    "### Data Structures\n",
    "\n",
    "To get started with pandas, you will need to get comfortable with its two workhorse data structures: _Series_ and _DataFrame_.\n",
    "\n",
    "#### Series\n",
    "\n",
    "A Series is a one-dimensional array-like object containing a sequence of values (of similar types to NumPy types) of the same type and an associated array of data labels, called its index. It is similar to 1-column data.frame in R. The simplest Series is formed from only an array of data:"
   ]
  },
  {
   "cell_type": "code",
   "execution_count": null,
   "id": "39c43276-110e-4a8e-b6ed-eacbaad82e3f",
   "metadata": {},
   "outputs": [],
   "source": [
    "data = pd.Series([4, 7, -5, 3])\n",
    "\n",
    "data"
   ]
  },
  {
   "cell_type": "markdown",
   "id": "b21e8226-74b1-4a8f-b318-24ba08ffa3d8",
   "metadata": {},
   "source": [
    "The string representation of a Series displayed interactively shows the index on the left and the values on the right. Since we did not specify an index for the data, a default one consisting of the integers `0` through `N - 1` (where `N` is the length of the data) is created. You can get the array representation and index object of the Series via its `array` and `index` attributes, respectively:"
   ]
  },
  {
   "cell_type": "code",
   "execution_count": null,
   "id": "2881948b-6630-498d-92fb-f9a8b113ca5a",
   "metadata": {},
   "outputs": [],
   "source": [
    "data.array"
   ]
  },
  {
   "cell_type": "code",
   "execution_count": null,
   "id": "67509d08-d5fb-4d43-9b0b-4783f2eefa46",
   "metadata": {},
   "outputs": [],
   "source": [
    "data.index"
   ]
  },
  {
   "cell_type": "markdown",
   "id": "bbb0afc3-6803-4a3c-8a98-8961b3ac6eca",
   "metadata": {},
   "source": [
    "Often, you'll want to create a Series with an index identifying each data point with a label:"
   ]
  },
  {
   "cell_type": "code",
   "execution_count": null,
   "id": "7a0dbd19-32b7-4fd0-b98b-4dce0137959f",
   "metadata": {},
   "outputs": [],
   "source": [
    "data2 = pd.Series([4, 7, -5, 3], index=[\"d\", \"b\", \"a\", \"c\"])\n",
    "data2"
   ]
  },
  {
   "cell_type": "code",
   "execution_count": null,
   "id": "a5c5fd07-3ef7-4a6f-b616-cd541705cd8b",
   "metadata": {},
   "outputs": [],
   "source": [
    "data2.index"
   ]
  },
  {
   "cell_type": "markdown",
   "id": "f29b295e-d3cc-4158-99bc-0077d065fdf4",
   "metadata": {},
   "source": [
    "Compared with NumPy arrays, you can use labels in the index when selecting single values or a set of values:"
   ]
  },
  {
   "cell_type": "code",
   "execution_count": null,
   "id": "182d757b-a7d3-499d-999f-6ff9d84571b7",
   "metadata": {},
   "outputs": [],
   "source": [
    "data2[\"a\"]"
   ]
  },
  {
   "cell_type": "code",
   "execution_count": null,
   "id": "1f88249b-3aed-4d83-8254-ab10c7948e42",
   "metadata": {},
   "outputs": [],
   "source": [
    "data2[\"d\"] = 6\n",
    "\n",
    "data2[[\"c\", \"a\", \"d\"]]"
   ]
  },
  {
   "cell_type": "markdown",
   "id": "1fc49458-923e-49bd-9851-dd35937ca195",
   "metadata": {},
   "source": [
    "Here `[\"c\", \"a\", \"d\"]` is interpreted as a list of indices, even though it contains strings instead of integers."
   ]
  },
  {
   "cell_type": "markdown",
   "id": "eed5ce85-746a-4d1f-b905-6f6ffd6bcf2e",
   "metadata": {},
   "source": [
    "A Series’s index can be altered in place by assignment:"
   ]
  },
  {
   "cell_type": "code",
   "execution_count": null,
   "id": "c0830150-e744-43e7-baa4-22db3cfdc917",
   "metadata": {},
   "outputs": [],
   "source": [
    "print(data)\n",
    "data.index = [\"Bob\", \"Steve\", \"Jeff\", \"Ryan\"]\n",
    "print(data)"
   ]
  },
  {
   "cell_type": "markdown",
   "id": "a48dc3f0-ffc0-4054-b848-94478a1844b0",
   "metadata": {},
   "source": [
    "Using NumPy functions or NumPy-like operations, such as filtering with a Boolean array, scalar multiplication, or applying math functions, will preserve the index-value link:"
   ]
  },
  {
   "cell_type": "code",
   "execution_count": null,
   "id": "5bac1852-c980-4250-bbe9-7c8357a00ee6",
   "metadata": {},
   "outputs": [],
   "source": [
    "data2[data2>0]"
   ]
  },
  {
   "cell_type": "code",
   "execution_count": null,
   "id": "c5d3d502-db4d-4199-bf58-d75720276b46",
   "metadata": {},
   "outputs": [],
   "source": [
    "data2 *2"
   ]
  },
  {
   "cell_type": "code",
   "execution_count": null,
   "id": "d6eb7a4d-c86e-4824-8085-eb4963ae0ed7",
   "metadata": {},
   "outputs": [],
   "source": [
    "np.exp(data2) # you can use NumPy functions on pandas objects"
   ]
  },
  {
   "cell_type": "markdown",
   "id": "f7707d1f-20cb-46ba-b0a9-66e76b3bf52a",
   "metadata": {},
   "source": [
    "Another way to think about a Series is as a fixed-length, ordered dictionary, as it is a mapping of index values to data values. It can be used in many contexts where you might use a dictionary:"
   ]
  },
  {
   "cell_type": "code",
   "execution_count": null,
   "id": "4d5b8d34-2c0b-4169-97a7-55dda4cd30ef",
   "metadata": {},
   "outputs": [],
   "source": [
    "print(\"b\" in data2)\n",
    "print(\"e\" in data2)"
   ]
  },
  {
   "cell_type": "markdown",
   "id": "d02ceabb-8ee4-46aa-be04-0f7dd37c144c",
   "metadata": {},
   "source": [
    "Should you have data contained in a Python dictionary, you can create a Series from it by passing the dictionary:"
   ]
  },
  {
   "cell_type": "code",
   "execution_count": null,
   "id": "e84f98d6-cf34-4e6a-9b6d-79565d73edc5",
   "metadata": {},
   "outputs": [],
   "source": [
    "sdata = {\"Poland\": 35000, \"Germany\": 81000, \"France\": 71000, \"Ireland\": 5000}\n",
    "\n",
    "data3 = pd.Series(sdata)\n",
    "data3"
   ]
  },
  {
   "cell_type": "markdown",
   "id": "648fbebc-785a-41ee-b56b-36f8b98ab64e",
   "metadata": {},
   "source": [
    "A Series can be converted back to a dictionary with its `to_dict` method:"
   ]
  },
  {
   "cell_type": "code",
   "execution_count": null,
   "id": "07e01647-8a73-4c45-a03f-c2108fbebe98",
   "metadata": {},
   "outputs": [],
   "source": [
    "data3.to_dict()"
   ]
  },
  {
   "cell_type": "markdown",
   "id": "aadc2998-79fc-4e96-8711-6ab9d86cb534",
   "metadata": {},
   "source": [
    "When you are only passing a dictionary, the index in the resulting Series will respect the order of the keys according to the dictionary's `keys` method, which depends on the key insertion order. You can override this by passing an index with the dictionary keys in the order you want them to appear in the resulting Series:"
   ]
  },
  {
   "cell_type": "code",
   "execution_count": null,
   "id": "22705c9a-a395-4f34-8bb8-c39c7b527522",
   "metadata": {},
   "outputs": [],
   "source": [
    "country = [\"Italy\", \"Poland\", \"France\", \"Germany\"]\n",
    "\n",
    "data4 = pd.Series(sdata, index=country)\n",
    "\n",
    "data4"
   ]
  },
  {
   "cell_type": "markdown",
   "id": "7df2c9a0-7600-4a47-ae11-432c33be8e4e",
   "metadata": {},
   "source": [
    "Here, three values found in `sdata` were placed in the appropriate locations, but since no value for `\"Italy\"` was found, it appears as `NaN` (Not a Number), which is considered in pandas to mark missing or `NA` values. Since `\"Ireland\"` was not included in `country`, it is excluded from the resulting object.\n",
    "\n",
    "The `isna` and `notna` functions in pandas should be used to detect missing data:"
   ]
  },
  {
   "cell_type": "code",
   "execution_count": null,
   "id": "db0a60ba-695e-4b3b-879c-4d97b85e0cc3",
   "metadata": {},
   "outputs": [],
   "source": [
    "pd.isna(data4)"
   ]
  },
  {
   "cell_type": "code",
   "execution_count": null,
   "id": "9d4da3bb-8b93-46f2-8b22-626f5041dda5",
   "metadata": {},
   "outputs": [],
   "source": [
    "pd.notna(data4)"
   ]
  },
  {
   "cell_type": "markdown",
   "id": "e773849b-a31e-4679-a754-fdef071d8842",
   "metadata": {},
   "source": [
    "Series also has these as methods:"
   ]
  },
  {
   "cell_type": "code",
   "execution_count": null,
   "id": "058df3a4-a6ab-42c6-a005-71a0626ecb80",
   "metadata": {},
   "outputs": [],
   "source": [
    "data4.isna()"
   ]
  },
  {
   "cell_type": "markdown",
   "id": "86b399db-45c1-462a-b676-384ec1f7d759",
   "metadata": {},
   "source": [
    "A useful Series feature for many applications is that it automatically aligns by index label in arithmetic operations. You can think about this as being similar to a join operation:"
   ]
  },
  {
   "cell_type": "code",
   "execution_count": null,
   "id": "7a9b3392-39b1-4a8b-9a29-a3524875ed13",
   "metadata": {},
   "outputs": [],
   "source": [
    "print(data3)\n",
    "print(data4)\n",
    "print(data3 + data4)"
   ]
  },
  {
   "cell_type": "markdown",
   "id": "1326a47d-792e-4fcf-812a-b2639f3974a6",
   "metadata": {},
   "source": [
    "Both the Series object itself and its index have a `name` attribute, which integrates with other areas of pandas functionality:"
   ]
  },
  {
   "cell_type": "code",
   "execution_count": null,
   "id": "46bb39e0-2688-4b46-9971-48a6a562bb33",
   "metadata": {},
   "outputs": [],
   "source": [
    "data4.name = \"population\"\n",
    "data4.index.name = \"country\"\n",
    "\n",
    "data4"
   ]
  },
  {
   "cell_type": "markdown",
   "id": "6008b4a7-3e88-412f-b1ac-0d7b6f7ab545",
   "metadata": {},
   "source": [
    "### DataFrame\n",
    "\n",
    "A DataFrame is a Python version of R's data.frame. The similarity of the names is not accidental :)"
   ]
  },
  {
   "cell_type": "markdown",
   "id": "d99a3b76-0005-4604-aa43-a0b6b229acb1",
   "metadata": {},
   "source": [
    "There are many ways to construct a DataFrame, though one of the most common is from a dictionary of equal-length lists or NumPy arrays:"
   ]
  },
  {
   "cell_type": "code",
   "execution_count": null,
   "id": "638ddb6a-bec9-425b-a99d-25400261b44a",
   "metadata": {},
   "outputs": [],
   "source": [
    "data = {\"country\": [\"Cyprus\", \"Cyprus\", \"Cyprus\", \"Greece\", \"Greece\", \"Greece\"],\n",
    "        \"year\": [2000, 2001, 2002, 2001, 2002, 2003],\n",
    "        \"pop\": [1.5, 1.7, 3.6, 2.4, 2.9, 3.2]}\n",
    "frame = pd.DataFrame(data)"
   ]
  },
  {
   "cell_type": "markdown",
   "id": "248a8584-b376-4ec7-afbd-9e2fd6cde0e8",
   "metadata": {},
   "source": [
    "The resulting DataFrame will have its index assigned automatically, as with Series, and the columns are placed according to the order of the keys in `data` (which depends on their insertion order in the dictionary):"
   ]
  },
  {
   "cell_type": "code",
   "execution_count": null,
   "id": "0bad4e50-a9cd-441b-bd41-3aad1c8ca66f",
   "metadata": {},
   "outputs": [],
   "source": [
    "frame"
   ]
  },
  {
   "cell_type": "markdown",
   "id": "740c302f-6f0c-487a-99de-c28796e07225",
   "metadata": {},
   "source": [
    "As in R `head` selects first rows and `tail` last rows"
   ]
  },
  {
   "cell_type": "code",
   "execution_count": null,
   "id": "3d3ae186-7799-4d14-9fae-11c2c4a3daa0",
   "metadata": {},
   "outputs": [],
   "source": [
    "frame.head()"
   ]
  },
  {
   "cell_type": "code",
   "execution_count": null,
   "id": "8b906997-142b-450a-ba98-2ffb9b75ab37",
   "metadata": {},
   "outputs": [],
   "source": [
    "frame.tail()"
   ]
  },
  {
   "cell_type": "markdown",
   "id": "16c92763-3174-4d38-9c21-b684dd6b5df9",
   "metadata": {},
   "source": [
    "Similarly to `select` from R's dplyr package if you specify a sequence of columns, the DataFrame’s columns will be arranged in that order:"
   ]
  },
  {
   "cell_type": "code",
   "execution_count": null,
   "id": "0f6d7d75-8021-4267-8ef9-7777affc4fcb",
   "metadata": {},
   "outputs": [],
   "source": [
    "pd.DataFrame(data, columns=[\"year\", \"country\", \"pop\"])"
   ]
  },
  {
   "cell_type": "markdown",
   "id": "a334c4af-5ef3-4d7b-a835-d828eb4e526f",
   "metadata": {},
   "source": [
    "If you pass a column that isn’t contained in the dictionary, it will appear with missing values in the result:"
   ]
  },
  {
   "cell_type": "code",
   "execution_count": null,
   "id": "40124b60-67c6-4578-9aea-fa4329bb2d42",
   "metadata": {},
   "outputs": [],
   "source": [
    "frame2 = pd.DataFrame(data, columns=[\"year\", \"country\", \"pop\", \"debt\"])\n",
    "\n",
    "frame2\n"
   ]
  },
  {
   "cell_type": "code",
   "execution_count": null,
   "id": "9995acee-0b96-4ee5-b182-1b281d178fb4",
   "metadata": {},
   "outputs": [],
   "source": [
    "frame2.columns"
   ]
  },
  {
   "cell_type": "markdown",
   "id": "3c50188c-3522-42e9-a1ef-998854dc4917",
   "metadata": {},
   "source": [
    "A column in a DataFrame can be retrieved as a Series either by dictionary-like notation or by using the dot attribute notation:"
   ]
  },
  {
   "cell_type": "code",
   "execution_count": null,
   "id": "f5e9f151-8c36-4971-ae5c-993f12f32c25",
   "metadata": {},
   "outputs": [],
   "source": [
    "frame2[\"country\"] # Don't forget about quotation marks!"
   ]
  },
  {
   "cell_type": "code",
   "execution_count": null,
   "id": "f77a0060-f248-44b9-9d36-63e2195185ce",
   "metadata": {},
   "outputs": [],
   "source": [
    "frame2.country"
   ]
  },
  {
   "cell_type": "markdown",
   "id": "e07f5a0f-b0bb-4e86-bc18-efebb7ba36eb",
   "metadata": {},
   "source": [
    "Thanks to quotation marks first method works for any column name.\n",
    "\n",
    "`frame2.column` works only when the column name is a valid Python variable name and does not conflict with any of the method names in DataFrame. For example, if a column's name contains whitespace or symbols other than underscores, it cannot be accessed with the dot attribute method."
   ]
  },
  {
   "cell_type": "markdown",
   "id": "185a2035-609d-4898-8e7e-aa697b98b515",
   "metadata": {},
   "source": [
    "Columns can be modified by assignment. For example, the empty `debt` column could be assigned a scalar value or an array of values:"
   ]
  },
  {
   "cell_type": "code",
   "execution_count": null,
   "id": "a3449b4f-3b31-4e75-8892-27d1f74cc078",
   "metadata": {},
   "outputs": [],
   "source": [
    "frame2[\"debt\"] = 16.5\n",
    "\n",
    "frame2"
   ]
  },
  {
   "cell_type": "code",
   "execution_count": null,
   "id": "b1e42bf0-d233-4cb6-8991-11dd246d3462",
   "metadata": {},
   "outputs": [],
   "source": [
    "frame2[\"debt\"] = np.arange(6.)\n",
    "\n",
    "frame2"
   ]
  },
  {
   "cell_type": "markdown",
   "id": "41e7ea1e-4a97-4c03-8d03-78b2ee0115b5",
   "metadata": {},
   "source": [
    "When you are assigning lists or arrays to a column, the value’s length must match the length of the DataFrame. If you assign a Series, its labels will be realigned exactly to the DataFrame’s index, inserting missing values in any index values not present:"
   ]
  },
  {
   "cell_type": "code",
   "execution_count": null,
   "id": "927dbc37-0955-4680-8576-165209fdb60a",
   "metadata": {},
   "outputs": [],
   "source": [
    "val = pd.Series([-1.2, -1.5, -1.7], index=[\"two\", \"four\", \"five\"])\n",
    "val"
   ]
  },
  {
   "cell_type": "code",
   "execution_count": null,
   "id": "a8e37eae-090a-479a-acbd-defb65ecce48",
   "metadata": {},
   "outputs": [],
   "source": [
    "frame2[\"debt\"] = val\n",
    "frame2"
   ]
  },
  {
   "cell_type": "code",
   "execution_count": null,
   "id": "487e785b-0600-45ad-acd9-b1f22b7adfe0",
   "metadata": {},
   "outputs": [],
   "source": [
    "val = pd.Series([-1.2, -1.5, -1.7])\n",
    "val"
   ]
  },
  {
   "cell_type": "code",
   "execution_count": null,
   "id": "2ad0b6a4-0aa8-4d60-883c-6dd2300a3fd6",
   "metadata": {},
   "outputs": [],
   "source": [
    "frame2[\"debt\"] = val\n",
    "frame2"
   ]
  },
  {
   "cell_type": "markdown",
   "id": "dc25eb17-1c19-4d41-92ed-325f4733c457",
   "metadata": {},
   "source": [
    "Assigning a column that doesn’t exist will create a new column.\n",
    "\n",
    "The `del` keyword will delete columns like with a dictionary. As an example, I first add a new column of Boolean values where the `country` column equals `\"Cyprus\"`:"
   ]
  },
  {
   "cell_type": "code",
   "execution_count": null,
   "id": "991e5cd4-c35b-40b9-b72e-9b692ee4deee",
   "metadata": {},
   "outputs": [],
   "source": [
    "frame2[\"eastern\"] = frame2[\"country\"] == \"Cyprus\" # read: create column \"eastern\" and put there answer for question is a value in the \"country\" column equal to \"Cyprus\"?\n",
    "\n",
    "frame2"
   ]
  },
  {
   "cell_type": "markdown",
   "id": "096046b5-57a9-45b1-93f7-b3d92bbf714e",
   "metadata": {},
   "source": [
    "New columns cannot be created with the `frame2.eastern` dot attribute notation.\n",
    "\n",
    "The `del` method can then be used to remove this column:"
   ]
  },
  {
   "cell_type": "code",
   "execution_count": null,
   "id": "63262515-75a3-4444-b3bd-863d90650c28",
   "metadata": {},
   "outputs": [],
   "source": [
    "del frame2[\"eastern\"] # no brackets after del !!\n",
    "\n",
    "frame2.columns"
   ]
  },
  {
   "cell_type": "markdown",
   "id": "2506668b-9d37-477f-8037-f287bd5e3790",
   "metadata": {},
   "source": [
    "You can transpose the DataFrame (swap rows and columns) with similar syntax to a NumPy array:"
   ]
  },
  {
   "cell_type": "code",
   "execution_count": null,
   "id": "b9f759c7-b359-4370-807e-338743ae3509",
   "metadata": {},
   "outputs": [],
   "source": [
    "frame2.T"
   ]
  },
  {
   "cell_type": "markdown",
   "id": "ed7ee1b6-dee4-4e85-8585-528460ee3b1e",
   "metadata": {},
   "source": [
    "**Possible data inputs to the DataFrame constructor:**\n",
    "\n",
    " Type | Notes \n",
    " ---- | -----\n",
    " 2D ndarray | A matrix of data, passing optional row and column labels \n",
    " Dictionary of arrays, lists, or tuples | Each sequence becomes a column in the DataFrame; all sequences must be the same length\n",
    " NumPy structured/record array | Treated as the “dictionary of arrays” case\n",
    " Dictionary of Series | Each value becomes a column; indexes from each Series are unioned together to form the result’s row index if no explicit index is passed\n",
    " Dictionary of dictionaries | Each inner dictionary becomes a column; keys are unioned to form the row index as in the “dictionary of Series” case\n",
    " List of dictionaries or Series | Each item becomes a row in the DataFrame; unions of dictionary keys or Series indexes become the DataFrame’s column labels\n",
    " List of lists or tuples | Treated as the “2D ndarray” case\n",
    " Another DataFrame | The DataFrame’s indexes are used unless different ones are passed\n",
    " NumPy MaskedArray | Like the “2D ndarray” case except masked values are missing in the DataFrame result"
   ]
  },
  {
   "cell_type": "markdown",
   "id": "521cde50-d5b7-495a-b3dd-2127d0999473",
   "metadata": {},
   "source": [
    "## Reindexing\n",
    "\n",
    "An important method on pandas objects is `reindex`, which means to create a new object with the values rearranged to align with the new index. Consider an example:"
   ]
  },
  {
   "cell_type": "code",
   "execution_count": null,
   "id": "41bbdc2b-d327-418c-8d89-d4e3181218a2",
   "metadata": {},
   "outputs": [],
   "source": [
    "data = pd.Series([4.5, 7.2, -5.3, 3.6], index=[\"d\", \"b\", \"a\", \"c\"])\n",
    "\n",
    "data"
   ]
  },
  {
   "cell_type": "markdown",
   "id": "d56450c9-32c1-4bd6-bc42-977c75a406da",
   "metadata": {},
   "source": [
    "Calling `reindex` on this Series rearranges the data according to the new index, introducing missing values if any index values were not already present:"
   ]
  },
  {
   "cell_type": "code",
   "execution_count": null,
   "id": "0bc6f0f5-0548-46bb-99d6-22f0d1830d83",
   "metadata": {},
   "outputs": [],
   "source": [
    "data1 = data.reindex([\"a\", \"b\", \"c\", \"d\", \"e\"])\n",
    "\n",
    "data1"
   ]
  },
  {
   "cell_type": "markdown",
   "id": "cbdc8064-e7c1-4055-8628-0ff8b239eb05",
   "metadata": {},
   "source": [
    "For ordered data like time series, you may want to do some interpolation or filling of values when reindexing. The `method` option allows us to do this, using a method such as `ffill`, which forward-fills the values:"
   ]
  },
  {
   "cell_type": "code",
   "execution_count": null,
   "id": "4718822f-87b9-44b6-b117-a5aa64615daf",
   "metadata": {},
   "outputs": [],
   "source": [
    "data2 = pd.Series([\"blue\", \"purple\", \"yellow\"], index=[0, 2, 4])\n",
    "\n",
    "data2"
   ]
  },
  {
   "cell_type": "code",
   "execution_count": null,
   "id": "405e9652-3f3c-454a-b69e-b39b3e380c01",
   "metadata": {},
   "outputs": [],
   "source": [
    "data2.reindex(np.arange(6), method=\"ffill\")"
   ]
  },
  {
   "cell_type": "markdown",
   "id": "bd8f3573-76d0-4918-bf38-b51111291c7b",
   "metadata": {},
   "source": [
    "With DataFrame, `reindex` can alter the **(row) index, columns, or both**. When passed only a sequence, it reindexes the rows in the result:"
   ]
  },
  {
   "cell_type": "code",
   "execution_count": null,
   "id": "355b068b-dc1d-45a2-87f6-33af77ad0477",
   "metadata": {},
   "outputs": [],
   "source": [
    "frame = pd.DataFrame(np.arange(9).reshape((3, 3)),\n",
    "                     index=[\"a\", \"c\", \"d\"],\n",
    "                     columns=[\"Poland\", \"Czechia\", \"Italy\"])\n",
    "\n",
    "frame"
   ]
  },
  {
   "cell_type": "code",
   "execution_count": null,
   "id": "ff03ad24-b7b3-43ca-9914-bc8579b9cf21",
   "metadata": {},
   "outputs": [],
   "source": [
    "frame2 = frame.reindex(index=[\"a\", \"b\", \"c\", \"d\"])\n",
    "frame2"
   ]
  },
  {
   "cell_type": "markdown",
   "id": "f2afd101-0f7e-4776-9e6a-151128476f1b",
   "metadata": {},
   "source": [
    "The columns can be reindexed with the `columns` keyword:"
   ]
  },
  {
   "cell_type": "code",
   "execution_count": null,
   "id": "ede539c4-c158-4ed2-b492-efb6bf4d8418",
   "metadata": {},
   "outputs": [],
   "source": [
    "frame.reindex(columns=[\"Czechia\" , \"Poland\", \"Italy\"])"
   ]
  },
  {
   "cell_type": "markdown",
   "id": "2a6b6a71-df71-4398-8606-d30b03e29879",
   "metadata": {},
   "source": [
    "Another way to reindex a particular axis is to pass the new axis labels as a positional argument and then specify the axis to reindex with the `axis` keyword:"
   ]
  },
  {
   "cell_type": "code",
   "execution_count": null,
   "id": "b003a2f0-d44c-46a8-b190-38ed0c795b6b",
   "metadata": {},
   "outputs": [],
   "source": [
    "frame.reindex([\"Czechia\" , \"Poland\", \"Italy\"], axis = \"columns\")"
   ]
  },
  {
   "cell_type": "code",
   "execution_count": null,
   "id": "7c0fa60d-0a5e-41d7-a310-fc46afa54784",
   "metadata": {},
   "outputs": [],
   "source": [
    "# For additional parameters of reindex check\n",
    "frame.reindex?"
   ]
  },
  {
   "cell_type": "markdown",
   "id": "c63ae268-9a8b-479b-8b24-19e5258c33cb",
   "metadata": {},
   "source": [
    "You can also reindex by using the `loc` operator, and many users prefer to always do it this way. This works only if all of the new index labels already exist in the DataFrame (whereas reindex will insert missing data for new labels):"
   ]
  },
  {
   "cell_type": "code",
   "execution_count": null,
   "id": "f6a80d9c-f55f-4211-b2cf-6dd813314ba2",
   "metadata": {},
   "outputs": [],
   "source": [
    "frame.loc[[\"a\", \"d\", \"c\"], [\"Italy\", \"Poland\"]]"
   ]
  },
  {
   "cell_type": "markdown",
   "id": "c17483bf-715b-4eec-8b64-524106a03420",
   "metadata": {},
   "source": [
    "## Indexing, Selection, and Filtering\n",
    "\n",
    "Series indexing `(data[...])` works analogously to NumPy array indexing, except you can use the Series’s index values instead of only integers. Here are some examples of this:"
   ]
  },
  {
   "cell_type": "code",
   "execution_count": null,
   "id": "916cf408-e558-40d8-9761-cfda5ae278a5",
   "metadata": {},
   "outputs": [],
   "source": [
    "data = pd.Series(np.arange(4.), index=[\"a\", \"b\", \"c\", \"d\"])\n",
    "data"
   ]
  },
  {
   "cell_type": "code",
   "execution_count": null,
   "id": "c06bddca-85e0-4b53-ad15-cabb4da4c58c",
   "metadata": {},
   "outputs": [],
   "source": [
    "print(data[\"b\"])\n",
    "print(data[1])\n",
    "print(data[2:4])\n",
    "print(data[[\"b\", \"a\", \"d\"]])\n",
    "print(data[data<3])\n"
   ]
  },
  {
   "cell_type": "markdown",
   "id": "4c1b61b2-fade-4f38-af48-c378004701fa",
   "metadata": {},
   "source": [
    "While you can select data by label this way, the preferred way to select index values is with the special `loc` operator:"
   ]
  },
  {
   "cell_type": "code",
   "execution_count": null,
   "id": "a406bf9d-8531-423e-9ca9-43e08b5c6019",
   "metadata": {},
   "outputs": [],
   "source": [
    "data.loc[[\"b\", \"a\", \"d\"]]"
   ]
  },
  {
   "cell_type": "markdown",
   "id": "be310a2f-34ee-4354-95b9-6b0980fbd230",
   "metadata": {},
   "source": [
    "The reason to prefer `loc` is because of the different treatment of integers when indexing with `[]`. Regular `[]`-based indexing will treat integers as labels if the index contains integers, so the behavior differs depending on the data type of the index. For example:"
   ]
  },
  {
   "cell_type": "code",
   "execution_count": null,
   "id": "d6d5dbed-0fe1-4fc6-88f4-75ea4d8f1246",
   "metadata": {},
   "outputs": [],
   "source": [
    "data1 = pd.Series([1, 2, 3], index=[2, 0, 1])\n",
    "data2 = pd.Series([1, 2, 3], index=[\"a\", \"b\", \"c\"])\n",
    "\n",
    "data1[[0, 1, 2]]"
   ]
  },
  {
   "cell_type": "code",
   "execution_count": null,
   "id": "ed32c801-64c8-41e0-ba83-cf255d9ecf84",
   "metadata": {},
   "outputs": [],
   "source": [
    "data2[[0, 1, 2]]"
   ]
  },
  {
   "cell_type": "markdown",
   "id": "e32983a4-7f73-454d-920f-850b9d46847d",
   "metadata": {},
   "source": [
    "When using `loc`, the expression `data.loc[[0, 1, 2]]` will fail when the index does not contain integers:"
   ]
  },
  {
   "cell_type": "code",
   "execution_count": null,
   "id": "d72ee12d-5e2b-4f59-a144-2d3610ed40a4",
   "metadata": {},
   "outputs": [],
   "source": [
    "data2.loc[[0, 1, 2]]"
   ]
  },
  {
   "cell_type": "markdown",
   "id": "6e16a015-2fa9-4c94-9acc-dbc56b067d69",
   "metadata": {},
   "source": [
    "Since `loc` operator indexes exclusively with labels, there is also an `iloc` operator that indexes exclusively with integers to work consistently whether or not the index contains integers:"
   ]
  },
  {
   "cell_type": "code",
   "execution_count": null,
   "id": "09b27132-79bc-46d4-ba09-f2d5b2c8fe1c",
   "metadata": {},
   "outputs": [],
   "source": [
    "data1.iloc[[0, 1, 2]]"
   ]
  },
  {
   "cell_type": "code",
   "execution_count": null,
   "id": "2afd75b9-3bd6-4a21-9cb0-5d2ac3af123a",
   "metadata": {},
   "outputs": [],
   "source": [
    "data2.iloc[[0, 1, 2]]"
   ]
  },
  {
   "cell_type": "markdown",
   "id": "3e0b69da-b5c4-42eb-8e8d-54df406e86ee",
   "metadata": {},
   "source": [
    "You can also slice with labels, but it works differently from normal Python slicing in that the **endpoint is inclusive**:"
   ]
  },
  {
   "cell_type": "code",
   "execution_count": null,
   "id": "803d6cc3-9b36-430b-88e1-931654d7616b",
   "metadata": {},
   "outputs": [],
   "source": [
    "data2.loc[\"b\":\"c\"]"
   ]
  },
  {
   "cell_type": "markdown",
   "id": "dd63e969-60a3-42aa-9550-160ee0f64621",
   "metadata": {},
   "source": [
    "Assigning values using these methods modifies the corresponding section of the Series:"
   ]
  },
  {
   "cell_type": "code",
   "execution_count": null,
   "id": "d3da9bc1-336b-4c79-b1af-3a28dae5284f",
   "metadata": {},
   "outputs": [],
   "source": [
    "data2.loc[\"b\":\"c\"] = 5\n",
    "data2"
   ]
  },
  {
   "cell_type": "markdown",
   "id": "830ed6e7-e0a9-4d82-9617-49105bd5e72f",
   "metadata": {},
   "source": [
    "It can be a common newbie error to try to call loc or iloc like functions rather than \"indexing into\" them with square brackets. \n",
    "**The square bracket notation is used to enable slice operations and to allow for indexing on multiple axes with DataFrame objects.**"
   ]
  },
  {
   "cell_type": "markdown",
   "id": "c32be4c9-e49c-4e67-95d8-d789f51ced0e",
   "metadata": {},
   "source": [
    "Indexing into a DataFrame retrieves one or more columns either with a single value or sequence:"
   ]
  },
  {
   "cell_type": "code",
   "execution_count": null,
   "id": "a1e44e5b-94e7-420e-9571-6262daa9b8ac",
   "metadata": {},
   "outputs": [],
   "source": [
    "frame"
   ]
  },
  {
   "cell_type": "code",
   "execution_count": null,
   "id": "b02b587a-3f61-496e-82be-37b731257791",
   "metadata": {},
   "outputs": [],
   "source": [
    "frame.iloc[:2, 0:3]"
   ]
  },
  {
   "cell_type": "code",
   "execution_count": null,
   "id": "ef61bd33-5bbf-4cdf-b5fb-608033fd4119",
   "metadata": {},
   "outputs": [],
   "source": [
    "frame.loc[:, [\"Czechia\",\"Italy\"]]"
   ]
  },
  {
   "cell_type": "code",
   "execution_count": null,
   "id": "5dd64233-3ab5-4da8-bc9e-c3b37940bbbd",
   "metadata": {},
   "outputs": [],
   "source": [
    "frame.loc[\"a\":\"d\", [\"Czechia\",\"Italy\"]]"
   ]
  },
  {
   "cell_type": "markdown",
   "id": "84d216d4-a9c6-435a-aea2-cd11814f30e5",
   "metadata": {},
   "source": [
    "**Boolean arrays can be used with `loc` but not `iloc`**:"
   ]
  },
  {
   "cell_type": "code",
   "execution_count": null,
   "id": "0f60158f-eb42-492f-b94b-07de4473914c",
   "metadata": {},
   "outputs": [],
   "source": [
    "frame.loc[frame.Italy >= 5]"
   ]
  },
  {
   "cell_type": "markdown",
   "id": "0a05ba5e-60f6-4aec-8e8b-b9c6f39b91f4",
   "metadata": {},
   "source": [
    "There are many ways to select and rearrange the data contained in a pandas object. In table below you will a short summary of many of them."
   ]
  },
  {
   "cell_type": "markdown",
   "id": "07045c1d-6429-432b-a1c4-4195238c5f92",
   "metadata": {},
   "source": [
    " Type | Notes \n",
    " ---- | -----\n",
    " `df[column]` | Select single column or sequence of columns from the DataFrame; special case conveniences: Boolean array (filter rows), slice (slice rows), or Boolean DataFrame (set values based on some criterion)\n",
    " `df.loc[rows]` | Select single row or subset of rows from the DataFrame by label\n",
    " `df.loc[:, cols]` | Select single column or subset of columns by label\n",
    " `df.loc[rows, cols]` | Select both row(s) and column(s) by label\n",
    " `df.iloc[rows]` | Select single row or subset of rows from the DataFrame by integer position\n",
    " `df.iloc[:, cols]` | Select single column or subset of columns by integer position\n",
    " `df.iloc[rows, cols]` | Select both row(s) and column(s) by integer position\n",
    " `df.at[row, col]` | Select a single scalar value by row and column label\n",
    " `df.iat[row, col]` | Select a single scalar value by row and column position (integers)\n",
    " `reindex` method | Select either rows or columns by labels"
   ]
  },
  {
   "cell_type": "markdown",
   "id": "af611670-f5d7-4f9d-afb7-af0617a7ddfd",
   "metadata": {},
   "source": [
    "# Exercises"
   ]
  },
  {
   "cell_type": "markdown",
   "id": "1e0bd787-dbf2-400d-bd6d-e74fa83cf7bf",
   "metadata": {},
   "source": [
    "## Series\n",
    "\n",
    "Create pandas Series consisting values \"Spain\", \"Portugal\", \"Greece\", \"Cyprus\". Name it countries."
   ]
  },
  {
   "cell_type": "code",
   "execution_count": null,
   "id": "984c0243-e9c4-491d-ad11-8d073781374c",
   "metadata": {
    "deletable": false,
    "nbgrader": {
     "cell_type": "code",
     "checksum": "96dbf25e4b2939cfea12709e86ddc084",
     "grade": false,
     "grade_id": "cell-9ae2163fc78c40f9",
     "locked": false,
     "schema_version": 3,
     "solution": true,
     "task": false
    },
    "tags": []
   },
   "outputs": [],
   "source": [
    "# YOUR CODE HERE\n",
    "raise NotImplementedError()\n",
    "countries"
   ]
  },
  {
   "cell_type": "markdown",
   "id": "f375e7a0-9eb8-4eb8-90df-5e5b32f1368c",
   "metadata": {},
   "source": [
    "Change the row names (index) to the first letters of their countries. Usa lower letters."
   ]
  },
  {
   "cell_type": "code",
   "execution_count": null,
   "id": "9dfd1f41-a078-4831-bfb1-8b3948836544",
   "metadata": {
    "deletable": false,
    "nbgrader": {
     "cell_type": "code",
     "checksum": "81904cd19aeef6973ab4d68fcaaab408",
     "grade": false,
     "grade_id": "cell-783c468749c16a09",
     "locked": false,
     "schema_version": 3,
     "solution": true,
     "task": false
    },
    "tags": []
   },
   "outputs": [],
   "source": [
    "# YOUR CODE HERE\n",
    "raise NotImplementedError()\n",
    "countries"
   ]
  },
  {
   "cell_type": "markdown",
   "id": "661c6121-cec7-400e-bad2-dc87e38f6cdb",
   "metadata": {},
   "source": [
    "Create new Series, called s with numbers 5, 0, 10, -2 and the same index as in 'countries'"
   ]
  },
  {
   "cell_type": "code",
   "execution_count": null,
   "id": "043a3326-5902-4192-9fb4-db6eab022f18",
   "metadata": {
    "deletable": false,
    "nbgrader": {
     "cell_type": "code",
     "checksum": "babe9c15fc2180076851ff94ff3a7990",
     "grade": false,
     "grade_id": "cell-74230339514867ed",
     "locked": false,
     "schema_version": 3,
     "solution": true,
     "task": false
    },
    "tags": []
   },
   "outputs": [],
   "source": [
    "# YOUR CODE HERE\n",
    "raise NotImplementedError()\n",
    "s"
   ]
  },
  {
   "cell_type": "markdown",
   "id": "e36f61b5-72f6-416f-b5c4-5c66f4fc0789",
   "metadata": {},
   "source": [
    "Select values equal 0 or less"
   ]
  },
  {
   "cell_type": "code",
   "execution_count": null,
   "id": "0c9c31e0-b3b4-4d44-a805-b1e23889ab1e",
   "metadata": {
    "deletable": false,
    "nbgrader": {
     "cell_type": "code",
     "checksum": "b59b99e7251aed0feb08d290264691cb",
     "grade": false,
     "grade_id": "cell-1c071d68d1582ccd",
     "locked": false,
     "schema_version": 3,
     "solution": true,
     "task": false
    },
    "tags": []
   },
   "outputs": [],
   "source": [
    "# YOUR CODE HERE\n",
    "raise NotImplementedError()"
   ]
  },
  {
   "cell_type": "markdown",
   "id": "ceaef00d-1bee-48ac-a81e-9b34183f0133",
   "metadata": {},
   "source": [
    "Check if s doesn't contain any `na` o `NaN` value"
   ]
  },
  {
   "cell_type": "code",
   "execution_count": null,
   "id": "64d99def-9cde-476f-a0cb-ab4d8edf6d01",
   "metadata": {
    "deletable": false,
    "nbgrader": {
     "cell_type": "code",
     "checksum": "32c4e49d727fafed77c04320572fa523",
     "grade": false,
     "grade_id": "cell-e117c477c0ca5bba",
     "locked": false,
     "schema_version": 3,
     "solution": true,
     "task": false
    },
    "tags": []
   },
   "outputs": [],
   "source": [
    "# YOUR CODE HERE\n",
    "raise NotImplementedError()"
   ]
  },
  {
   "cell_type": "markdown",
   "id": "21bab8fd-c4f3-442f-b34d-41e3416d4fac",
   "metadata": {},
   "source": [
    "## DataFrame"
   ]
  },
  {
   "cell_type": "code",
   "execution_count": null,
   "id": "cf4972d4-879b-4556-936c-bffb0f975d5d",
   "metadata": {},
   "outputs": [],
   "source": [
    "pov = pd.read_csv(\"https://github.com/IwoA/PRPT/raw/main/share-of-population-in-extreme-poverty.csv\")"
   ]
  },
  {
   "cell_type": "markdown",
   "id": "21522cf0-4b4d-4291-8a0f-f15a9aa5be2a",
   "metadata": {},
   "source": [
    "Show first 5 rows of the pov dataframe"
   ]
  },
  {
   "cell_type": "code",
   "execution_count": null,
   "id": "0192c1e2-799b-4fee-9747-f02f21ba6f6c",
   "metadata": {
    "deletable": false,
    "nbgrader": {
     "cell_type": "code",
     "checksum": "8b479d050b3f3c852e4cee2043413179",
     "grade": false,
     "grade_id": "cell-d7cc32d0c9b4f1ba",
     "locked": false,
     "schema_version": 3,
     "solution": true,
     "task": false
    },
    "tags": []
   },
   "outputs": [],
   "source": [
    "# YOUR CODE HERE\n",
    "raise NotImplementedError()"
   ]
  },
  {
   "cell_type": "markdown",
   "id": "69ceeabc-bdad-48af-b481-1a88252cc27b",
   "metadata": {},
   "source": [
    "Show last 5 rows of the pov dataframe"
   ]
  },
  {
   "cell_type": "code",
   "execution_count": null,
   "id": "d3c7a19a-462b-44de-be03-4ea50206cbe8",
   "metadata": {
    "deletable": false,
    "nbgrader": {
     "cell_type": "code",
     "checksum": "8158cfa9ba14e53d49df39ec843ff7ad",
     "grade": false,
     "grade_id": "cell-3b5622b51fcb980d",
     "locked": false,
     "schema_version": 3,
     "solution": true,
     "task": false
    },
    "tags": []
   },
   "outputs": [],
   "source": [
    "# YOUR CODE HERE\n",
    "raise NotImplementedError()"
   ]
  },
  {
   "cell_type": "markdown",
   "id": "32f0d038-3406-49b4-b96b-b30e6ea683ba",
   "metadata": {},
   "source": [
    "Put 'Code' before 'Entity'"
   ]
  },
  {
   "cell_type": "code",
   "execution_count": null,
   "id": "276a7324-d993-4d97-886a-c1f25a22e1ae",
   "metadata": {
    "deletable": false,
    "nbgrader": {
     "cell_type": "code",
     "checksum": "5e217caf027b3eabc0ec58a944f7b9fe",
     "grade": false,
     "grade_id": "cell-ff3ca5bbc3c6fd70",
     "locked": false,
     "schema_version": 3,
     "solution": true,
     "task": false
    },
    "tags": []
   },
   "outputs": [],
   "source": [
    "# YOUR CODE HERE\n",
    "raise NotImplementedError()"
   ]
  },
  {
   "cell_type": "markdown",
   "id": "083e75f8-bb37-4155-9355-3579c0f2bd55",
   "metadata": {},
   "source": [
    "What are the column names now?"
   ]
  },
  {
   "cell_type": "code",
   "execution_count": null,
   "id": "5397ec63-9143-49bb-8516-ef42a7b79876",
   "metadata": {
    "deletable": false,
    "nbgrader": {
     "cell_type": "code",
     "checksum": "8038de140d00c99e02005aff6d1a1f7c",
     "grade": false,
     "grade_id": "cell-207dc1fedf2fc710",
     "locked": false,
     "schema_version": 3,
     "solution": true,
     "task": false
    },
    "tags": []
   },
   "outputs": [],
   "source": [
    "# YOUR CODE HERE\n",
    "raise NotImplementedError()"
   ]
  },
  {
   "cell_type": "markdown",
   "id": "5e623112-3aa2-4b73-bc1b-4eed024dc33f",
   "metadata": {},
   "source": [
    "Show only first five rows from column $2.15 a day - share of population below poverty line i one line of code"
   ]
  },
  {
   "cell_type": "code",
   "execution_count": null,
   "id": "abc06bfa-a100-4ab2-b8a7-ae54802d160f",
   "metadata": {
    "deletable": false,
    "nbgrader": {
     "cell_type": "code",
     "checksum": "01da959bf4f8eafb068fbd4ee376fb70",
     "grade": false,
     "grade_id": "cell-6f20e82550214483",
     "locked": false,
     "schema_version": 3,
     "solution": true,
     "task": false
    },
    "tags": []
   },
   "outputs": [],
   "source": [
    "# YOUR CODE HERE\n",
    "raise NotImplementedError()"
   ]
  },
  {
   "cell_type": "markdown",
   "id": "129c0d00-945a-41a8-a006-3ea7f9455574",
   "metadata": {},
   "source": [
    "Add column 'nrow' with row number starting from 1. You can use numpy function arange.\n",
    "\n",
    "Show last 5 rows"
   ]
  },
  {
   "cell_type": "code",
   "execution_count": null,
   "id": "f8975b65-fc57-4b1a-8573-67cb6076a361",
   "metadata": {
    "deletable": false,
    "nbgrader": {
     "cell_type": "code",
     "checksum": "f78a9be15c8cc9e470f3f8b8398c2264",
     "grade": false,
     "grade_id": "cell-8efd2a2438587003",
     "locked": false,
     "schema_version": 3,
     "solution": true,
     "task": false
    },
    "tags": []
   },
   "outputs": [],
   "source": [
    "# YOUR CODE HERE\n",
    "raise NotImplementedError()"
   ]
  },
  {
   "cell_type": "markdown",
   "id": "acb1874c-6ac0-4ad1-aeaf-28b907fa62be",
   "metadata": {},
   "source": [
    "Create column \">50%\" with True values if share of population below poverty line is higher o equal 50"
   ]
  },
  {
   "cell_type": "code",
   "execution_count": null,
   "id": "eed496b1-86ec-49b3-a3a2-8facb9c25c78",
   "metadata": {
    "deletable": false,
    "nbgrader": {
     "cell_type": "code",
     "checksum": "9440fac6d7e4353abd7ee2f05098ac23",
     "grade": false,
     "grade_id": "cell-53db40982d677ec7",
     "locked": false,
     "schema_version": 3,
     "solution": true,
     "task": false
    },
    "tags": []
   },
   "outputs": [],
   "source": [
    "# YOUR CODE HERE\n",
    "raise NotImplementedError()\n",
    "pov"
   ]
  },
  {
   "cell_type": "markdown",
   "id": "e59d9673-1d07-490b-ba95-7b2cc990c2f1",
   "metadata": {},
   "source": [
    "Remove the 'nrow' column"
   ]
  },
  {
   "cell_type": "code",
   "execution_count": null,
   "id": "9d4592a3-7eb9-4dfc-9478-4c231c5fd469",
   "metadata": {
    "deletable": false,
    "nbgrader": {
     "cell_type": "code",
     "checksum": "cf27e618944496ec2cc75e520a0ce1c5",
     "grade": true,
     "grade_id": "cell-f653d05651d83f78",
     "locked": false,
     "points": 0,
     "schema_version": 3,
     "solution": true,
     "task": false
    },
    "tags": []
   },
   "outputs": [],
   "source": [
    "# YOUR CODE HERE\n",
    "raise NotImplementedError()"
   ]
  },
  {
   "cell_type": "markdown",
   "id": "edf70b31-c7d1-4776-9df9-22bbfb373040",
   "metadata": {},
   "source": [
    "Reindex columns in following order: Entity, Year, >50%, share of population below poverty line. Use `reindex` function."
   ]
  },
  {
   "cell_type": "code",
   "execution_count": null,
   "id": "2a808bd5-cf56-4359-b082-a802510b1e52",
   "metadata": {
    "deletable": false,
    "nbgrader": {
     "cell_type": "code",
     "checksum": "ec3ab2e234ccd928c88a34c6744691ad",
     "grade": false,
     "grade_id": "cell-5fe35c4940115ea9",
     "locked": false,
     "schema_version": 3,
     "solution": true,
     "task": false
    },
    "tags": []
   },
   "outputs": [],
   "source": [
    "# YOUR CODE HERE\n",
    "raise NotImplementedError()"
   ]
  },
  {
   "cell_type": "markdown",
   "id": "37115512-e22c-4957-8d3f-f5f49a4cc836",
   "metadata": {},
   "source": [
    "Does reindex function change the DataFrame?"
   ]
  },
  {
   "cell_type": "code",
   "execution_count": null,
   "id": "9369c47e-77a9-48ac-b2c1-19401dc2d758",
   "metadata": {
    "deletable": false,
    "nbgrader": {
     "cell_type": "code",
     "checksum": "01e8b2322c3c6d423ddb57531f9c5134",
     "grade": true,
     "grade_id": "cell-9a74fa6fb2118f6a",
     "locked": false,
     "points": 0,
     "schema_version": 3,
     "solution": true,
     "task": false
    },
    "tags": []
   },
   "outputs": [],
   "source": [
    "# YOUR CODE HERE\n",
    "raise NotImplementedError()"
   ]
  },
  {
   "cell_type": "markdown",
   "id": "aad20da9-ec13-462f-b4f6-2a194e25c638",
   "metadata": {},
   "source": [
    "Show only Poland and column Year. Hint: first create index with values from the 'Entity' column."
   ]
  },
  {
   "cell_type": "code",
   "execution_count": null,
   "id": "ac792c41-f734-4eb6-b50f-fdc7a20fef3c",
   "metadata": {
    "deletable": false,
    "nbgrader": {
     "cell_type": "code",
     "checksum": "c08a0ddf00f74dbf7fd3d3a776e18b6b",
     "grade": false,
     "grade_id": "cell-06b289bb808cd8d5",
     "locked": false,
     "schema_version": 3,
     "solution": true,
     "task": false
    },
    "tags": []
   },
   "outputs": [],
   "source": [
    "# YOUR CODE HERE\n",
    "raise NotImplementedError()"
   ]
  },
  {
   "cell_type": "markdown",
   "id": "298ba2b6-317d-49d2-a0d8-0d870178d85b",
   "metadata": {},
   "source": [
    "What countries are at positions between 100 and 110?"
   ]
  },
  {
   "cell_type": "code",
   "execution_count": null,
   "id": "da8411e9-1f5f-455c-a60a-a762bab01c54",
   "metadata": {
    "deletable": false,
    "nbgrader": {
     "cell_type": "code",
     "checksum": "4b0d4d79b1e1eb10c4fa3fe39100a8a3",
     "grade": false,
     "grade_id": "cell-4299ad7d5be65c1c",
     "locked": false,
     "schema_version": 3,
     "solution": true,
     "task": false
    },
    "tags": []
   },
   "outputs": [],
   "source": [
    "# YOUR CODE HERE\n",
    "raise NotImplementedError()"
   ]
  },
  {
   "cell_type": "markdown",
   "id": "b72f5a37-69da-4b8f-8e32-392938ccbbbf",
   "metadata": {},
   "source": [
    "Check when Egypt had >50% of population above poverty line. Use `pov.at` method.\n",
    "Hint: You need to have index with values from the 'Entity' column. The result should be a boolean Series.\n",
    "\n",
    "Reminder: You can alway check help for a given command using `?` after it, like `pov.at?`"
   ]
  },
  {
   "cell_type": "code",
   "execution_count": null,
   "id": "3cf0b944-bbbe-4658-8689-1c1e05fa3205",
   "metadata": {
    "deletable": false,
    "nbgrader": {
     "cell_type": "code",
     "checksum": "90463a02d570725e7235a309025035e8",
     "grade": false,
     "grade_id": "cell-33dc0cc6e2f484e7",
     "locked": false,
     "schema_version": 3,
     "solution": true,
     "task": false
    },
    "tags": []
   },
   "outputs": [],
   "source": [
    "# YOUR CODE HERE\n",
    "raise NotImplementedError()"
   ]
  },
  {
   "cell_type": "code",
   "execution_count": null,
   "id": "4b85a50a-2cf4-4e94-b7fc-4b4d92f1a43b",
   "metadata": {},
   "outputs": [],
   "source": [
    "pov.at[\"Zambia\", \">50%\"]"
   ]
  },
  {
   "cell_type": "code",
   "execution_count": null,
   "id": "4a6c965e-3423-450d-871e-e9cc6fc5c43a",
   "metadata": {},
   "outputs": [],
   "source": [
    "pov.loc[pov[\"Entity\"]==\"Zambia\", [\"Year\",\">50%\"]] #logic is following: show"
   ]
  }
 ],
 "metadata": {
  "kernelspec": {
   "display_name": "Python 3 (ipykernel)",
   "language": "python",
   "name": "python3"
  },
  "language_info": {
   "codemirror_mode": {
    "name": "ipython",
    "version": 3
   },
   "file_extension": ".py",
   "mimetype": "text/x-python",
   "name": "python",
   "nbconvert_exporter": "python",
   "pygments_lexer": "ipython3",
   "version": "3.9.13"
  }
 },
 "nbformat": 4,
 "nbformat_minor": 5
}
