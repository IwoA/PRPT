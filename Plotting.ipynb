{
 "cells": [
  {
   "cell_type": "markdown",
   "id": "dc20df46-1c46-42bc-852d-cae276059ef7",
   "metadata": {},
   "source": [
    "# Plotting in matplotlib"
   ]
  },
  {
   "cell_type": "markdown",
   "id": "b8433195-37e0-4993-9e5a-b2d94c48f047",
   "metadata": {},
   "source": [
    "Python has many add-on libraries for making static or dynamic visualizations, but I’ll be mainly focused on [matplotlib](https://matplotlib.org/).\n",
    "\n",
    "matplotlib supports various GUI backends on all operating systems and can export visualizations to all of the common vector and raster graphics formats (PDF, SVG, JPG, PNG, BMP, GIF, etc.)\n",
    "\n",
    "The handy source of capabilities of this library are [cheatsheets and handouts](https://matplotlib.org/cheatsheets/)"
   ]
  },
  {
   "cell_type": "markdown",
   "id": "8adb25ee-3fae-4e37-9a6e-84ac9e0ff2cb",
   "metadata": {},
   "source": [
    "The simplest way to output plots in the Jupyter notebook. To set this up, execute the following statement in a Jupyter notebook:"
   ]
  },
  {
   "cell_type": "code",
   "execution_count": null,
   "id": "9251a81b-79e1-4dee-8ed9-a51dbab75db7",
   "metadata": {},
   "outputs": [],
   "source": [
    "%matplotlib inline"
   ]
  },
  {
   "cell_type": "markdown",
   "id": "83a3a82f-f132-4704-ae26-f8ad28870d24",
   "metadata": {},
   "source": [
    "With matplotlib, we use the following import convention:"
   ]
  },
  {
   "cell_type": "code",
   "execution_count": null,
   "id": "0dbfac5b-e135-4a5d-ac40-501dd7f7f167",
   "metadata": {},
   "outputs": [],
   "source": [
    "import matplotlib.pyplot as plt"
   ]
  },
  {
   "cell_type": "markdown",
   "id": "ff18f0f1-fdfb-40d2-8527-6378ae5dd9f5",
   "metadata": {},
   "source": [
    "To make some examples we need more resources."
   ]
  },
  {
   "cell_type": "code",
   "execution_count": null,
   "id": "b9402c65-9c06-422d-8f66-f6239434d408",
   "metadata": {},
   "outputs": [],
   "source": [
    "import numpy as np\n",
    "import pandas as pd"
   ]
  },
  {
   "cell_type": "markdown",
   "id": "1ab571a3-cc6f-48ec-8ef1-c7b040f6e133",
   "metadata": {},
   "source": [
    "Now let's make a simplest possible graph:"
   ]
  },
  {
   "cell_type": "code",
   "execution_count": null,
   "id": "9e9fc6bf-c531-425f-9820-1a68b7a138f8",
   "metadata": {},
   "outputs": [],
   "source": [
    "data = np.arange(10)\n",
    "plt.plot(data) # use 'plot' function from the plt library on data object."
   ]
  },
  {
   "cell_type": "markdown",
   "id": "19a82348-d12d-4c7a-bab5-2ce54c3a32bd",
   "metadata": {},
   "source": [
    "For a little bit more advanced plot we can use example from the first matplotlib cheatsheet:"
   ]
  },
  {
   "cell_type": "code",
   "execution_count": null,
   "id": "68af1ddf-ac83-4c72-9e7e-306fd8a97c44",
   "metadata": {},
   "outputs": [],
   "source": [
    "X = np.linspace(0, 4*np.pi, 100)\n",
    "Y = np.cos(X)\n",
    "plt.plot(Y)"
   ]
  },
  {
   "cell_type": "code",
   "execution_count": null,
   "id": "7d66798c-5646-4404-9867-d79f8c956e00",
   "metadata": {},
   "outputs": [],
   "source": [
    "plt.plot(X,Y)"
   ]
  },
  {
   "cell_type": "markdown",
   "id": "23c82af1-c270-44fe-b2e9-534c0a4355eb",
   "metadata": {},
   "source": [
    "## Figures and Subplots\n",
    "\n",
    "Plots in matplotlib reside within a `Figure` object. You can create a new figure with `plt.figure`:"
   ]
  },
  {
   "cell_type": "code",
   "execution_count": null,
   "id": "50681980-55be-46d5-8811-71befdb19c4b",
   "metadata": {},
   "outputs": [],
   "source": [
    "fig = plt.figure()"
   ]
  },
  {
   "cell_type": "markdown",
   "id": "90d5dcca-f468-4c0f-b492-6be8a9c354b9",
   "metadata": {},
   "source": [
    "`plt.figure` has a number of options; notably, `figsize` will guarantee the figure has a certain size and aspect ratio if saved to disk.\n",
    "\n",
    "You can’t make a plot with a blank figure. You have to create one or more `subplots` using `add_subplot`:"
   ]
  },
  {
   "cell_type": "code",
   "execution_count": null,
   "id": "663a703f-f6e5-4ad2-811c-67aeabc57277",
   "metadata": {},
   "outputs": [],
   "source": [
    "ax1 = fig.add_subplot(2, 2, 1)"
   ]
  },
  {
   "cell_type": "markdown",
   "id": "331bd44b-8e6a-4dd4-8459-4292cf09a4e1",
   "metadata": {},
   "source": [
    "This means that the figure should be 2 × 2 (so up to four plots in total), and we’re selecting the first of four subplots (numbered from 1)."
   ]
  },
  {
   "cell_type": "code",
   "execution_count": null,
   "id": "f3046bdd-c16f-45b2-8acc-887fef8262bf",
   "metadata": {},
   "outputs": [],
   "source": [
    "ax2 = fig.add_subplot(2, 2, 2)\n",
    "ax3 = fig.add_subplot(2, 2, 3)"
   ]
  },
  {
   "cell_type": "code",
   "execution_count": null,
   "id": "d5af8e1f-89e6-4dc9-a4ac-47b9b29dc070",
   "metadata": {},
   "outputs": [],
   "source": [
    "fig"
   ]
  },
  {
   "cell_type": "code",
   "execution_count": null,
   "id": "73985073-37d7-447b-a9ae-19abc2521b0f",
   "metadata": {},
   "outputs": [],
   "source": [
    "ax3.plot(np.random.standard_normal(50).cumsum(), color=\"black\", linestyle=\"dashed\")\n",
    "fig"
   ]
  },
  {
   "cell_type": "markdown",
   "id": "2c903c4b-f5ab-46b2-89d8-1d4d91bcf7e8",
   "metadata": {},
   "source": [
    "The additional options instruct matplotlib to plot a black dashed line. The objects returned by `fig.add_subplot` here are `AxesSubplot` objects, on which you can directly plot on the other empty subplots by calling each one’s instance method:"
   ]
  },
  {
   "cell_type": "code",
   "execution_count": null,
   "id": "b08aeaee-324f-4eaa-a9a7-2c8635278be2",
   "metadata": {},
   "outputs": [],
   "source": [
    "ax1.hist(np.random.standard_normal(100), bins=20, color=\"black\", alpha=0.3)\n",
    "ax2.scatter(np.arange(30), np.arange(30) + 3 * np.random.standard_normal\n",
    "(30))\n",
    "fig"
   ]
  },
  {
   "cell_type": "markdown",
   "id": "c3df7042-34c5-463c-9d5a-c353aa848fb2",
   "metadata": {},
   "source": [
    "The style option alpha=0.3 sets the transparency of the overlaid plot."
   ]
  },
  {
   "cell_type": "markdown",
   "id": "2067318b-6afb-4f52-a4cd-d17111684d41",
   "metadata": {},
   "source": [
    "**Assignment**\n",
    "\n",
    "Using [this cheatsheet](https://matplotlib.org/cheatsheets/cheatsheets.pdf) modify code below in following way:\n",
    "\n",
    "1. change line style to dash-dot-dash and add markers\n",
    "2. in historgram change number of bins to 30 and color to IndianRed\n",
    "3. in scatterplot change transparency to 0.2 and color to lime"
   ]
  },
  {
   "cell_type": "code",
   "execution_count": null,
   "id": "0116ac4d-ea46-44d3-88d6-fc5e98a74c6a",
   "metadata": {},
   "outputs": [],
   "source": [
    "fig = plt.figure() # reset figure otherwise new plots would be added to existing ones"
   ]
  },
  {
   "cell_type": "code",
   "execution_count": null,
   "id": "57100057-35d5-4966-bd06-de9825d25b7e",
   "metadata": {},
   "outputs": [],
   "source": [
    " ax1 = fig.add_subplot(2, 2, 1)\n",
    "ax2 = fig.add_subplot(2, 2, 2)\n",
    "ax3 = fig.add_subplot(2, 2, 4)\n",
    "\n",
    "ax1.hist(np.random.standard_normal(100), bins=20, color=\"black\", alpha=0.3)\n",
    "ax2.scatter(np.arange(30), np.arange(30) + 3 * np.random.standard_normal (30))\n",
    "ax3.plot(np.random.standard_normal(50).cumsum(), color=\"black\", linestyle=\"dashed\")\n",
    "fig"
   ]
  },
  {
   "cell_type": "markdown",
   "id": "fff88fb8-1118-40a3-9222-5fa7e293a261",
   "metadata": {},
   "source": [
    "To make creating a grid of subplots more convenient, matplotlib includes a `plt.subplots` method that creates a new figure and returns a NumPy array containing the created subplot objects:"
   ]
  },
  {
   "cell_type": "code",
   "execution_count": null,
   "id": "28e794a5-4635-4fb6-8007-a670450c1812",
   "metadata": {},
   "outputs": [],
   "source": [
    "fig, axes = plt.subplots(2, 3)\n",
    "\n",
    "axes"
   ]
  },
  {
   "cell_type": "markdown",
   "id": "417b8d32-7950-4486-86cf-b6a7ac5090c1",
   "metadata": {},
   "source": [
    "The `axes` array can then be indexed like a two-dimensional array; for example, `axes[0, 1]` refers to the subplot in the top row at the center. You can also indicate that subplots should have the same x- or y-axis using `sharex` and `sharey`, respectively. This can be useful when you're comparing data on the same scale; otherwise, matplotlib autoscales plot limits independently. "
   ]
  },
  {
   "cell_type": "markdown",
   "id": "f48e69d4-a2be-4298-b58a-ebc3564faddc",
   "metadata": {},
   "source": [
    "## Ticks, Labels, and Legends\n",
    "\n",
    "Most kinds of plot decorations can be accessed through methods on matplotlib axes objects. This includes methods like `xlim`, `xticks`, and `xticklabels`. These control the plot range, tick locations, and tick labels, respectively. They can be used in two ways:\n",
    "\n",
    "- Called with no arguments returns the current parameter value (e.g., `ax.xlim()` returns the current x-axis plotting range)\n",
    "\n",
    "- Called with parameters sets the parameter value (e.g., `ax.xlim([0, 10])` sets the x-axis range to 0 to 10)\n",
    "\n",
    "All such methods act on the active or most recently created `AxesSubplot`. Each corresponds to two methods on the subplot object itself; in the case of `xlim`, these are `ax.get_xlim` and `ax.set_xlim`."
   ]
  },
  {
   "cell_type": "markdown",
   "id": "2962653f-a2cb-462e-b84d-bb4a676daba4",
   "metadata": {},
   "source": [
    "### Setting the title, axis labels, ticks, and tick labels\n",
    "\n",
    "To illustrate customizing the axes, I’ll create a simple figure and plot of a random walk "
   ]
  },
  {
   "cell_type": "code",
   "execution_count": null,
   "id": "c824ffc0-f663-4335-ae22-9341b9df4dfb",
   "metadata": {},
   "outputs": [],
   "source": [
    "fig, ax = plt.subplots() # empty brackets mean we want only one plot\n",
    "ax.plot(np.random.standard_normal(1000).cumsum());"
   ]
  },
  {
   "cell_type": "markdown",
   "id": "2921f014-ab0d-47e7-acb4-fe58a1c7f2ad",
   "metadata": {},
   "source": [
    "To change the x-axis ticks, it’s easiest to use `set_xticks` and `set_xticklabels`. The former instructs matplotlib where to place the ticks along the data range; by default these locations will also be the labels. But we can set any other values as the labels using `set_xticklabels`:"
   ]
  },
  {
   "cell_type": "code",
   "execution_count": null,
   "id": "0614a087-828c-4f76-93c4-15c851ac2a12",
   "metadata": {},
   "outputs": [],
   "source": [
    "ticks = ax.set_xticks([0, 250, 500, 750, 1000])\n",
    "labels = ax.set_xticklabels([\"one\", \"two\", \"three\", \"four\", \"five\"], rotation=30, fontsize=8)"
   ]
  },
  {
   "cell_type": "markdown",
   "id": "9e2049d6-0ef3-48d2-846f-ec21800f9a55",
   "metadata": {},
   "source": [
    "The rotation option sets the x tick labels at a 30-degree rotation. Lastly, `set_xlabel` gives a name to the x-axis, and `set_title` is the subplot title:"
   ]
  },
  {
   "cell_type": "code",
   "execution_count": null,
   "id": "1d67de91-27fa-4bb6-b299-25fd5109b93d",
   "metadata": {},
   "outputs": [],
   "source": [
    "ax.set_xlabel(\"Stages\")\n",
    "ax.set_title(\"My first matplotlib plot\")"
   ]
  },
  {
   "cell_type": "markdown",
   "id": "ab60caaa-21ae-498d-9927-a0378669cccc",
   "metadata": {},
   "source": [
    "Modifying the y-axis consists of the same process, substituting `y` for `x` in this example. The axes class has a `set` method that allows batch setting of plot properties. From the prior example, we could also have written:"
   ]
  },
  {
   "cell_type": "code",
   "execution_count": null,
   "id": "6acc809b-4310-46c2-b5bc-c901d4dbabd4",
   "metadata": {},
   "outputs": [],
   "source": [
    "ax.set(title=\"My first matplotlib plot\", xlabel=\"Stages\")"
   ]
  },
  {
   "cell_type": "markdown",
   "id": "231259bb-d1bb-4742-b233-ce0aef1e9b82",
   "metadata": {},
   "source": [
    "You have made so many improvements to the figure but do you still remember how to show it?"
   ]
  },
  {
   "cell_type": "code",
   "execution_count": null,
   "id": "60f88c3b-db15-40a0-97e9-87dd1c8f33c8",
   "metadata": {},
   "outputs": [],
   "source": [
    "fig"
   ]
  },
  {
   "cell_type": "markdown",
   "id": "b3664eaf-093d-445a-900b-42d9f404bb0c",
   "metadata": {},
   "source": [
    "### Adding legends\n",
    "\n",
    "Legends are another critical element for identifying plot elements. There are a couple of ways to add one. The easiest is to pass the label argument when adding each piece of the plot:"
   ]
  },
  {
   "cell_type": "code",
   "execution_count": null,
   "id": "cf328397-2990-45e0-81da-238e8205a13b",
   "metadata": {},
   "outputs": [],
   "source": [
    "fig, ax = plt.subplots() # because we didn't declare three subplots all plots are shown in one figure\n",
    "ax.plot(np.random.randn(1000).cumsum(), color=\"black\", label=\"one\");\n",
    "ax.plot(np.random.randn(1000).cumsum(), color=\"black\", linestyle=\"dashed\", label=\"two\");\n",
    "ax.plot(np.random.randn(1000).cumsum(), color=\"black\", linestyle=\"dotted\", label=\"three\");"
   ]
  },
  {
   "cell_type": "markdown",
   "id": "c1374770-69ce-4497-904c-21e7b73f514f",
   "metadata": {},
   "source": [
    "**Assignment**\n",
    "Plot the same data but in three separated subplots starting from the code below:"
   ]
  },
  {
   "cell_type": "code",
   "execution_count": null,
   "id": "490a22c9-8a54-45bb-90ee-8fe866a8abb1",
   "metadata": {
    "deletable": false,
    "nbgrader": {
     "cell_type": "code",
     "checksum": "66b7fc228bad80985f2f6188018ca876",
     "grade": false,
     "grade_id": "cell-d85776d5fabe8dcf",
     "locked": false,
     "schema_version": 3,
     "solution": true,
     "task": false
    },
    "tags": []
   },
   "outputs": [],
   "source": [
    "fig1, ax1 = plt.subplots(3,1) \n",
    "\n",
    "# YOUR CODE HERE\n",
    "raise NotImplementedError()"
   ]
  },
  {
   "cell_type": "markdown",
   "id": "ee56672d-dd95-4010-840b-bcb4c8e88fb0",
   "metadata": {},
   "source": [
    "`ax.legend()` to automatically create a legend when labels are provided:"
   ]
  },
  {
   "cell_type": "code",
   "execution_count": null,
   "id": "159b5605-ea7e-41e0-b963-ca18e4394cc7",
   "metadata": {},
   "outputs": [],
   "source": [
    "ax.legend()\n",
    "fig"
   ]
  },
  {
   "cell_type": "markdown",
   "id": "66b3bc2d-b68c-40e1-88d3-b8a9be963d3d",
   "metadata": {},
   "source": [
    "The legend method has several other choices for the location `loc` argument. See the docstring (with `ax.legend?`) for more information.\n",
    "\n",
    "The `loc` legend option tells matplotlib where to place the plot. The default is \"best\", which tries to choose a location that is most out of the way. To exclude one or more elements from the legend, pass no label or `label=\"_nolegend_\"`."
   ]
  },
  {
   "cell_type": "markdown",
   "id": "2fa391a9-7950-4a29-b978-cc8c9c454116",
   "metadata": {},
   "source": [
    "### Annotations and Text\n",
    "\n",
    "In addition to the standard plot types, you may wish to draw your own plot annotations, which could consist of text, arrows, or other shapes. You can add annotations and text using the `ax.text`, `ax.arrow`, and `ax.annotate` functions. text draws text at given coordinates (x, y) on the plot with optional custom styling:"
   ]
  },
  {
   "cell_type": "code",
   "execution_count": null,
   "id": "58288904-289b-4b57-a8fc-ecffada5aa27",
   "metadata": {},
   "outputs": [],
   "source": [
    "ax.text(0, 35, \"Beginning\",\n",
    "        family=\"monospace\", fontsize=10, color=\"grey\")\n",
    "ax.arrow(100, 33, -100,-30, color=\"grey\") \n",
    "ax.annotate(\"Look here!\", xy=(0, -5), xytext=(20, -20), arrowprops=dict(arrowstyle=\"->\"))\n",
    "fig"
   ]
  },
  {
   "cell_type": "markdown",
   "id": "f318194f-dfad-4217-8d03-6b5d7d8c482e",
   "metadata": {},
   "source": [
    "### Saving Plots to File\n",
    "\n",
    "You can save the active figure to file using the figure object’s savefig instance method. For example, to save an SVG version of a figure, you need only type:\n",
    "\n",
    "```\n",
    "fig.savefig(\"figpath.svg\")\n",
    "```\n",
    "\n",
    "The file type is inferred from the file extension. So if you used `.pdf` instead, you would get a PDF."
   ]
  },
  {
   "cell_type": "markdown",
   "id": "0c4c3ac4-ed57-4611-861e-bba17f780bb6",
   "metadata": {},
   "source": [
    "### matplotlib Configuration\n",
    "\n",
    "matplotlib comes configured with color schemes and defaults that are geared primarily toward preparing figures for publication. Fortunately, nearly all of the default behavior can be customized via global parameters governing figure size, subplot spacing, colors, font sizes, grid styles, and so on. One way to modify the configuration programmatically from Python is to use the rc method; for example, to set the global default figure size to be 10 × 10, you could enter:\n",
    "\n",
    "```\n",
    "plt.rc(\"figure\", figsize=(10, 10))\n",
    "```\n",
    "\n",
    "All of the current configuration settings are found in the `plt.rcParams` dictionary, and they can be restored to their default values by calling the `plt.rcdefaults()` function.\n",
    "\n",
    "The first argument to rc is the component you wish to customize, such as \"figure\", \"axes\", \"xtick\", \"ytick\", \"grid\", \"legend\", or many others. After that can follow a sequence of keyword arguments indicating the new parameters. A convenient way to write down the options in your program is as a dictionary:\n",
    "\n",
    "```\n",
    "plt.rc(\"font\", family=\"monospace\", weight=\"bold\", size=8)\n",
    "```"
   ]
  },
  {
   "cell_type": "markdown",
   "id": "b6bd265b-e8aa-4a48-aa77-012758fac62a",
   "metadata": {},
   "source": [
    "## Plotting pandas\n",
    "\n",
    "Series and DataFrame have a `plot` attribute for making some basic plot types. By default, `plot()` makes line plots.\n",
    "\n",
    "For the single Series object's index is passed to matplotlib for plotting on the x-axis, though you can disable this by passing use_index=False. The x-axis ticks and limits can be adjusted with the xticks and xlim options, and the y-axis respectively with yticks and ylim. See table below for a partial listing of plot options."
   ]
  },
  {
   "cell_type": "markdown",
   "id": "8d575475-df27-4fa3-add2-155b7be9475a",
   "metadata": {},
   "source": [
    "Table 1.\n",
    "\n",
    "| Argument  | Description                                                                                                        |\n",
    "|-----------|--------------------------------------------------------------------------------------------------------------------|\n",
    "| `label`     | Label for plot legend                                                                                              |\n",
    "| `ax`       | matplotlib subplot object to plot   on; if nothing passed, uses active matplotlib subplot                          |\n",
    "| `style`     | Style string, like `\"ko--\"`, to be passed to   matplotlib                                                            |\n",
    "| `alpha`     | The plot fill opacity (from 0 to   1)                                                                              |\n",
    "| `kind`      | Can be `\"area\"`, `\"bar\"`, `\"barh\"`, `\"density\"`, `\"hist\"`, `\"kde\"`, `\"line\"`, `\"box\"`, or `\"pie\"`; for DataFrame also `\"scatter\"` and `\"hexbin\"`                      |\n",
    "| `figsize`   | Size of the figure object to   create                                                                              |\n",
    "| `logx`      | Pass `True` for logarithmic scaling on the x axis; pass `\"sym\"` for symmetric   logarithm that permits negative values |\n",
    "| `logy`      | Pass `True` for logarithmic scaling on the y axis; pass `\"sym\"` for symmetric   logarithm that permits negative values |\n",
    "| `title`     | Title to use for the plot                                                                                          |\n",
    "| `use_index` | Use the object index for tick   labels                                                                             |\n",
    "| `rot`       | Rotation of tick labels (0 through   360)                                                                          |\n",
    "| `xticks`    | Values to use for x-axis ticks                                                                                     |\n",
    "| `ytick`s    | Values to use for y-axis ticks                                                                                     |\n",
    "| `xlim`      | x-axis limits (e.g., `[0, 10]`)                                                                                      |\n",
    "| `ylim`      | y-axis limits                                                                                                      |\n",
    "| `grid`      | Display axis grid (off by default)                                                                                 |\n",
    "| `xlabel`    | Name to use for the xlabel on x-axis. Default uses index name as xlabel                                            |\n",
    "| `ylabel`    | Name to use for the xlabel on x-axis. Default is no label"
   ]
  },
  {
   "cell_type": "markdown",
   "id": "a8566a66-eab1-46c2-bd97-4bf8ae095332",
   "metadata": {},
   "source": [
    "Most of pandas’s plotting methods accept an optional `ax` parameter, which can be a matplotlib subplot object. This gives you more flexible placement of subplots in a grid layout.\n",
    "\n",
    "DataFrame’s `plot` method plots each of its columns as a different line on the same subplot, creating a legend automatically:"
   ]
  },
  {
   "cell_type": "code",
   "execution_count": null,
   "id": "666387d9-ae14-4d52-8aff-cedffca08d80",
   "metadata": {},
   "outputs": [],
   "source": [
    "df = pd.DataFrame(np.random.standard_normal((10, 4)).cumsum(0),\n",
    "    columns=[\"A\", \"B\", \"C\", \"D\"],\n",
    "    index=np.arange(0, 100, 10))\n",
    "df.plot()"
   ]
  },
  {
   "cell_type": "markdown",
   "id": "9a78fa71-67ef-4260-9363-03f5819f1948",
   "metadata": {},
   "source": [
    "DataFrame has a number of options allowing some flexibility for how the columns are handled, for example, whether to plot them all on the same subplot or to create separate subplots:"
   ]
  },
  {
   "cell_type": "markdown",
   "id": "4b1a4477-ec0e-4171-968f-c73eb2201049",
   "metadata": {},
   "source": [
    "Table 2.\n",
    "\n",
    "| Argument     | Description                                                                 |\n",
    "|--------------|-----------------------------------------------------------------------------|\n",
    "| `subplots`     | Plot each DataFrame column in a   separate subplot                          |\n",
    "| `layouts`      | 2-tuple (rows, columns) providing   layout of subplots                      |\n",
    "| `sharex`       | If `subplots=True`, share the same x-axis, linking ticks and limits           |\n",
    "| `sharey`       | If `subplots=True`, share the same y-axis                                     |\n",
    "| `legend`       | Add a subplot legend (`True` by default)                                      |\n",
    "| `sort_columns` | Plot columns in alphabetical   order; by default uses existing column order |"
   ]
  },
  {
   "cell_type": "code",
   "execution_count": null,
   "id": "44ac5160-8483-475a-a2ee-423e5acd256d",
   "metadata": {},
   "outputs": [],
   "source": [
    "# Preparing dataset for later use\n",
    "pov = pd.read_csv(\"C:\\\\Users\\\\iwo.augustynski\\\\Downloads\\\\share-of-population-in-extreme-poverty.csv\", parse_dates=[\"Year\"])\n",
    "\n",
    "s = pov.Code.unique() # take only unique values from 'Code' column\n",
    "s = np.random.choice(s, size = 10) # take 10 random values from previous line\n",
    "\n",
    "pov_sample = pov[pov.Code.isin (s)] # take selected 10 random countries from the dataset"
   ]
  },
  {
   "cell_type": "code",
   "execution_count": null,
   "id": "149c4631-2372-43d5-93a1-96f98bfd8178",
   "metadata": {},
   "outputs": [],
   "source": [
    "to_figure =pov_sample.pivot(columns=\"Entity\", index = \"Year\", values= \"$2.15 a day - share of population below poverty line\")"
   ]
  },
  {
   "cell_type": "code",
   "execution_count": null,
   "id": "68e062d4-bc27-4f42-8c35-5a86785814c3",
   "metadata": {},
   "outputs": [],
   "source": [
    "to_figure"
   ]
  },
  {
   "cell_type": "markdown",
   "id": "b5a7d40e-e97c-4f5d-86ec-4ccfcc558432",
   "metadata": {},
   "source": [
    "**Assignment**\n",
    "\n",
    "Read `to_figure.plot?` and plot following figures with to_figure data:\n",
    "\n",
    "1. one lineplot with all countries\n",
    "\n",
    "2. one lineplot with all countries with grid\n",
    "\n",
    "2. lineplots in individual subplots\n",
    "\n",
    "3. barplots in subplots with rotated xticks\n",
    "\n",
    "4. boxplot with rotated xticks\n",
    "\n",
    "5. first one with removed x label and added y label\n",
    "\n",
    "6. Add title to the boxplot graph\n",
    "\n"
   ]
  },
  {
   "cell_type": "code",
   "execution_count": null,
   "id": "c7857889-b5ce-40c3-9e70-8994103f79fc",
   "metadata": {},
   "outputs": [],
   "source": [
    "#ad 1.\n",
    "\n"
   ]
  },
  {
   "cell_type": "code",
   "execution_count": null,
   "id": "642e24c2-187f-4772-9af6-14f1e7e66aac",
   "metadata": {},
   "outputs": [],
   "source": [
    "#ad 2.\n",
    "\n"
   ]
  },
  {
   "cell_type": "code",
   "execution_count": null,
   "id": "38773dd4-0ff5-4ea1-800d-05b3ea4cbd2b",
   "metadata": {},
   "outputs": [],
   "source": [
    "#ad 3.\n",
    "\n"
   ]
  },
  {
   "cell_type": "code",
   "execution_count": null,
   "id": "e53a7382-1a9d-47d1-9904-addd9ed9ecfa",
   "metadata": {},
   "outputs": [],
   "source": [
    "#ad 4.\n",
    "\n"
   ]
  },
  {
   "cell_type": "code",
   "execution_count": null,
   "id": "8515c91d-6be2-4932-8f9b-bf09568d3c7a",
   "metadata": {},
   "outputs": [],
   "source": [
    "#ad 5.\n",
    "\n"
   ]
  },
  {
   "cell_type": "code",
   "execution_count": null,
   "id": "10b3f7b7-79d0-4d44-9d70-e8d53612b40a",
   "metadata": {},
   "outputs": [],
   "source": [
    "#ad 6.\n"
   ]
  }
 ],
 "metadata": {
  "kernelspec": {
   "display_name": "Python 3 (ipykernel)",
   "language": "python",
   "name": "python3"
  },
  "language_info": {
   "codemirror_mode": {
    "name": "ipython",
    "version": 3
   },
   "file_extension": ".py",
   "mimetype": "text/x-python",
   "name": "python",
   "nbconvert_exporter": "python",
   "pygments_lexer": "ipython3",
   "version": "3.9.13"
  }
 },
 "nbformat": 4,
 "nbformat_minor": 5
}
