{
 "cells": [
  {
   "cell_type": "markdown",
   "id": "1ad188a6",
   "metadata": {},
   "source": [
    "# Primer on Python for R users"
   ]
  },
  {
   "cell_type": "markdown",
   "id": "6d30389b",
   "metadata": {},
   "source": [
    "You may find yourself wanting to read and understand some Python, or even port some Python to R. This guide is designed to enable you to do these tasks as quickly as possible. As you’ll see, R and Python are similar enough that this is possible without necessarily learning all of Python. We start with the basics of container types and work up to the mechanics of classes, dunders, the iterator protocol, the context protocol, and more!"
   ]
  },
  {
   "cell_type": "markdown",
   "id": "2ac23852",
   "metadata": {},
   "source": [
    "## Whitespace"
   ]
  },
  {
   "cell_type": "markdown",
   "id": "4fbf7f9e",
   "metadata": {},
   "source": [
    "Whitespace matters in Python. In R, expressions are grouped into a code block with {}. In Python, that is done by making the expressions share an indentation level. For example, an expression with an R code block might be:"
   ]
  },
  {
   "cell_type": "markdown",
   "id": "2855896e",
   "metadata": {},
   "source": [
    "```r\n",
    "if (TRUE) {\n",
    "  cat(\"This is one expression. \\n\")\n",
    "  cat(\"This is another expression. \\n\")\n",
    "}\n",
    "#> This is one expression. \n",
    "#> This is another expression.\n",
    "```"
   ]
  },
  {
   "cell_type": "markdown",
   "id": "39da8b19",
   "metadata": {},
   "source": [
    "The equivalent in Python:"
   ]
  },
  {
   "cell_type": "code",
   "execution_count": null,
   "id": "cda75dba",
   "metadata": {},
   "outputs": [],
   "source": [
    "if True:\n",
    "  print(\"This is one expression.\")\n",
    "  print(\"This is another expression.\")"
   ]
  },
  {
   "cell_type": "markdown",
   "id": "def43f97",
   "metadata": {},
   "source": [
    "Python accepts tabs or spaces as the indentation spacer, but the rules get tricky when they’re mixed. Most style guides suggest (and IDE’s default to) using spaces only."
   ]
  },
  {
   "cell_type": "markdown",
   "id": "e09d5d13",
   "metadata": {},
   "source": [
    "## Container Types"
   ]
  },
  {
   "cell_type": "markdown",
   "id": "a9841bd9",
   "metadata": {},
   "source": [
    "In R, the `list()` is a container you can use to organize R objects. R’s `list()` is feature packed, and there is no single direct equivalent in Python that supports all the same features. Instead there are (at least) 4 different Python container types you need to be aware of: lists, dictionaries, tuples, and sets."
   ]
  },
  {
   "cell_type": "markdown",
   "id": "167a7042",
   "metadata": {},
   "source": [
    "### Lists"
   ]
  },
  {
   "cell_type": "markdown",
   "id": "123dad2e",
   "metadata": {},
   "source": [
    "Python lists are typically created using bare brackets `[]`. The Python built-in `list()` function is more of a coercion function, closer in spirit to R’s `as.list()`. The most important thing to know about Python lists is that they are modified in place. Note in the example below that `y` reflects the changes made to `x`, because the underlying list object which both symbols point to is modified in place."
   ]
  },
  {
   "cell_type": "markdown",
   "id": "281fc690",
   "metadata": {},
   "source": [
    "Some syntactic sugar around Python lists you might encounter is the usage of `+` and `*` with lists. These are concatenation and replication operators, akin to R’s `c()` and `rep()`."
   ]
  },
  {
   "cell_type": "code",
   "execution_count": null,
   "id": "39959853",
   "metadata": {},
   "outputs": [],
   "source": [
    "x = [1]\n",
    "x"
   ]
  },
  {
   "cell_type": "code",
   "execution_count": null,
   "id": "d5ca4019",
   "metadata": {},
   "outputs": [],
   "source": [
    "x + x"
   ]
  },
  {
   "cell_type": "code",
   "execution_count": null,
   "id": "822d4dcf",
   "metadata": {},
   "outputs": [],
   "source": [
    "x*3"
   ]
  },
  {
   "cell_type": "markdown",
   "id": "eb4bb6b1",
   "metadata": {},
   "source": [
    "You can index into lists with integers using trailing `[]`, but note that indexing is 0-based."
   ]
  },
  {
   "cell_type": "code",
   "execution_count": null,
   "id": "dc5daa95",
   "metadata": {},
   "outputs": [],
   "source": [
    "x = [1, 2, 3]\n",
    "x[0]"
   ]
  },
  {
   "cell_type": "code",
   "execution_count": null,
   "id": "270fed76",
   "metadata": {},
   "outputs": [],
   "source": [
    "x[1]"
   ]
  },
  {
   "cell_type": "code",
   "execution_count": null,
   "id": "9aede1e9",
   "metadata": {},
   "outputs": [],
   "source": [
    "x[2]"
   ]
  },
  {
   "cell_type": "code",
   "execution_count": null,
   "id": "8213b556",
   "metadata": {},
   "outputs": [],
   "source": [
    "try:\n",
    "  x[3]\n",
    "except Exception as e:\n",
    "  print(e)"
   ]
  },
  {
   "cell_type": "markdown",
   "id": "df3ebd79",
   "metadata": {},
   "source": [
    "When indexing, negative numbers count from the end of the container."
   ]
  },
  {
   "cell_type": "code",
   "execution_count": null,
   "id": "1d391cc1",
   "metadata": {},
   "outputs": [],
   "source": [
    "x = [1, 2, 3]\n",
    "x[-1]"
   ]
  },
  {
   "cell_type": "code",
   "execution_count": null,
   "id": "5a66facc",
   "metadata": {},
   "outputs": [],
   "source": [
    "x[-2]"
   ]
  },
  {
   "cell_type": "code",
   "execution_count": null,
   "id": "2195e4bc",
   "metadata": {},
   "outputs": [],
   "source": [
    "x[-3]"
   ]
  },
  {
   "cell_type": "markdown",
   "id": "dd8bd658",
   "metadata": {},
   "source": [
    "You can slice ranges of lists using the `:` inside brackets. Note that the slice syntax is **not** inclusive of the end of the slice range. You can optionally also specify a stride."
   ]
  },
  {
   "cell_type": "code",
   "execution_count": null,
   "id": "58448ac3",
   "metadata": {},
   "outputs": [],
   "source": [
    "x = [1, 2, 3, 4, 5, 6]\n",
    "x[0:2] # get items at index positions 0, 1"
   ]
  },
  {
   "cell_type": "code",
   "execution_count": null,
   "id": "65ec08fb",
   "metadata": {},
   "outputs": [],
   "source": [
    "x[1:]  # get items from index position 1 to the end"
   ]
  },
  {
   "cell_type": "code",
   "execution_count": null,
   "id": "6d3df1b4",
   "metadata": {},
   "outputs": [],
   "source": [
    "x[:-2] # get items from beginning up to the 2nd to last."
   ]
  },
  {
   "cell_type": "code",
   "execution_count": null,
   "id": "0d0c268a",
   "metadata": {},
   "outputs": [],
   "source": [
    "x[:]   # get all the items (idiom used to copy the list so as not to modify in place)"
   ]
  },
  {
   "cell_type": "code",
   "execution_count": null,
   "id": "6bdab338",
   "metadata": {},
   "outputs": [],
   "source": [
    "x[::2] # get all the items, with a stride of 2"
   ]
  },
  {
   "cell_type": "code",
   "execution_count": null,
   "id": "cf45afde",
   "metadata": {},
   "outputs": [],
   "source": [
    "x[1::2] # get all the items from index 1 to the end, with a stride of 2"
   ]
  },
  {
   "cell_type": "markdown",
   "id": "6f183e07",
   "metadata": {},
   "source": [
    "### Tuples\n",
    "\n",
    "Tuples behave like lists, except they are not mutable, and they don’t have the same modify-in-place methods like `append()`. They are typically constructed using bare `()`, but parentheses are not strictly required, and you may see an implicit tuple being defined just from a comma separated series of expressions. Because parentheses can also be used to specify order of operations in expressions like `(x + 3) * 4`, a special syntax is required to define tuples of length 1: a trailing comma. Tuples are most commonly encountered in functions that take a variable number of arguments."
   ]
  },
  {
   "cell_type": "code",
   "execution_count": null,
   "id": "39cedcfb",
   "metadata": {},
   "outputs": [],
   "source": [
    "x = (1, 2) # tuple of length 2\n",
    "type(x)"
   ]
  },
  {
   "cell_type": "code",
   "execution_count": null,
   "id": "cfa2891a",
   "metadata": {},
   "outputs": [],
   "source": [
    "len(x) # equivalent of R's length"
   ]
  },
  {
   "cell_type": "code",
   "execution_count": null,
   "id": "8cff5266",
   "metadata": {},
   "outputs": [],
   "source": [
    "x"
   ]
  },
  {
   "cell_type": "code",
   "execution_count": null,
   "id": "46831703",
   "metadata": {},
   "outputs": [],
   "source": [
    "x = (1,) # tuple of length 1\n",
    "type(x)"
   ]
  },
  {
   "cell_type": "code",
   "execution_count": null,
   "id": "df97ef38",
   "metadata": {},
   "outputs": [],
   "source": [
    "len(x)"
   ]
  },
  {
   "cell_type": "code",
   "execution_count": null,
   "id": "9db4e4ff",
   "metadata": {},
   "outputs": [],
   "source": [
    "x"
   ]
  },
  {
   "cell_type": "code",
   "execution_count": null,
   "id": "ca00237a",
   "metadata": {},
   "outputs": [],
   "source": [
    "x = () # tuple of length 0\n",
    "print(f\"{type(x) = }; {len(x) = }; {x = }\")"
   ]
  },
  {
   "cell_type": "code",
   "execution_count": null,
   "id": "b8f77413",
   "metadata": {},
   "outputs": [],
   "source": [
    "x = 1, 2 # also a tuple\n",
    "type(x)"
   ]
  },
  {
   "cell_type": "code",
   "execution_count": null,
   "id": "6b6678a2",
   "metadata": {},
   "outputs": [],
   "source": [
    "len(x)"
   ]
  },
  {
   "cell_type": "code",
   "execution_count": null,
   "id": "04c231db",
   "metadata": {},
   "outputs": [],
   "source": [
    "x = 1, # beware a single trailing comma! This is a tuple!\n",
    "type(x)"
   ]
  },
  {
   "cell_type": "code",
   "execution_count": null,
   "id": "e782cf26",
   "metadata": {},
   "outputs": [],
   "source": [
    "len(x)"
   ]
  },
  {
   "cell_type": "markdown",
   "id": "4f5a19ee",
   "metadata": {},
   "source": [
    "#### Packing and Unpacking"
   ]
  },
  {
   "cell_type": "markdown",
   "id": "44aa0e2c",
   "metadata": {},
   "source": [
    "Tuples are the container that powers the *packing* and *unpacking* semantics in Python. Python provides the convenience of allowing you to assign multiple symbols in one expression. This is called *unpacking*.\n",
    "\n",
    "For example:"
   ]
  },
  {
   "cell_type": "code",
   "execution_count": null,
   "id": "8520bab8",
   "metadata": {},
   "outputs": [],
   "source": [
    "x = (1, 2, 3)\n",
    "a, b, c = x\n",
    "a"
   ]
  },
  {
   "cell_type": "code",
   "execution_count": null,
   "id": "0055fbb0",
   "metadata": {},
   "outputs": [],
   "source": [
    "b"
   ]
  },
  {
   "cell_type": "code",
   "execution_count": null,
   "id": "d192d575",
   "metadata": {},
   "outputs": [],
   "source": [
    "c"
   ]
  },
  {
   "cell_type": "markdown",
   "id": "e5860d60",
   "metadata": {},
   "source": [
    "(You can access similar unpacking behavior from R using zeallot::`%<-%`)."
   ]
  },
  {
   "cell_type": "markdown",
   "id": "ba7419a0",
   "metadata": {},
   "source": [
    "Tuple unpacking can occur in a variety of contexts, such as iteration:"
   ]
  },
  {
   "cell_type": "code",
   "execution_count": null,
   "id": "ccd0086e",
   "metadata": {},
   "outputs": [],
   "source": [
    "xx = ((\"a\", 1),\n",
    "      (\"b\", 2))\n",
    "for x1, x2 in xx:\n",
    "  print(\"x1 = \", x1)\n",
    "  print(\"x2 = \", x2)"
   ]
  },
  {
   "cell_type": "markdown",
   "id": "dc30d9b7",
   "metadata": {},
   "source": [
    "If you attempt to unpack a container to the wrong number of symbols, Python raises an error:"
   ]
  },
  {
   "cell_type": "code",
   "execution_count": null,
   "id": "1274206c",
   "metadata": {},
   "outputs": [],
   "source": [
    "x = (1, 2, 3)\n",
    "a, b, c = x # success"
   ]
  },
  {
   "cell_type": "code",
   "execution_count": null,
   "id": "303de966",
   "metadata": {},
   "outputs": [],
   "source": [
    "a, b = x "
   ]
  },
  {
   "cell_type": "code",
   "execution_count": null,
   "id": "80c06b6c",
   "metadata": {},
   "outputs": [],
   "source": [
    "a, b, c, d = x "
   ]
  },
  {
   "cell_type": "markdown",
   "id": "7bd89f4e",
   "metadata": {},
   "source": [
    "It is possible to unpack a variable number of arguments, using `*` as a prefix to a symbol. (You’ll see the `*` prefix again when we talk about functions)."
   ]
  },
  {
   "cell_type": "code",
   "execution_count": null,
   "id": "78ea4b39",
   "metadata": {},
   "outputs": [],
   "source": [
    "x = (1, 2, 3)\n",
    "a, *the_rest = x\n",
    "a"
   ]
  },
  {
   "cell_type": "code",
   "execution_count": null,
   "id": "6d8c38cc",
   "metadata": {},
   "outputs": [],
   "source": [
    "the_rest"
   ]
  },
  {
   "cell_type": "markdown",
   "id": "0460a9ec",
   "metadata": {},
   "source": [
    "You can also unpack nested structures:"
   ]
  },
  {
   "cell_type": "code",
   "execution_count": null,
   "id": "9953708a",
   "metadata": {},
   "outputs": [],
   "source": [
    "x = ((1, 2), (3, 4))\n",
    "(a, b), (c, d) = x"
   ]
  },
  {
   "cell_type": "markdown",
   "id": "45dd7a7b",
   "metadata": {},
   "source": [
    "### Dictionaries\n",
    "\n",
    "Dictionaries are most similar to R environments. They are a container where you can retrieve items by name, though in Python the name (called a *key* in Python’s parlance) does not need to be a string like in R. It can be any Python object with a `hash()` method (meaning, it can be almost any Python object). They can be created using syntax like `{key: value}`. Like Python lists, they are modified in place."
   ]
  },
  {
   "cell_type": "code",
   "execution_count": null,
   "id": "886f18d9",
   "metadata": {},
   "outputs": [],
   "source": [
    "d = {\"key1\": 1,\n",
    "     \"key2\": 2}\n",
    "d2 = d\n",
    "d"
   ]
  },
  {
   "cell_type": "code",
   "execution_count": null,
   "id": "3e7ec601",
   "metadata": {},
   "outputs": [],
   "source": [
    "d[\"key1\"]"
   ]
  },
  {
   "cell_type": "code",
   "execution_count": null,
   "id": "8407cf45",
   "metadata": {},
   "outputs": [],
   "source": [
    "d[\"key3\"] = 3\n",
    "d2 # modified in place!"
   ]
  },
  {
   "cell_type": "markdown",
   "id": "5afa7280",
   "metadata": {},
   "source": [
    "Like R environments (and unlike R’s named lists), you cannot index into a dictionary with an integer to get an item at a specific index position. Dictionaries are unordered containers. (However—beginning with Python 3.7, dictionaries do preserve the item insertion order)."
   ]
  },
  {
   "cell_type": "code",
   "execution_count": null,
   "id": "97fdd750",
   "metadata": {},
   "outputs": [],
   "source": [
    "d = {\"key1\": 1, \"key2\": 2}\n",
    "d[1] # error"
   ]
  },
  {
   "cell_type": "markdown",
   "id": "57686493",
   "metadata": {},
   "source": [
    "A container that closest matches the semantics of R’s named list is the OrderedDict, but that’s relatively uncommon in Python code so we don’t cover it further."
   ]
  },
  {
   "cell_type": "markdown",
   "id": "38dd7d5b",
   "metadata": {},
   "source": [
    "### Sets\n",
    "\n",
    "Sets are a container that can be used to efficiently track unique items or deduplicate lists. They are constructed using `{val1, val2}` (like a dictionary, but without `:`). Think of them as dictionary where you only use the keys. Sets have many efficient methods for membership operations, like `intersection()`, `issubset()`, `union()` and so on."
   ]
  },
  {
   "cell_type": "code",
   "execution_count": null,
   "id": "5a445b3e",
   "metadata": {},
   "outputs": [],
   "source": [
    "s = {1, 2, 3}\n",
    "type(s)"
   ]
  },
  {
   "cell_type": "code",
   "execution_count": null,
   "id": "28506c84",
   "metadata": {},
   "outputs": [],
   "source": [
    "s"
   ]
  },
  {
   "cell_type": "code",
   "execution_count": null,
   "id": "631b2b8e",
   "metadata": {},
   "outputs": [],
   "source": [
    "s.add(1)\n",
    "s"
   ]
  },
  {
   "cell_type": "markdown",
   "id": "59e1ae37",
   "metadata": {},
   "source": [
    "## Iteration with `for`\n",
    "\n",
    "The for statement in Python can be used to iterate over any kind of container."
   ]
  },
  {
   "cell_type": "code",
   "execution_count": null,
   "id": "a984f23b",
   "metadata": {},
   "outputs": [],
   "source": [
    "for x in [1, 2, 3]:\n",
    "  print(x)"
   ]
  },
  {
   "cell_type": "markdown",
   "id": "ea872a8b",
   "metadata": {},
   "source": [
    "R has a relatively limited set of objects that can be passed to `for`. Python by comparison, provides an iterator protocol interface, which means that authors can define custom objects, with custom behavior that is invoked by `for`. \n",
    "\n",
    "Iterating over dictionaries first requires understanding if you are iterating over the keys, values, or both. Dictionaries have methods that allow you to specify which."
   ]
  },
  {
   "cell_type": "code",
   "execution_count": null,
   "id": "e6d475fd",
   "metadata": {},
   "outputs": [],
   "source": [
    "d = {\"key1\": 1, \"key2\": 2}\n",
    "for key in d:\n",
    "  print(key)"
   ]
  },
  {
   "cell_type": "code",
   "execution_count": null,
   "id": "7d9f7b9f",
   "metadata": {},
   "outputs": [],
   "source": [
    "for value in d.values():\n",
    "  print(value)"
   ]
  },
  {
   "cell_type": "code",
   "execution_count": null,
   "id": "57662ef9",
   "metadata": {},
   "outputs": [],
   "source": [
    "for key, value in d.items():\n",
    "  print(key, \":\", value)"
   ]
  },
  {
   "cell_type": "markdown",
   "id": "28bd886d",
   "metadata": {},
   "source": [
    "#### Comprehensions\n",
    "\n",
    "Comprehensions are special syntax that allow you to construct a container like a list or a dict, while also executing a small operation or single expression on each element. You can think of it as special syntax for R’s lapply.\n",
    "\n",
    "For example:"
   ]
  },
  {
   "cell_type": "code",
   "execution_count": null,
   "id": "1fecc719",
   "metadata": {},
   "outputs": [],
   "source": [
    "x = [1, 2, 3]\n",
    "\n",
    "# a list comprehension built from x, where you add 100 to each element\n",
    "l = [element + 100 for element in x]\n",
    "l"
   ]
  },
  {
   "cell_type": "code",
   "execution_count": null,
   "id": "24e5686f",
   "metadata": {},
   "outputs": [],
   "source": [
    "# a dict comprehension built from x, where the key is a string.\n",
    "# Python's str() is like R's as.character()\n",
    "d = {str(element) : element + 100\n",
    "     for element in x}\n",
    "d"
   ]
  },
  {
   "cell_type": "markdown",
   "id": "eda83346",
   "metadata": {},
   "source": [
    "## Defining Functions with 'def'\n",
    "\n",
    "Python functions are defined with the def statement. The syntax for specifying function arguments and default values is very similar to R."
   ]
  },
  {
   "cell_type": "code",
   "execution_count": null,
   "id": "a435d468",
   "metadata": {},
   "outputs": [],
   "source": [
    "def my_function(name = \"World\"):\n",
    "  print(\"Hello\", name)\n",
    "\n",
    "my_function()"
   ]
  },
  {
   "cell_type": "code",
   "execution_count": null,
   "id": "c490d587",
   "metadata": {},
   "outputs": [],
   "source": [
    "my_function(\"Friend\")"
   ]
  },
  {
   "cell_type": "markdown",
   "id": "866dcac6",
   "metadata": {},
   "source": [
    "The equivalent R snippet would be\n",
    "\n",
    "```r\n",
    "my_function <- function(name = \"World\") {\n",
    "  cat(\"Hello\", name, \"\\n\")\n",
    "}\n",
    "\n",
    "my_function()\n",
    "#> Hello World\n",
    "my_function(\"Friend\")\n",
    "#> Hello Friend`\n",
    "```"
   ]
  },
  {
   "cell_type": "markdown",
   "id": "adc83ff3",
   "metadata": {},
   "source": [
    "## Modules and `import`\n",
    "\n",
    "In R, authors can bundle their code into shareable extensions called R packages, and R users can access objects from R packages via `library()` or `::`. In Python, authors bundle code into modules, and users access modules using import. Consider the line:"
   ]
  },
  {
   "cell_type": "code",
   "execution_count": null,
   "id": "e0c0fccf",
   "metadata": {},
   "outputs": [],
   "source": [
    "import numpy"
   ]
  },
  {
   "cell_type": "markdown",
   "id": "a9710135",
   "metadata": {},
   "source": [
    "This statement has Python go out to the file system, find an installed Python module named ‘numpy’, load it (commonly meaning: evaluate its `__init__.py` file and construct a `module` type), and bind it to the symbol `numpy`.\n",
    "\n",
    "The closest equivalent to this in R might be:\n",
    "```r\n",
    "dplyr <- loadNamespace(\"dplyr\")\n",
    "```"
   ]
  },
  {
   "cell_type": "markdown",
   "id": "4e268e9d",
   "metadata": {},
   "source": [
    "#### Where are modules found?\n",
    "\n",
    "In Python, the file system locations where modules are searched can be accessed (and modified) from the list found at `sys.path`. This is Python’s equivalent to R’s `.libPaths()`. `sys.path` will typically contain paths to the current working directory, the Python installation which contains the built-in standard library, administrator installed modules, user installed modules, values from environment variables like PYTHONPATH, and any modifications made directly to sys.path by other code in the current Python session (though this is relatively uncommon in practice)."
   ]
  },
  {
   "cell_type": "code",
   "execution_count": null,
   "id": "71b7fa74",
   "metadata": {},
   "outputs": [],
   "source": [
    "import sys\n",
    "sys.path"
   ]
  },
  {
   "cell_type": "markdown",
   "id": "52f8b5f4",
   "metadata": {},
   "source": [
    "You can inspect where a module was loaded from by accessing the dunder `__path__` or `__file__` (especially useful when troubleshooting installation issues):"
   ]
  },
  {
   "cell_type": "code",
   "execution_count": null,
   "id": "4366c636",
   "metadata": {},
   "outputs": [],
   "source": [
    "import os\n",
    "os.__file__"
   ]
  },
  {
   "cell_type": "code",
   "execution_count": null,
   "id": "7224805c",
   "metadata": {},
   "outputs": [],
   "source": [
    "numpy.__path__"
   ]
  },
  {
   "cell_type": "markdown",
   "id": "6b01d4aa",
   "metadata": {},
   "source": [
    "Once a module is loaded, you can access symbols from the module using `.` (equivalent to `::`, or maybe `$.environment`, in R)."
   ]
  },
  {
   "cell_type": "code",
   "execution_count": null,
   "id": "e890f296",
   "metadata": {},
   "outputs": [],
   "source": [
    "numpy.abs(-1)"
   ]
  },
  {
   "cell_type": "markdown",
   "id": "08c9ed03",
   "metadata": {},
   "source": [
    "There is also special syntax for specifying the symbol a module is bound to upon import, and for importing only some specific symbols.\n",
    "\n",
    "```python\n",
    "import numpy        # import\n",
    "import numpy as np  # import and bind to a custom symbol `np`\n",
    "from numpy import abs # import only `numpy.abs`, bind it to `abs`\n",
    "from numpy import abs as abs2 # import only `numpy.abs`, bind it to `abs2`\n",
    "```"
   ]
  },
  {
   "cell_type": "markdown",
   "id": "1b998fbe",
   "metadata": {},
   "source": [
    "If you’re looking for the Python equivalent of R’s `library()`, which makes all of a package’s exported symbols available, it might be using import with a `*` wildcard, though it’s relatively uncommon to do so. The `*` wildcard will expand to include all the symbols in module, or all the symbols listed in `__all__`, if it is defined.\n",
    "\n",
    "```python\n",
    "from numpy import *\n",
    "```\n",
    "\n",
    "Python doesn’t make a distinction like R does between package exported and internal symbols. In Python, all module symbols are equal, though there is the naming convention that intended-to-be-internal symbols are prefixed with a single leading underscore. (Two leading underscores invoke an advanced language feature called “name mangling”, which is outside the scope of this introduction)"
   ]
  },
  {
   "cell_type": "markdown",
   "id": "cb066234",
   "metadata": {},
   "source": [
    "## Integers and Floats\n",
    "\n",
    "R users generally don’t need to be aware of the difference between integers and floating point numbers, but that’s not the case in Python. If this is your first exposure to numeric data types, here are the essentials:\n",
    "\n",
    "- integer types can only represent whole numbers like `1` or `2`, not floating point numbers like `1.2`.\n",
    "\n",
    "- floating-point types can represent any number, but with some degree of imprecision.\n",
    "\n",
    "In R, writing a bare literal number like `12` produces a floating point type, whereas in Python, it produces an integer. You can produce an integer literal in R by appending an `L`, as in `12L`. Many Python functions expect integers, and will error when provided a float."
   ]
  },
  {
   "cell_type": "markdown",
   "id": "1b53bc5e",
   "metadata": {},
   "source": [
    "## What about R vectors?\n",
    "\n",
    "R is a language designed for numerical computing first. Numeric vector data types are baked deep into the R language, to the point that the language doesn’t even distinguish scalars from vectors. By comparison, numerical computing capabilities in Python are generally provided by third party packages (modules, in Python parlance).\n",
    "\n",
    "In Python, the `numpy` module is most commonly used to handle contiguous arrays of data. The closest equivalent to an R numeric vector is a numpy array, or sometimes, a list of scalar numbers (some Pythonistas might argue for array.array() here, but that’s so rarely encountered in actual Python code we don’t mention it further).\n",
    "\n",
    "Teaching the NumPy interface is beyond the scope of this primer, but it’s worth pointing out some potential tripping hazards for users accustomed to R arrays:\n",
    "\n",
    "- When indexing into multidimensional numpy arrays, trailing dimensions can be omitted and are implicitly treated as missing. The consequence is that iterating over arrays means iterating over the first dimension. For example, this iterates over the rows of a matrix.\n"
   ]
  },
  {
   "cell_type": "code",
   "execution_count": null,
   "id": "374598e6",
   "metadata": {},
   "outputs": [],
   "source": [
    "import numpy as np\n",
    "m = np.arange(12).reshape((3,4))\n",
    "m"
   ]
  },
  {
   "cell_type": "code",
   "execution_count": null,
   "id": "bba8ad6e",
   "metadata": {},
   "outputs": [],
   "source": [
    "m[0, :] # first row"
   ]
  },
  {
   "cell_type": "code",
   "execution_count": null,
   "id": "9cd9b80c",
   "metadata": {},
   "outputs": [],
   "source": [
    "m[0]    # also first row"
   ]
  },
  {
   "cell_type": "code",
   "execution_count": null,
   "id": "517e7d68",
   "metadata": {},
   "outputs": [],
   "source": [
    "for row in m:\n",
    "  print(row)"
   ]
  },
  {
   "cell_type": "markdown",
   "id": "37e26b3e",
   "metadata": {},
   "source": [
    "- Many numpy operations modify the array in place! This is surprising to R users, who are used to the convenience and safety of R’s copy-on-modify semantics. Unfortunately, there is no simple scheme or naming convention you can rely on to quickly determine if a particular method modifies in-place or creates a new array copy. The only reliable way is to consult the [documentation](https://numpy.org/doc/stable/reference/index.html#reference)"
   ]
  },
  {
   "cell_type": "markdown",
   "id": "f2523209",
   "metadata": {},
   "source": [
    "This is a shorter version of the primer available [here](https://rstudio.github.io/reticulate/articles/python_primer.html)"
   ]
  }
 ],
 "metadata": {
  "kernelspec": {
   "display_name": "Python 3 (ipykernel)",
   "language": "python",
   "name": "python3"
  },
  "language_info": {
   "codemirror_mode": {
    "name": "ipython",
    "version": 3
   },
   "file_extension": ".py",
   "mimetype": "text/x-python",
   "name": "python",
   "nbconvert_exporter": "python",
   "pygments_lexer": "ipython3",
   "version": "3.9.13"
  }
 },
 "nbformat": 4,
 "nbformat_minor": 5
}
