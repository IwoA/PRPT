{
 "cells": [
  {
   "cell_type": "markdown",
   "id": "7d9ea6e9-8f67-4fe1-8542-318025ff0bf0",
   "metadata": {},
   "source": [
    "# Introduction to Numpy"
   ]
  },
  {
   "cell_type": "markdown",
   "id": "f31d3263-7b30-4ddf-9342-be48afb14f01",
   "metadata": {},
   "source": [
    "NumPy is a first-rate library for numerical programming\n",
    "\n",
    "- Widely used in academia, finance and industry.\n",
    "\n",
    "- Mature, fast, stable and under continuous development.\n"
   ]
  },
  {
   "cell_type": "markdown",
   "id": "9aad40c3-cd90-44ed-b28e-69324000b27b",
   "metadata": {},
   "source": [
    "NumPy arrays are faster and more compact than Python lists. An array consumes less memory and is convenient to use. NumPy uses much less memory to store data and it provides a mechanism of specifying the data types. This allows the code to be optimized even further.\n",
    "\n",
    "The most important structure that NumPy defines is an array data type formally called a numpy.ndarray.\n",
    "\n",
    "NumPy arrays power a large proportion of the scientific Python ecosystem.\n",
    "\n",
    "Let’s first import the library."
   ]
  },
  {
   "cell_type": "code",
   "execution_count": 1,
   "id": "ab0ffd41-e753-47be-ad9e-995b8ed974c4",
   "metadata": {},
   "outputs": [],
   "source": [
    "import numpy as np"
   ]
  },
  {
   "cell_type": "markdown",
   "id": "87a94826-6f2d-4aa4-90df-321e3ccec868",
   "metadata": {},
   "source": [
    "To create a NumPy array containing only zeros we use np.zeros"
   ]
  },
  {
   "cell_type": "code",
   "execution_count": 3,
   "id": "666749fb-eed5-442a-b3ef-edad187ab0cc",
   "metadata": {},
   "outputs": [
    {
     "data": {
      "text/plain": [
       "array([0., 0., 0.])"
      ]
     },
     "execution_count": 3,
     "metadata": {},
     "output_type": "execute_result"
    }
   ],
   "source": [
    "a = np.zeros(3)\n",
    "a"
   ]
  },
  {
   "cell_type": "code",
   "execution_count": 4,
   "id": "75e447a3-ebdb-42b3-9c12-f97e43ef2e09",
   "metadata": {},
   "outputs": [
    {
     "data": {
      "text/plain": [
       "numpy.ndarray"
      ]
     },
     "execution_count": 4,
     "metadata": {},
     "output_type": "execute_result"
    }
   ],
   "source": [
    "type(a)"
   ]
  },
  {
   "cell_type": "markdown",
   "id": "5b9e21a1-142e-479d-b3ef-541fd4f70de0",
   "metadata": {},
   "source": [
    "It is possible to create an array filled with 1’s:"
   ]
  },
  {
   "cell_type": "code",
   "execution_count": 5,
   "id": "9d6b43a9-0ec4-40ff-8ba6-3c2cf53d1422",
   "metadata": {},
   "outputs": [
    {
     "data": {
      "text/plain": [
       "array([1., 1., 1.])"
      ]
     },
     "execution_count": 5,
     "metadata": {},
     "output_type": "execute_result"
    }
   ],
   "source": [
    "np.ones(3)"
   ]
  },
  {
   "cell_type": "markdown",
   "id": "c7818dd1-22b2-4ae6-ae90-6c4d098234dd",
   "metadata": {},
   "source": [
    "You can create an array with a range of elements:"
   ]
  },
  {
   "cell_type": "code",
   "execution_count": 7,
   "id": "96c3fd20-b721-482a-adef-db874069a72b",
   "metadata": {},
   "outputs": [
    {
     "data": {
      "text/plain": [
       "array([0, 1, 2, 3])"
      ]
     },
     "execution_count": 7,
     "metadata": {},
     "output_type": "execute_result"
    }
   ],
   "source": [
    "np.arange(4)"
   ]
  },
  {
   "cell_type": "markdown",
   "id": "bb2dbbe2-d380-4b93-a2ab-e7834c2708d9",
   "metadata": {},
   "source": [
    "And even an array that contains a range of evenly spaced intervals. To do this, you will specify the first number, last number, and how many elements you need."
   ]
  },
  {
   "cell_type": "code",
   "execution_count": 10,
   "id": "cc878163-140a-40d3-a831-074b739abb7d",
   "metadata": {},
   "outputs": [
    {
     "data": {
      "text/plain": [
       "array([ 0. ,  2.5,  5. ,  7.5, 10. ])"
      ]
     },
     "execution_count": 10,
     "metadata": {},
     "output_type": "execute_result"
    }
   ],
   "source": [
    "np.linspace(0, 10, 5)"
   ]
  },
  {
   "cell_type": "code",
   "execution_count": 15,
   "id": "e60013b9-f449-4c91-b34a-0fc95ad8f2b7",
   "metadata": {},
   "outputs": [
    {
     "data": {
      "text/plain": [
       "5"
      ]
     },
     "execution_count": 15,
     "metadata": {},
     "output_type": "execute_result"
    }
   ],
   "source": [
    "a = np.linspace(0, 10, 5)\n",
    "a.size"
   ]
  },
  {
   "cell_type": "markdown",
   "id": "bebab15c-ba90-4f99-96f7-71454e235bdc",
   "metadata": {},
   "source": [
    "NumPy arrays are somewhat like native Python lists, except that\n",
    "\n",
    "- Data must be homogeneous (all elements of the same type).\n",
    "\n",
    "- These types must be one of the data types (dtypes) provided by NumPy.\n",
    "\n",
    "The most important of these dtypes are:\n",
    "\n",
    "-  float64: 64 bit floating-point number\n",
    "\n",
    "- int64: 64 bit integer\n",
    "\n",
    "-  bool: 8 bit True or False\n",
    "\n",
    "There are also dtypes to represent complex numbers, unsigned integers, etc.\n",
    "\n",
    "On modern machines, the default dtype for arrays is `float64`"
   ]
  },
  {
   "cell_type": "code",
   "execution_count": 16,
   "id": "37574693-0be1-4e4d-863a-9f6620d461ec",
   "metadata": {},
   "outputs": [
    {
     "data": {
      "text/plain": [
       "numpy.float64"
      ]
     },
     "execution_count": 16,
     "metadata": {},
     "output_type": "execute_result"
    }
   ],
   "source": [
    "a = np.zeros(3)\n",
    "type(a[0])"
   ]
  },
  {
   "cell_type": "markdown",
   "id": "0b959c75-a16c-4d6b-91f9-68b1418b541e",
   "metadata": {},
   "source": [
    "If we want to use integers we can specify as follows:"
   ]
  },
  {
   "cell_type": "code",
   "execution_count": 17,
   "id": "1734b7cc-0711-4325-8aa5-ba59e50befcc",
   "metadata": {},
   "outputs": [
    {
     "data": {
      "text/plain": [
       "numpy.int32"
      ]
     },
     "execution_count": 17,
     "metadata": {},
     "output_type": "execute_result"
    }
   ],
   "source": [
    "a = np.zeros(3, dtype=int)\n",
    "type(a[0])"
   ]
  },
  {
   "cell_type": "markdown",
   "id": "fff119ad-a65d-4e75-ad69-0251f2ac2e44",
   "metadata": {},
   "source": [
    "Numpy arrays have following attributes:"
   ]
  },
  {
   "cell_type": "code",
   "execution_count": 31,
   "id": "9a8ab98b-449a-4866-ad6d-e78f5a9d1766",
   "metadata": {},
   "outputs": [
    {
     "name": "stdout",
     "output_type": "stream",
     "text": [
      "ndim:  1\n",
      "shape:  (6,)\n",
      "size:  6\n",
      "dtype:  float64\n"
     ]
    }
   ],
   "source": [
    "a = np.linspace(0, 10, 6)\n",
    "\n",
    "print(\"ndim: \", a.ndim) # number of dimensions\n",
    "print(\"shape: \", a.shape) # shape of array. Useful for more than 2D arrays.\n",
    "print(\"size: \", a.size) # number of elements\n",
    "print(\"dtype: \", a.dtype) # type of elements"
   ]
  },
  {
   "cell_type": "markdown",
   "id": "8fe07afd-5a0c-4549-bfe8-379d6864e8fc",
   "metadata": {},
   "source": [
    "You can change dimensions of an array modifying its shape:"
   ]
  },
  {
   "cell_type": "code",
   "execution_count": 32,
   "id": "29cf5bdd-e1eb-4d4c-a7c4-97101f3eefa4",
   "metadata": {},
   "outputs": [
    {
     "data": {
      "text/plain": [
       "array([ 0.,  2.,  4.,  6.,  8., 10.])"
      ]
     },
     "execution_count": 32,
     "metadata": {},
     "output_type": "execute_result"
    }
   ],
   "source": [
    "# Before\n",
    "a"
   ]
  },
  {
   "cell_type": "code",
   "execution_count": 33,
   "id": "c21738af-4f1c-4643-94d1-3b7308729e8e",
   "metadata": {},
   "outputs": [
    {
     "data": {
      "text/plain": [
       "array([[ 0.,  2.,  4.],\n",
       "       [ 6.,  8., 10.]])"
      ]
     },
     "execution_count": 33,
     "metadata": {},
     "output_type": "execute_result"
    }
   ],
   "source": [
    "# After\n",
    "a.shape = (2,3)\n",
    "a"
   ]
  },
  {
   "cell_type": "markdown",
   "id": "dc8b79be-75b3-4fcc-9eb0-b71d5248bb1e",
   "metadata": {},
   "source": [
    "As you can see ndarrays are **mutable** and now our `a` array is different than before!"
   ]
  },
  {
   "cell_type": "markdown",
   "id": "75b2f93d-5118-4bd3-a5e8-67551ad51271",
   "metadata": {},
   "source": [
    "In addition, NumPy arrays can be created from Python lists, tuples, etc. using `np.array`"
   ]
  },
  {
   "cell_type": "code",
   "execution_count": 55,
   "id": "c41a2a00-b908-482e-9926-cce79126340a",
   "metadata": {},
   "outputs": [
    {
     "name": "stdout",
     "output_type": "stream",
     "text": [
      "From list:  [10 20]\n",
      "From tuple:  [10 20]\n"
     ]
    }
   ],
   "source": [
    "print(\"From list: \", np.array([10, 20]) ) \n",
    "print(\"From tuple: \", np.array((10, 20)) ) "
   ]
  },
  {
   "cell_type": "code",
   "execution_count": 56,
   "id": "b64d9df7-3d8b-4b8b-b029-46e370c44217",
   "metadata": {},
   "outputs": [
    {
     "data": {
      "text/plain": [
       "array([[1, 2],\n",
       "       [3, 4]])"
      ]
     },
     "execution_count": 56,
     "metadata": {},
     "output_type": "execute_result"
    }
   ],
   "source": [
    "z = np.array([[1, 2], [3, 4]])         # 2D array from a list of lists\n",
    "z"
   ]
  },
  {
   "cell_type": "markdown",
   "id": "f15c6e25-a8de-40e3-97a5-de819c52d275",
   "metadata": {},
   "source": [
    "See also `np.asarray`, which performs a similar function, but does not make a distinct copy of data already in a NumPy array."
   ]
  },
  {
   "cell_type": "code",
   "execution_count": 57,
   "id": "27d71423-cb6c-4dc1-a06f-4fc38a7a0835",
   "metadata": {},
   "outputs": [
    {
     "data": {
      "text/plain": [
       "True"
      ]
     },
     "execution_count": 57,
     "metadata": {},
     "output_type": "execute_result"
    }
   ],
   "source": [
    "na = np.linspace(10, 20, 2)\n",
    "na is np.asarray(na)   # Does not copy NumPy arrays"
   ]
  },
  {
   "cell_type": "code",
   "execution_count": 58,
   "id": "4b8c527e-94fd-4058-88d0-1ffc8c22a53a",
   "metadata": {},
   "outputs": [
    {
     "data": {
      "text/plain": [
       "False"
      ]
     },
     "execution_count": 58,
     "metadata": {},
     "output_type": "execute_result"
    }
   ],
   "source": [
    "na is np.array(na)     # Does make a new copy --- perhaps unnecessarily"
   ]
  },
  {
   "cell_type": "markdown",
   "id": "a502772b-f7e9-436c-8024-862e0ccea5c6",
   "metadata": {},
   "source": [
    "## Array indexing"
   ]
  },
  {
   "cell_type": "markdown",
   "id": "ad5e1718-80b3-4555-ba3e-1a49b6f1c16f",
   "metadata": {},
   "source": [
    "For a flat array, indexing is the same as Python sequences:"
   ]
  },
  {
   "cell_type": "code",
   "execution_count": 59,
   "id": "43289026-74ce-4ced-9d92-0148f62e1800",
   "metadata": {},
   "outputs": [
    {
     "data": {
      "text/plain": [
       "array([ 0.,  2.,  4.,  6.,  8., 10.])"
      ]
     },
     "execution_count": 59,
     "metadata": {},
     "output_type": "execute_result"
    }
   ],
   "source": [
    "a = np.linspace(0, 10, 6)\n",
    "a"
   ]
  },
  {
   "cell_type": "code",
   "execution_count": 60,
   "id": "2a3a7369-9a3a-4ee3-8f75-46caf6c88974",
   "metadata": {},
   "outputs": [
    {
     "data": {
      "text/plain": [
       "numpy.ndarray"
      ]
     },
     "execution_count": 60,
     "metadata": {},
     "output_type": "execute_result"
    }
   ],
   "source": [
    "type(a)"
   ]
  },
  {
   "cell_type": "code",
   "execution_count": 61,
   "id": "a3c8558b-f7c4-42fb-a567-28b38c224bb9",
   "metadata": {},
   "outputs": [
    {
     "data": {
      "text/plain": [
       "0.0"
      ]
     },
     "execution_count": 61,
     "metadata": {},
     "output_type": "execute_result"
    }
   ],
   "source": [
    "a[0]"
   ]
  },
  {
   "cell_type": "code",
   "execution_count": 62,
   "id": "a0d14d9e-4823-484f-abda-c562a34878ed",
   "metadata": {},
   "outputs": [
    {
     "data": {
      "text/plain": [
       "array([0., 2.])"
      ]
     },
     "execution_count": 62,
     "metadata": {},
     "output_type": "execute_result"
    }
   ],
   "source": [
    "a[0:2]  # Two elements, starting at element 0"
   ]
  },
  {
   "cell_type": "code",
   "execution_count": 63,
   "id": "51649518-d3d8-4471-ae88-7013be6cbfb2",
   "metadata": {},
   "outputs": [
    {
     "data": {
      "text/plain": [
       "10.0"
      ]
     },
     "execution_count": 63,
     "metadata": {},
     "output_type": "execute_result"
    }
   ],
   "source": [
    "a[-1]"
   ]
  },
  {
   "cell_type": "markdown",
   "id": "b99e4102-9488-4048-930c-6d3f2933e27d",
   "metadata": {},
   "source": [
    "For 2D arrays the index syntax is as follows:"
   ]
  },
  {
   "cell_type": "code",
   "execution_count": 64,
   "id": "75399457-be54-4c9a-944b-d9743187c954",
   "metadata": {},
   "outputs": [
    {
     "data": {
      "text/plain": [
       "array([[1, 2],\n",
       "       [3, 4]])"
      ]
     },
     "execution_count": 64,
     "metadata": {},
     "output_type": "execute_result"
    }
   ],
   "source": [
    "z = np.array([[1, 2], [3, 4]])\n",
    "z"
   ]
  },
  {
   "cell_type": "code",
   "execution_count": 68,
   "id": "4af625c7-6aa1-4a0e-9190-1e593cb6050e",
   "metadata": {},
   "outputs": [
    {
     "name": "stdout",
     "output_type": "stream",
     "text": [
      "1\n",
      "2\n",
      "3\n",
      "4\n"
     ]
    }
   ],
   "source": [
    "print(z[0, 0])\n",
    "print(z[0, 1])\n",
    "print(z[1, 0])\n",
    "print(z[1, 1])"
   ]
  },
  {
   "cell_type": "markdown",
   "id": "1cbb1ce1-a84c-4472-9f7f-0cfbb4988e66",
   "metadata": {},
   "source": [
    "Note that indices are still zero-based, to maintain compatibility with Python sequences.\n",
    "\n",
    "Columns and rows can be extracted as follows:"
   ]
  },
  {
   "cell_type": "code",
   "execution_count": 72,
   "id": "a5508a85-f87e-480b-9b49-f1f7e638dd4c",
   "metadata": {},
   "outputs": [
    {
     "name": "stdout",
     "output_type": "stream",
     "text": [
      "Row 1:     [1 2]\n",
      "Column 2:  [2 4]\n"
     ]
    }
   ],
   "source": [
    "print(\"Row 1:    \", z[0, :])\n",
    "print(\"Column 2: \", z[: , 1])"
   ]
  },
  {
   "cell_type": "code",
   "execution_count": null,
   "id": "451dfca9-0282-43c7-a683-29c18731d8a9",
   "metadata": {},
   "outputs": [],
   "source": [
    "# Use code above to print second row and first column\n",
    "\n"
   ]
  },
  {
   "cell_type": "markdown",
   "id": "aec096d2-b8dd-4991-b183-bf1da1c83a0d",
   "metadata": {},
   "source": [
    "NumPy arrays of integers can also be used to extract elements:"
   ]
  },
  {
   "cell_type": "code",
   "execution_count": 73,
   "id": "f39291f8-15a5-453f-819a-5b01bcf72f83",
   "metadata": {},
   "outputs": [
    {
     "data": {
      "text/plain": [
       "array([ 0.,  2.,  4.,  6.,  8., 10.])"
      ]
     },
     "execution_count": 73,
     "metadata": {},
     "output_type": "execute_result"
    }
   ],
   "source": [
    "a = np.linspace(0, 10, 6)\n",
    "a"
   ]
  },
  {
   "cell_type": "code",
   "execution_count": 74,
   "id": "a7d45e56-1c80-4431-b872-842d9c88bd9a",
   "metadata": {},
   "outputs": [
    {
     "data": {
      "text/plain": [
       "array([0., 4., 6.])"
      ]
     },
     "execution_count": 74,
     "metadata": {},
     "output_type": "execute_result"
    }
   ],
   "source": [
    "indices = np.array((0, 2, 3))\n",
    "a[indices]"
   ]
  },
  {
   "cell_type": "markdown",
   "id": "8822ceea-34a9-48c5-89a5-27afbb35c2e9",
   "metadata": {},
   "source": [
    "If you want to select values from your array that fulfill certain conditions, it’s straightforward with NumPy."
   ]
  },
  {
   "cell_type": "code",
   "execution_count": 77,
   "id": "8c157623-826a-4fd7-b2e5-91562d942c2c",
   "metadata": {},
   "outputs": [
    {
     "data": {
      "text/plain": [
       "array([1, 2, 3, 4])"
      ]
     },
     "execution_count": 77,
     "metadata": {},
     "output_type": "execute_result"
    }
   ],
   "source": [
    "a = np.array([[1 , 2, 3, 4], [5, 6, 7, 8], [9, 10, 11, 12]])\n",
    "\n",
    "# You can easily print all of the values in the array that are less than 5.\n",
    "a[a < 5]"
   ]
  },
  {
   "cell_type": "code",
   "execution_count": 81,
   "id": "5ca1986b-8378-46e4-a9c0-0e192435fee7",
   "metadata": {},
   "outputs": [
    {
     "name": "stdout",
     "output_type": "stream",
     "text": [
      "[ 5  6  7  8  9 10 11 12]\n"
     ]
    }
   ],
   "source": [
    "# You can also select, for example, numbers that are equal to or greater than 5, and use that condition to index an array.\n",
    "\n",
    "five_up = (a >= 5)\n",
    "print(a[five_up])"
   ]
  },
  {
   "cell_type": "markdown",
   "id": "03e83ad8-2333-4f55-8804-c697500723b8",
   "metadata": {},
   "source": [
    "In first step a bolean array is created:"
   ]
  },
  {
   "cell_type": "code",
   "execution_count": 82,
   "id": "262b2559-0e05-46b6-80c3-8bc7f7f1bc52",
   "metadata": {},
   "outputs": [
    {
     "data": {
      "text/plain": [
       "array([[False, False, False, False],\n",
       "       [ True,  True,  True,  True],\n",
       "       [ True,  True,  True,  True]])"
      ]
     },
     "execution_count": 82,
     "metadata": {},
     "output_type": "execute_result"
    }
   ],
   "source": [
    "five_up"
   ]
  },
  {
   "cell_type": "markdown",
   "id": "fc492914-db93-4f29-8cb3-5b0d0e3e4543",
   "metadata": {},
   "source": [
    "And then it is used as a mask to select required values.\n",
    "\n",
    "This way you can select elements that satisfy two conditions using the `&` and `|` operators:"
   ]
  },
  {
   "cell_type": "code",
   "execution_count": 83,
   "id": "ade92cbb-0ab9-4714-9f0f-cd1d0df51391",
   "metadata": {},
   "outputs": [
    {
     "data": {
      "text/plain": [
       "array([ 3,  4,  5,  6,  7,  8,  9, 10])"
      ]
     },
     "execution_count": 83,
     "metadata": {},
     "output_type": "execute_result"
    }
   ],
   "source": [
    "a[(a > 2) & (a < 11)]"
   ]
  },
  {
   "cell_type": "markdown",
   "id": "ea9e2284-5d1e-4d52-b4b3-8f7ef75cb6d7",
   "metadata": {},
   "source": [
    "An aside: all elements of an array can be set equal to one number using slice notation:"
   ]
  },
  {
   "cell_type": "code",
   "execution_count": 84,
   "id": "603a9417-9f1e-4156-8dfc-a2c338d45c4b",
   "metadata": {},
   "outputs": [
    {
     "data": {
      "text/plain": [
       "array([0., 4., 6.])"
      ]
     },
     "execution_count": 84,
     "metadata": {},
     "output_type": "execute_result"
    }
   ],
   "source": [
    "a = np.empty(3)\n",
    "a"
   ]
  },
  {
   "cell_type": "code",
   "execution_count": 85,
   "id": "ebcde853-9142-4adb-8b31-28fd4bb31772",
   "metadata": {},
   "outputs": [
    {
     "data": {
      "text/plain": [
       "array([5., 5., 6.])"
      ]
     },
     "execution_count": 85,
     "metadata": {},
     "output_type": "execute_result"
    }
   ],
   "source": [
    "a[:2] = 5\n",
    "a"
   ]
  },
  {
   "cell_type": "code",
   "execution_count": 87,
   "id": "5d907405-336e-4d4f-afb6-d8f37762eafd",
   "metadata": {},
   "outputs": [
    {
     "data": {
      "text/plain": [
       "array([-9., -9., -9.])"
      ]
     },
     "execution_count": 87,
     "metadata": {},
     "output_type": "execute_result"
    }
   ],
   "source": [
    "a[:] = -9\n",
    "a"
   ]
  },
  {
   "cell_type": "markdown",
   "id": "c0c94246-609d-430c-93fd-90006324074e",
   "metadata": {},
   "source": [
    "## Array methods\n",
    "\n",
    "Arrays have useful methods, all of which are carefully optimized"
   ]
  },
  {
   "cell_type": "code",
   "execution_count": 98,
   "id": "6376e103-b70c-49bf-b564-4eeacba5b01d",
   "metadata": {},
   "outputs": [
    {
     "name": "stdout",
     "output_type": "stream",
     "text": [
      "a:  [3 4 2 1]\n",
      "a sorted:  [1 2 3 4]\n",
      "Sum:  10\n",
      "Mean:  2.5\n",
      "Max:  4\n",
      "Index of the maximal element:  3\n",
      "Cumulative sum:  [ 1  3  6 10]\n",
      "Cumulative product:  [ 1  2  6 24]\n",
      "Variance:  1.25\n",
      "Standard deviation:  1.118033988749895\n"
     ]
    }
   ],
   "source": [
    "a = np.array((3, 4, 2, 1))\n",
    "\n",
    "print(\"a: \",a)\n",
    "a.sort()\n",
    "print(\"a sorted: \", a )\n",
    "print(\"Sum: \", a.sum() )\n",
    "print(\"Mean: \", a.mean() )\n",
    "print(\"Max: \", a.max() )\n",
    "print(\"Index of the maximal element: \", a.argmax() )\n",
    "print(\"Cumulative sum: \", a.cumsum() )\n",
    "print(\"Cumulative product: \", a.cumprod() )\n",
    "print(\"Variance: \", a.var() )\n",
    "print(\"Standard deviation: \", a.std() )"
   ]
  },
  {
   "cell_type": "markdown",
   "id": "44138b16-b5ea-4848-b4d3-88461b5a54d7",
   "metadata": {},
   "source": [
    "Many of the methods discussed above have equivalent functions in the NumPy namespace:"
   ]
  },
  {
   "cell_type": "code",
   "execution_count": 99,
   "id": "2bb0b696-4d02-4bcc-9e94-adfa736a1c7a",
   "metadata": {},
   "outputs": [
    {
     "name": "stdout",
     "output_type": "stream",
     "text": [
      "10\n",
      "2.5\n"
     ]
    }
   ],
   "source": [
    "print(np.sum(a))\n",
    "print(np.mean(a))"
   ]
  },
  {
   "cell_type": "code",
   "execution_count": 108,
   "id": "763d302e-3488-4e45-b4f9-4f73c201c73d",
   "metadata": {
    "tags": []
   },
   "outputs": [
    {
     "data": {
      "text/plain": [
       "array([ 1.62434536, -0.61175641, -0.52817175, -1.07296862,  0.86540763,\n",
       "       -2.3015387 ,  1.74481176, -0.7612069 ,  0.3190391 , -0.24937038,\n",
       "        1.46210794])"
      ]
     },
     "execution_count": 108,
     "metadata": {},
     "output_type": "execute_result"
    }
   ],
   "source": [
    "np.random.seed(1)\n",
    "stock = np.random.randn(300)\n",
    "stock[:11]"
   ]
  },
  {
   "cell_type": "code",
   "execution_count": 111,
   "id": "37ef0a1d-2a0e-4bd8-9346-12d73e18a5d0",
   "metadata": {},
   "outputs": [
    {
     "data": {
      "text/plain": [
       "array([22.1144306 , 22.05760612, 22.54994267, 21.86926453, 21.7847565 ,\n",
       "       21.48739462, 21.90469663, 22.68946728, 21.73404201, 22.31995245])"
      ]
     },
     "execution_count": 111,
     "metadata": {},
     "output_type": "execute_result"
    }
   ],
   "source": [
    "rr = stock.cumsum()\n",
    "rr[-10:]"
   ]
  },
  {
   "cell_type": "markdown",
   "id": "7687872b-cd5c-49dd-adc8-436a009504bf",
   "metadata": {},
   "source": [
    "## Arithmetic Operations"
   ]
  },
  {
   "cell_type": "markdown",
   "id": "1fa429df-e438-41b4-8bf0-a60757befa1b",
   "metadata": {},
   "source": [
    "The operators `+`, `-`, `*`, `/` and `**` all act *elementwise*"
   ]
  },
  {
   "cell_type": "code",
   "execution_count": 116,
   "id": "0875c463-cdc5-43ee-89d2-fef46bd80be8",
   "metadata": {},
   "outputs": [
    {
     "name": "stdout",
     "output_type": "stream",
     "text": [
      "[ 6  8 10 12]\n",
      "[ 5 12 21 32]\n",
      "[11 12 13 14]\n",
      "[10 20 30 40]\n"
     ]
    }
   ],
   "source": [
    "a = np.array([1, 2, 3, 4])\n",
    "b = np.array([5, 6, 7, 8])\n",
    "print(a + b)\n",
    "print(a * b)\n",
    "print(a + 10)\n",
    "print(a * 10)"
   ]
  },
  {
   "cell_type": "markdown",
   "id": "7959598f-6f30-42b6-8534-464216fd8ba9",
   "metadata": {},
   "source": [
    "The two-dimensional arrays follow the same general rules"
   ]
  },
  {
   "cell_type": "code",
   "execution_count": 118,
   "id": "e8dbf55e-2cc5-4f53-aa68-069412003c38",
   "metadata": {},
   "outputs": [
    {
     "name": "stdout",
     "output_type": "stream",
     "text": [
      "[[1. 1.]\n",
      " [1. 1.]]\n",
      "[[1. 1.]\n",
      " [1. 1.]]\n"
     ]
    }
   ],
   "source": [
    "A = np.ones((2, 2))\n",
    "B = np.ones((2, 2))\n",
    "print(A)\n",
    "print(B)"
   ]
  },
  {
   "cell_type": "code",
   "execution_count": 119,
   "id": "64453120-5b0f-4485-801c-98b2f464ef59",
   "metadata": {},
   "outputs": [
    {
     "name": "stdout",
     "output_type": "stream",
     "text": [
      "[[2. 2.]\n",
      " [2. 2.]]\n",
      "[[11. 11.]\n",
      " [11. 11.]]\n",
      "[[1. 1.]\n",
      " [1. 1.]]\n"
     ]
    }
   ],
   "source": [
    "print(A+B)\n",
    "print(A+10)\n",
    "print(A*B) # In particular, A * B is not the matrix product, it is an element-wise product."
   ]
  },
  {
   "cell_type": "markdown",
   "id": "fd0c5af7-67af-4cac-9128-e33b3bd256c8",
   "metadata": {},
   "source": [
    "## Expressing Conditional Logic as Array Operations"
   ]
  },
  {
   "cell_type": "markdown",
   "id": "252ea342-e83e-49de-96ad-1c8b61feb886",
   "metadata": {},
   "source": [
    "The `numpy.where` function is a vectorized version of the ternary expression `x if condition else y`\n",
    "\n",
    "A typical use of where in data analysis is to produce a new array of values based on another array. Suppose you had a matrix of randomly generated data and you wanted to replace all positive values with 2 and all negative values with –2. This is possible to do with `numpy.where`:"
   ]
  },
  {
   "cell_type": "code",
   "execution_count": 122,
   "id": "938392d9-2e76-4b38-808f-f5c113af9e48",
   "metadata": {},
   "outputs": [
    {
     "data": {
      "text/plain": [
       "array([[ 2.06578332, -1.47115693, -0.8301719 , -0.8805776 ],\n",
       "       [-0.27909772,  1.62284909,  0.01335268, -0.6946936 ],\n",
       "       [ 0.6218035 , -0.59980453,  1.12341216,  0.30526704],\n",
       "       [ 1.3887794 , -0.66134424,  3.03085711,  0.82458463]])"
      ]
     },
     "execution_count": 122,
     "metadata": {},
     "output_type": "execute_result"
    }
   ],
   "source": [
    "arr = np.random.standard_normal((4, 4))\n",
    "\n",
    "arr"
   ]
  },
  {
   "cell_type": "code",
   "execution_count": 123,
   "id": "ac04c376-4315-4907-b7aa-121d8d4c7a87",
   "metadata": {},
   "outputs": [
    {
     "data": {
      "text/plain": [
       "array([[ True, False, False, False],\n",
       "       [False,  True,  True, False],\n",
       "       [ True, False,  True,  True],\n",
       "       [ True, False,  True,  True]])"
      ]
     },
     "execution_count": 123,
     "metadata": {},
     "output_type": "execute_result"
    }
   ],
   "source": [
    "arr > 0"
   ]
  },
  {
   "cell_type": "code",
   "execution_count": 124,
   "id": "41782bfa-08f1-4148-acea-be62584cf2df",
   "metadata": {},
   "outputs": [
    {
     "data": {
      "text/plain": [
       "array([[ 2, -2, -2, -2],\n",
       "       [-2,  2,  2, -2],\n",
       "       [ 2, -2,  2,  2],\n",
       "       [ 2, -2,  2,  2]])"
      ]
     },
     "execution_count": 124,
     "metadata": {},
     "output_type": "execute_result"
    }
   ],
   "source": [
    "np.where(arr > 0, 2, -2)"
   ]
  },
  {
   "cell_type": "markdown",
   "id": "4d26b1df-7c18-4709-8de3-09fe02a9d520",
   "metadata": {},
   "source": [
    "You can combine scalars and arrays when using `numpy.where`. For example, I can replace all positive values in arr with the constant 2, like so:"
   ]
  },
  {
   "cell_type": "code",
   "execution_count": 125,
   "id": "234e0ef6-ef65-453d-9b28-5c499c66fb5c",
   "metadata": {},
   "outputs": [
    {
     "data": {
      "text/plain": [
       "array([[ 2.        , -1.47115693, -0.8301719 , -0.8805776 ],\n",
       "       [-0.27909772,  2.        ,  2.        , -0.6946936 ],\n",
       "       [ 2.        , -0.59980453,  2.        ,  2.        ],\n",
       "       [ 2.        , -0.66134424,  2.        ,  2.        ]])"
      ]
     },
     "execution_count": 125,
     "metadata": {},
     "output_type": "execute_result"
    }
   ],
   "source": [
    "np.where(arr > 0, 2, arr) # set only positive values to 2"
   ]
  },
  {
   "cell_type": "markdown",
   "id": "9c60afd2-7120-43df-b65e-a1e994a7ddd7",
   "metadata": {},
   "source": [
    "NumPy has some basic set operations for one-dimensional ndarrays. A commonly used one is `numpy.unique`, which returns the sorted unique values in an array:"
   ]
  },
  {
   "cell_type": "code",
   "execution_count": 127,
   "id": "63aff7fd-d703-443c-9083-7d4884f2e0e6",
   "metadata": {},
   "outputs": [
    {
     "data": {
      "text/plain": [
       "array(['Bob', 'Joe', 'Will'], dtype='<U4')"
      ]
     },
     "execution_count": 127,
     "metadata": {},
     "output_type": "execute_result"
    }
   ],
   "source": [
    "names = np.array([\"Bob\", \"Will\", \"Joe\", \"Bob\", \"Will\", \"Joe\", \"Joe\"])\n",
    "np.unique(names)"
   ]
  },
  {
   "cell_type": "markdown",
   "id": "283810f3-d8c9-4de7-8261-3f6fbd32df12",
   "metadata": {},
   "source": [
    "ints = np.array([3, 3, 3, 2, 2, 1, 1, 4, 4])\n",
    "np.unique(ints)"
   ]
  },
  {
   "cell_type": "markdown",
   "id": "c2255115-4cea-42eb-ba93-afbc7cf91457",
   "metadata": {},
   "source": [
    "Other set operations:\n",
    "\n",
    "- `intersect1d(x, y)` - Compute the sorted, common elements in `x` and `y`\n",
    "\n",
    "- `union1d(x, y)` - Compute the sorted union of elements\n",
    "\n",
    "- `in1d(x, y)` - Compute a Boolean array indicating whether each element of `x` is contained in `y`\n",
    "\n",
    "- `setdiff1d(x, y)` - Set difference, elements in `x` that are not in `y`\n",
    "\n",
    "- `setxor1d(x, y)` - Set symmetric differences; elements that are in either of the arrays, but not both"
   ]
  },
  {
   "cell_type": "markdown",
   "id": "a1a307f8-6485-48e9-9981-207d06290084",
   "metadata": {},
   "source": [
    "### Adding and removing elements"
   ]
  },
  {
   "cell_type": "markdown",
   "id": "e42efa37-7b97-4e63-8c77-377f35108ab6",
   "metadata": {},
   "source": [
    "You can concatenate arrays with `np.concatenate()` (similar to `c()` in R)"
   ]
  },
  {
   "cell_type": "code",
   "execution_count": 131,
   "id": "b9998df5-1e27-4407-b086-937f01533924",
   "metadata": {},
   "outputs": [
    {
     "data": {
      "text/plain": [
       "array([1, 2, 3, 4, 5, 6, 7, 8])"
      ]
     },
     "execution_count": 131,
     "metadata": {},
     "output_type": "execute_result"
    }
   ],
   "source": [
    "a = np.array([1, 2, 3, 4])\n",
    "b = np.array([5, 6, 7, 8])\n",
    "\n",
    "np.concatenate((a, b)) # double brackets!!"
   ]
  },
  {
   "cell_type": "code",
   "execution_count": 137,
   "id": "8c6db047-6cb1-49bf-a0de-48f847242f8e",
   "metadata": {},
   "outputs": [
    {
     "data": {
      "text/plain": [
       "array([[1, 2],\n",
       "       [3, 4],\n",
       "       [5, 6],\n",
       "       [7, 8]])"
      ]
     },
     "execution_count": 137,
     "metadata": {},
     "output_type": "execute_result"
    }
   ],
   "source": [
    "x = np.array([[1, 2], [3, 4]])\n",
    "y = np.array([[5, 6], [7,8]])\n",
    "\n",
    "np.concatenate((x, y), axis=0)"
   ]
  },
  {
   "cell_type": "code",
   "execution_count": 138,
   "id": "d191a36c-b0f8-4872-89ba-9badfc504f2e",
   "metadata": {},
   "outputs": [
    {
     "data": {
      "text/plain": [
       "array([[1, 2, 5, 6],\n",
       "       [3, 4, 7, 8]])"
      ]
     },
     "execution_count": 138,
     "metadata": {},
     "output_type": "execute_result"
    }
   ],
   "source": [
    "np.concatenate((x, y), axis=1)"
   ]
  },
  {
   "cell_type": "markdown",
   "id": "d9f82199-7fdf-418c-a31a-038ef8af3b80",
   "metadata": {},
   "source": [
    "In order to remove elements from an array, it’s simple to use indexing to select the elements that you want to keep."
   ]
  }
 ],
 "metadata": {
  "kernelspec": {
   "display_name": "Python 3 (ipykernel)",
   "language": "python",
   "name": "python3"
  },
  "language_info": {
   "codemirror_mode": {
    "name": "ipython",
    "version": 3
   },
   "file_extension": ".py",
   "mimetype": "text/x-python",
   "name": "python",
   "nbconvert_exporter": "python",
   "pygments_lexer": "ipython3",
   "version": "3.9.13"
  }
 },
 "nbformat": 4,
 "nbformat_minor": 5
}
